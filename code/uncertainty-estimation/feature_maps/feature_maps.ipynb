{
 "cells": [
  {
   "cell_type": "code",
   "execution_count": 1,
   "metadata": {},
   "outputs": [
    {
     "name": "stderr",
     "output_type": "stream",
     "text": [
      "Using `tqdm.autonotebook.tqdm` in notebook mode. Use `tqdm.tqdm` instead to force console mode (e.g. in jupyter console)\n"
     ]
    }
   ],
   "source": [
    "import torch\n",
    "import numpy as np\n",
    "import matplotlib.pyplot as plt\n",
    "import os\n",
    "%matplotlib inline\n",
    "import SimpleITK as sitk\n",
    "import sys\n",
    "sys.path.insert(1, 'Z:/grodriguez/CardiacOCT/code/utils')\n",
    "from counts_utils import create_image_png\n",
    "import shap"
   ]
  },
  {
   "cell_type": "code",
   "execution_count": 2,
   "metadata": {},
   "outputs": [],
   "source": [
    "device = torch.device('cuda' if torch.cuda.is_available() else 'cpu')"
   ]
  },
  {
   "cell_type": "code",
   "execution_count": 3,
   "metadata": {},
   "outputs": [],
   "source": [
    "def get_features(task: int) -> dict:\n",
    "    \"\"\"Obtain feature maps for the selected frames\n",
    "\n",
    "    Args:\n",
    "        task (int): task corresponding to the model\n",
    "\n",
    "    Raises:\n",
    "        ValueError: task needs to be either 601 or 604\n",
    "\n",
    "    Returns:\n",
    "        dict: dict with {frame: [OCT frame, pred seg, features]}\n",
    "    \"\"\"    \n",
    "\n",
    "    features_path = r'Z:\\grodriguez\\CardiacOCT\\feature_maps'\n",
    "    features_path_list = os.listdir(features_path)\n",
    "\n",
    "    #Frame names that were selected to plot\n",
    "    frames = ['NLDAMPH0017_1_frame473_008', 'NLDAMPH0063_1_frame40_016', 'NLDISALA0084_1_frame59_041', 'NLDRADB0089_1_frame440_106']\n",
    "    \n",
    "    if task == 601:\n",
    "        rgb = [0,1,2]\n",
    "\n",
    "    elif task == 604:\n",
    "        rgb = [9,10,11]\n",
    "\n",
    "    else: raise ValueError\n",
    "\n",
    "    all_imgs = {}\n",
    "\n",
    "    count = 0\n",
    "    for file in range(len(features_path_list)):\n",
    "\n",
    "        if features_path_list[file].endswith(str('{}_v2'.format(task))):\n",
    "\n",
    "            print(features_path_list[file])\n",
    "\n",
    "            pred_seg = sitk.GetArrayFromImage(sitk.ReadImage(os.path.join(features_path, features_path_list[file], '{}.nii.gz'.format(frames[count]))))\n",
    "            frame_raw_r = sitk.GetArrayFromImage(sitk.ReadImage(r'Z:\\grodriguez\\CardiacOCT\\data-2d\\nnUNet_raw_data\\Task{}_CardiacOCT\\imagesTs\\{}_{}.nii.gz'.format(task, frames[count], \"%04d\" % (rgb[0]))))\n",
    "            frame_raw_g = sitk.GetArrayFromImage(sitk.ReadImage(r'Z:\\grodriguez\\CardiacOCT\\data-2d\\nnUNet_raw_data\\Task{}_CardiacOCT\\imagesTs\\{}_{}.nii.gz'.format(task, frames[count], \"%04d\" % (rgb[1]))))\n",
    "            frame_raw_b = sitk.GetArrayFromImage(sitk.ReadImage(r'Z:\\grodriguez\\CardiacOCT\\data-2d\\nnUNet_raw_data\\Task{}_CardiacOCT\\imagesTs\\{}_{}.nii.gz'.format(task, frames[count], \"%04d\" % (rgb[2]))))\n",
    "            frame_raw = np.stack((frame_raw_r[0], frame_raw_g[0], frame_raw_b[0]), axis=-1)\n",
    "\n",
    "            #All features have the following size\n",
    "            final_feature1 = np.zeros((32, 768, 768))\n",
    "            final_feature2 = np.zeros((64, 384, 384))\n",
    "            final_feature3 = np.zeros((128, 192, 192))\n",
    "            final_feature4 = np.zeros((256, 96, 96))\n",
    "            final_feature5 = np.zeros((480, 48, 48))\n",
    "            final_feature6 = np.zeros((480, 24, 24))\n",
    "            final_feature7 = np.zeros((480, 12, 12))\n",
    "            final_feature8 = np.zeros((480, 6, 6))\n",
    "\n",
    "            features = [final_feature1, final_feature2, final_feature3, final_feature4, final_feature5, final_feature6, final_feature7, final_feature8]\n",
    "            folds = []\n",
    "\n",
    "            for feature in range(len(features)):\n",
    "\n",
    "                channels, x, y = features[feature].shape\n",
    "\n",
    "                #Check the map in each fold\n",
    "                for i in range(5):\n",
    "\n",
    "                    a = torch.load(os.path.join(features_path, features_path_list[file], 'conv_torch.Size([1, {}, {}, {}])_{}.pt'.format(channels, x, y, i)))[0,:,:,:].cpu()\n",
    "                    folds.append(a)\n",
    "                    \n",
    "                    #We sum the feature map over each fold\n",
    "                    features[feature] = np.add(features[feature], a)\n",
    "\n",
    "                #Finally we do an average\n",
    "                features[feature] /= 5\n",
    "\n",
    "                #And get the maximum for each pixel (so we get 2D)\n",
    "                features[feature] = torch.max(features[feature], dim=0)[0]\n",
    "\n",
    "            #Create dict with the OCT frame, pred segmentation and features\n",
    "            all_imgs[features_path_list[file]] = [frame_raw, pred_seg, features[0], features[1], features[2], features[3], features[4], features[5], features[6], features[7]]\n",
    "\n",
    "            count += 1\n",
    "            \n",
    "    return all_imgs"
   ]
  },
  {
   "cell_type": "code",
   "execution_count": 4,
   "metadata": {},
   "outputs": [],
   "source": [
    "def plot_features(features_dict: dict):\n",
    "    \"\"\"Get all the features in PNG and save them\n",
    "\n",
    "    Args:\n",
    "        features_dict (dict): dict obtained in the previous function\n",
    "    \"\"\"    \n",
    "\n",
    "    i = 0\n",
    "    for key in features_dict.keys():\n",
    "\n",
    "        plt.imshow(features_dict[key][0].astype(np.uint8), alpha = 0.8)\n",
    "        plt.imshow(create_image_png(features_dict[key][1][0].astype(np.uint8)), alpha = 0.5)\n",
    "        plt.title('Raw + pred seg')\n",
    "        plt.axis('off')\n",
    "        plt.savefig('{}_raw'.format(key))\n",
    "        plt.close()\n",
    "\n",
    "        plt.imshow(features_dict[key][2])\n",
    "        plt.title('Conv 1')\n",
    "        plt.axis('off')\n",
    "        plt.savefig('{}_1'.format(key))\n",
    "        plt.close() \n",
    "\n",
    "        plt.imshow(features_dict[key][3])\n",
    "        plt.title('Conv 2')\n",
    "        plt.axis('off')\n",
    "        plt.savefig('{}_2'.format(key))\n",
    "        plt.close()\n",
    "\n",
    "        plt.imshow(features_dict[key][4])\n",
    "        plt.title('Conv 3')\n",
    "        plt.axis('off')\n",
    "        plt.savefig('{}_3'.format(key))\n",
    "        plt.close()\n",
    "\n",
    "        plt.imshow(features_dict[key][5])\n",
    "        plt.title('Conv 4')\n",
    "        plt.axis('off')\n",
    "        plt.savefig('{}_4'.format(key))\n",
    "        plt.close()\n",
    "\n",
    "        plt.imshow(features_dict[key][6])\n",
    "        plt.title('Conv 5')\n",
    "        plt.axis('off')\n",
    "        plt.savefig('{}_5'.format(key))\n",
    "        plt.close()\n",
    "\n",
    "        plt.imshow(features_dict[key][7])\n",
    "        plt.title('Conv 6')\n",
    "        plt.axis('off')\n",
    "        plt.savefig('{}_6'.format(key))\n",
    "        plt.close()\n",
    "\n",
    "        plt.imshow(features_dict[key][8])\n",
    "        plt.title('Conv 7')\n",
    "        plt.axis('off')\n",
    "        plt.savefig('{}_7'.format(key))\n",
    "        plt.close()\n",
    "\n",
    "        plt.imshow(features_dict[key][9])\n",
    "        plt.title('Conv 8')\n",
    "        plt.axis('off')\n",
    "        plt.savefig('{}_8'.format(key))\n",
    "        plt.close()\n",
    "\n",
    "        i += 1"
   ]
  },
  {
   "cell_type": "code",
   "execution_count": 5,
   "metadata": {},
   "outputs": [
    {
     "name": "stdout",
     "output_type": "stream",
     "text": [
      "amph_0017_601_v2\n",
      "amph_0063_601_v2\n",
      "isala_0084_601_v2\n",
      "radb_0089_601_v2\n"
     ]
    }
   ],
   "source": [
    "features_dict_601 = get_features(601)"
   ]
  },
  {
   "cell_type": "code",
   "execution_count": 85,
   "metadata": {},
   "outputs": [],
   "source": [
    "plot_features(features_dict_601)"
   ]
  },
  {
   "cell_type": "code",
   "execution_count": 6,
   "metadata": {},
   "outputs": [
    {
     "name": "stdout",
     "output_type": "stream",
     "text": [
      "amph_0017_604_v2\n",
      "amph_0063_604_v2\n",
      "isala_0084_604_v2\n",
      "radb_0089_604_v2\n"
     ]
    }
   ],
   "source": [
    "features_dict_604 = get_features(604)"
   ]
  },
  {
   "cell_type": "code",
   "execution_count": 92,
   "metadata": {},
   "outputs": [],
   "source": [
    "plot_features(features_dict_604)"
   ]
  }
 ],
 "metadata": {
  "kernelspec": {
   "display_name": "ai_master",
   "language": "python",
   "name": "python3"
  },
  "language_info": {
   "codemirror_mode": {
    "name": "ipython",
    "version": 3
   },
   "file_extension": ".py",
   "mimetype": "text/x-python",
   "name": "python",
   "nbconvert_exporter": "python",
   "pygments_lexer": "ipython3",
   "version": "3.10.5"
  },
  "orig_nbformat": 4
 },
 "nbformat": 4,
 "nbformat_minor": 2
}
