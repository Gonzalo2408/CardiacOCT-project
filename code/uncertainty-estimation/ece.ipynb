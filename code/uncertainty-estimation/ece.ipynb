{
 "cells": [
  {
   "cell_type": "code",
   "execution_count": 1,
   "metadata": {},
   "outputs": [],
   "source": [
    "import numpy as np\n",
    "import matplotlib.pyplot as plt\n",
    "import SimpleITK as sitk\n",
    "import os\n",
    "import pandas as pd\n",
    "import sys\n",
    "import tensorflow as tf\n",
    "import tensorflow_probability as tfp"
   ]
  },
  {
   "cell_type": "code",
   "execution_count": 3,
   "metadata": {},
   "outputs": [],
   "source": [
    "def get_prob_maps_list(prob_map):\n",
    "    num_classes = 13\n",
    "    probs_list = []\n",
    "\n",
    "    for i in prob_map.items():\n",
    "\n",
    "        for label in range(num_classes):\n",
    "            probs_list.append(i[1][label][0])\n",
    "\n",
    "    prob_img = np.zeros((num_classes, 691, 691))\n",
    "    _, rows, cols = prob_img.shape\n",
    "\n",
    "    for i in range(rows):\n",
    "        for j in range(cols):\n",
    "\n",
    "            prob_img[:, i, j] = np.array([probs_list[label][i, j] for label in range(num_classes)])\n",
    "\n",
    "    return prob_img"
   ]
  },
  {
   "cell_type": "code",
   "execution_count": 79,
   "metadata": {},
   "outputs": [],
   "source": [
    "def calculate_ece(y_true, y_pred, num_bins=10):\n",
    "        \n",
    "    pred_y = np.argmax(y_pred, axis=-1)\n",
    "    correct = (pred_y == y_true.astype(np.float32))\n",
    "    prob_y = np.max(y_pred, axis=-1)\n",
    "\n",
    "    b = np.linspace(start=0, stop=1.0, num=num_bins)\n",
    "    bins = np.digitize(prob_y, bins=b, right=True)\n",
    "\n",
    "    o = 0\n",
    "    for b in range(num_bins):\n",
    "        mask = bins == b\n",
    "        if np.any(mask):\n",
    "            o += np.abs(np.sum(correct[mask] - prob_y[mask]))\n",
    "\n",
    "    print(o / y_pred.shape[0])\n",
    "\n",
    "    x = prob_y[mask]\n",
    "    y = correct[mask]\n",
    "\n",
    "    return x, y\n",
    "\n",
    "def calculate_sce(y_true, y_pred, num_bins=10):\n",
    "    \n",
    "    classes = y_pred.shape[-1]\n",
    "\n",
    "    o = 0\n",
    "    for cur_class in range(classes):\n",
    "        correct = (cur_class == y_true).astype(np.float32)\n",
    "        prob_y = y_pred[..., cur_class]\n",
    "\n",
    "        b = np.linspace(start=0, stop=1.0, num=num_bins)\n",
    "        bins = np.digitize(prob_y, bins=b, right=True)\n",
    "\n",
    "        for b in range(num_bins):\n",
    "            mask = bins == b\n",
    "            if np.any(mask):\n",
    "                o += np.abs(np.sum(correct[mask] - prob_y[mask]))\n",
    "\n",
    "    print(o / (y_pred.shape[0] * classes))\n",
    "\n",
    "    x = prob_y[mask]\n",
    "    y = correct[mask]\n",
    "\n",
    "    return x, y"
   ]
  },
  {
   "cell_type": "code",
   "execution_count": 80,
   "metadata": {},
   "outputs": [],
   "source": [
    "def reliability_diagram(x, y):\n",
    "\n",
    "    plt.plot([0, 1], [0, 1], \"k:\", label=\"Perfectly calibrated\")\n",
    "    plt.plot(x, y, \"s-\", label=\"CNN\")\n",
    "\n",
    "    plt.xlabel(\"Confidence\")\n",
    "    plt.ylabel(\"Accuracy\")\n",
    "    plt.legend(loc=\"lower right\")\n",
    "    plt.title(\"Reliability diagram / calibration curve\")\n",
    "\n",
    "    plt.tight_layout()\n",
    "    plt.show()"
   ]
  },
  {
   "cell_type": "code",
   "execution_count": 81,
   "metadata": {},
   "outputs": [
    {
     "name": "stdout",
     "output_type": "stream",
     "text": [
      "Checking  NLDAMPH0005_1_frame0_003.npz NLDAMPH0005_1_frame0_003.nii.gz\n",
      "0.1419122104813065\n"
     ]
    },
    {
     "data": {
      "image/png": "[encoded data removed]",
      "text/plain": [
       "<Figure size 432x288 with 1 Axes>"
      ]
     },
     "metadata": {
      "needs_background": "light"
     },
     "output_type": "display_data"
    }
   ],
   "source": [
    "preds_path = r'Z:\\grodriguez\\CardiacOCT\\preds-test-set\\predicted_results_model4_2d_with_maps'\n",
    "orig_path = r'Z:\\grodriguez\\CardiacOCT\\data-2d\\nnUNet_raw_data\\Task504_CardiacOCT\\labelsTs'\n",
    "\n",
    "preds_list = os.listdir(preds_path)\n",
    "orig_list = os.listdir(orig_path)\n",
    "\n",
    "for orig in orig_list:\n",
    "\n",
    "    frame_name = orig.split('.')[0]\n",
    "    files_for_frame = []\n",
    "\n",
    "    for pred in preds_list:\n",
    "        \n",
    "        if frame_name in pred:\n",
    "            files_for_frame.append(pred)\n",
    "\n",
    "    npz_file = [npz for npz in files_for_frame if npz.endswith('npz')][0]\n",
    "    nifti_file = [nifti for nifti in files_for_frame if nifti.endswith('nii.gz')][0]\n",
    "\n",
    "    print('Checking ', npz_file, nifti_file)\n",
    "    pred_seg = sitk.ReadImage(r'Z:\\grodriguez\\CardiacOCT\\preds-test-set\\predicted_results_model4_2d_with_maps\\{}'.format(nifti_file))\n",
    "    pred_seg_data = sitk.GetArrayFromImage(pred_seg)[0]\n",
    "    orig_seg = sitk.ReadImage(r'Z:\\grodriguez\\CardiacOCT\\data-2d\\nnUNet_raw_data\\Task504_CardiacOCT\\labelsTs\\{}'.format(nifti_file))\n",
    "    orig_seg_data = sitk.GetArrayFromImage(orig_seg)[0]\n",
    "    prob_map = np.load(r'Z:\\grodriguez\\CardiacOCT\\preds-test-set\\predicted_results_model4_2d_with_maps\\{}'.format(npz_file))\n",
    "\n",
    "    \n",
    "    _, prob_img = get_prob_maps_list(prob_map)\n",
    "\n",
    "    true_seg_crop = orig_seg_data[6:697, 6:697]\n",
    "    pred_seg_crop = pred_seg_data[6:697, 6:697]\n",
    "\n",
    "    x, y = calculate_sce(true_seg_crop.reshape(-1), prob_img.reshape(691*691, 13))\n",
    "    reliability_diagram(x, y)\n",
    "\n",
    "    break\n"
   ]
  },
  {
   "cell_type": "code",
   "execution_count": null,
   "metadata": {},
   "outputs": [],
   "source": []
  }
 ],
 "metadata": {
  "kernelspec": {
   "display_name": "ai_master",
   "language": "python",
   "name": "python3"
  },
  "language_info": {
   "codemirror_mode": {
    "name": "ipython",
    "version": 3
   },
   "file_extension": ".py",
   "mimetype": "text/x-python",
   "name": "python",
   "nbconvert_exporter": "python",
   "pygments_lexer": "ipython3",
   "version": "3.10.5"
  },
  "orig_nbformat": 4
 },
 "nbformat": 4,
 "nbformat_minor": 2
}
