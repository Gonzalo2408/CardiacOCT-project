{
 "cells": [
  {
   "cell_type": "code",
   "execution_count": 1,
   "metadata": {},
   "outputs": [],
   "source": [
    "import numpy as np\n",
    "import pandas as pd\n",
    "import matplotlib.pyplot as plt\n",
    "import seaborn as sns"
   ]
  },
  {
   "cell_type": "code",
   "execution_count": 2,
   "metadata": {},
   "outputs": [],
   "source": [
    "values_lipid = pd.read_excel(r'Z:\\grodriguez\\CardiacOCT\\info-files\\uncertainty\\conf_lipid_calcium.xlsx', sheet_name='Lipid')\n",
    "values_calcium = pd.read_excel(r'Z:\\grodriguez\\CardiacOCT\\info-files\\uncertainty\\conf_lipid_calcium.xlsx', sheet_name='Calcium')"
   ]
  },
  {
   "cell_type": "code",
   "execution_count": 3,
   "metadata": {},
   "outputs": [],
   "source": [
    "def get_entropy(model, region):\n",
    "    \"\"\"Get entropy and dice values for TP\n",
    "\n",
    "    Args:\n",
    "        model (str): name of the model (which can be seen in the column name of the Excel file)\n",
    "        region (pd.DataFrame): dataframe with either the lipid or calcium values\n",
    "\n",
    "    Returns:\n",
    "        series, series: entropy and dice values\n",
    "    \"\"\"    \n",
    "\n",
    "    entropy = region['entropy {}'.format(model)].dropna()\n",
    "    dices = region['dice {}'.format(model)].dropna()\n",
    "    entropy_tp = (-1*entropy[region['type {}'.format(model)] == 'TP']).tolist()\n",
    "    dices_tp = dices[region['type {}'.format(model)] == 'TP'].tolist()\n",
    "\n",
    "    return entropy_tp, dices_tp"
   ]
  },
  {
   "cell_type": "code",
   "execution_count": 4,
   "metadata": {},
   "outputs": [],
   "source": [
    "#Here we generate a new DF with all the info so we can get the violinplots\n",
    "entropy_2d, dices_2d = get_entropy('2d', values_lipid)\n",
    "entropy_1, dices_1 = get_entropy('k=1', values_lipid)\n",
    "entropy_2, dices_2 = get_entropy('k=2', values_lipid)\n",
    "entropy_3, dices_3 = get_entropy('k=3', values_lipid)\n",
    "\n",
    "entropy_2d_cal, dices_2d_cal = get_entropy('2d', values_calcium)\n",
    "entropy_1_cal, dices_1_cal = get_entropy('k=1', values_calcium)\n",
    "entropy_2_cal, dices_2_cal = get_entropy('k=2', values_calcium)\n",
    "entropy_3_cal, dices_3_cal = get_entropy('k=3', values_calcium)\n",
    "\n",
    "type_2d = ['Lipid'] * len(entropy_2d) + ['Calcium'] * len(entropy_2d_cal)\n",
    "type_1 = ['Lipid'] * len(entropy_1) + ['Calcium'] * len(entropy_1_cal)\n",
    "type_2 = ['Lipid'] * len(entropy_2) + ['Calcium'] * len(entropy_2_cal)\n",
    "type_3 = ['Lipid'] * len(entropy_3) + ['Calcium'] * len(entropy_3_cal)\n",
    "\n",
    "model_2d = ['2D'] * (len(entropy_2d) + len(entropy_2d_cal))\n",
    "model_1 = ['k = 1'] * (len(entropy_1) + len(entropy_1_cal))\n",
    "model_2 = ['k = 2'] * (len(entropy_2) + len(entropy_2_cal))\n",
    "model_3 = ['k = 3'] * (len(entropy_3) + len(entropy_3_cal))\n",
    "\n",
    "new_df = pd.DataFrame({'Region': type_2d+type_1+type_2+type_3,\n",
    "                        'Model':model_2d+model_1+model_2+model_3,\n",
    "                        'Entropy':entropy_2d+entropy_2d_cal+entropy_1+entropy_1_cal+entropy_2+entropy_2_cal+entropy_3+entropy_3_cal,\n",
    "                        'DICE': dices_2d+dices_2d_cal+dices_1+dices_1_cal+dices_2+dices_2_cal+dices_3+dices_3_cal})"
   ]
  },
  {
   "cell_type": "code",
   "execution_count": 5,
   "metadata": {},
   "outputs": [
    {
     "data": {
      "text/html": [
       "<div>\n",
       "<style scoped>\n",
       "    .dataframe tbody tr th:only-of-type {\n",
       "        vertical-align: middle;\n",
       "    }\n",
       "\n",
       "    .dataframe tbody tr th {\n",
       "        vertical-align: top;\n",
       "    }\n",
       "\n",
       "    .dataframe thead th {\n",
       "        text-align: right;\n",
       "    }\n",
       "</style>\n",
       "<table border=\"1\" class=\"dataframe\">\n",
       "  <thead>\n",
       "    <tr style=\"text-align: right;\">\n",
       "      <th></th>\n",
       "      <th>Region</th>\n",
       "      <th>Model</th>\n",
       "      <th>Entropy</th>\n",
       "      <th>DICE</th>\n",
       "    </tr>\n",
       "  </thead>\n",
       "  <tbody>\n",
       "    <tr>\n",
       "      <th>0</th>\n",
       "      <td>Lipid</td>\n",
       "      <td>2D</td>\n",
       "      <td>0.145874</td>\n",
       "      <td>0.691097</td>\n",
       "    </tr>\n",
       "    <tr>\n",
       "      <th>1</th>\n",
       "      <td>Lipid</td>\n",
       "      <td>2D</td>\n",
       "      <td>0.581055</td>\n",
       "      <td>0.766692</td>\n",
       "    </tr>\n",
       "    <tr>\n",
       "      <th>2</th>\n",
       "      <td>Lipid</td>\n",
       "      <td>2D</td>\n",
       "      <td>0.122070</td>\n",
       "      <td>0.869310</td>\n",
       "    </tr>\n",
       "    <tr>\n",
       "      <th>3</th>\n",
       "      <td>Lipid</td>\n",
       "      <td>2D</td>\n",
       "      <td>0.213257</td>\n",
       "      <td>0.822760</td>\n",
       "    </tr>\n",
       "    <tr>\n",
       "      <th>4</th>\n",
       "      <td>Lipid</td>\n",
       "      <td>2D</td>\n",
       "      <td>0.139893</td>\n",
       "      <td>0.819144</td>\n",
       "    </tr>\n",
       "    <tr>\n",
       "      <th>...</th>\n",
       "      <td>...</td>\n",
       "      <td>...</td>\n",
       "      <td>...</td>\n",
       "      <td>...</td>\n",
       "    </tr>\n",
       "    <tr>\n",
       "      <th>586</th>\n",
       "      <td>Calcium</td>\n",
       "      <td>k = 3</td>\n",
       "      <td>0.117920</td>\n",
       "      <td>0.877833</td>\n",
       "    </tr>\n",
       "    <tr>\n",
       "      <th>587</th>\n",
       "      <td>Calcium</td>\n",
       "      <td>k = 3</td>\n",
       "      <td>0.361572</td>\n",
       "      <td>0.852634</td>\n",
       "    </tr>\n",
       "    <tr>\n",
       "      <th>588</th>\n",
       "      <td>Calcium</td>\n",
       "      <td>k = 3</td>\n",
       "      <td>0.366943</td>\n",
       "      <td>0.885781</td>\n",
       "    </tr>\n",
       "    <tr>\n",
       "      <th>589</th>\n",
       "      <td>Calcium</td>\n",
       "      <td>k = 3</td>\n",
       "      <td>0.409668</td>\n",
       "      <td>0.957304</td>\n",
       "    </tr>\n",
       "    <tr>\n",
       "      <th>590</th>\n",
       "      <td>Calcium</td>\n",
       "      <td>k = 3</td>\n",
       "      <td>0.561035</td>\n",
       "      <td>0.739856</td>\n",
       "    </tr>\n",
       "  </tbody>\n",
       "</table>\n",
       "<p>591 rows × 4 columns</p>\n",
       "</div>"
      ],
      "text/plain": [
       "      Region  Model   Entropy      DICE\n",
       "0      Lipid     2D  0.145874  0.691097\n",
       "1      Lipid     2D  0.581055  0.766692\n",
       "2      Lipid     2D  0.122070  0.869310\n",
       "3      Lipid     2D  0.213257  0.822760\n",
       "4      Lipid     2D  0.139893  0.819144\n",
       "..       ...    ...       ...       ...\n",
       "586  Calcium  k = 3  0.117920  0.877833\n",
       "587  Calcium  k = 3  0.361572  0.852634\n",
       "588  Calcium  k = 3  0.366943  0.885781\n",
       "589  Calcium  k = 3  0.409668  0.957304\n",
       "590  Calcium  k = 3  0.561035  0.739856\n",
       "\n",
       "[591 rows x 4 columns]"
      ]
     },
     "execution_count": 5,
     "metadata": {},
     "output_type": "execute_result"
    }
   ],
   "source": [
    "new_df"
   ]
  },
  {
   "cell_type": "code",
   "execution_count": 7,
   "metadata": {},
   "outputs": [
    {
     "name": "stderr",
     "output_type": "stream",
     "text": [
      "C:\\Users\\gonza\\AppData\\Local\\Temp\\ipykernel_4488\\3932850651.py:7: UserWarning: FixedFormatter should only be used together with FixedLocator\n",
      "  graph.set_yticklabels(graph.get_yticks(), fontsize=18)\n"
     ]
    },
    {
     "data": {
      "image/png": "[encoded data removed]",
      "text/plain": [
       "<Figure size 792x576 with 1 Axes>"
      ]
     },
     "metadata": {
      "needs_background": "light"
     },
     "output_type": "display_data"
    }
   ],
   "source": [
    "fig, ax = plt.subplots(figsize=(11,8))\n",
    "graph = sns.violinplot(new_df, x='Model', y='Entropy', hue='Region', orient='v', split=True)\n",
    "graph.legend(loc='upper right', fontsize=16)\n",
    "graph.set_xlabel('Model', fontsize=22)\n",
    "graph.set_ylabel('Entropy', fontsize=22)\n",
    "graph.set_xticklabels(['2D', 'k = 1', 'k = 2', 'k = 3'], fontsize=18)\n",
    "graph.set_yticklabels(graph.get_yticks(), fontsize=18)\n",
    "plt.show()\n"
   ]
  },
  {
   "cell_type": "code",
   "execution_count": 8,
   "metadata": {},
   "outputs": [
    {
     "name": "stdout",
     "output_type": "stream",
     "text": [
      "Mean entropy:  0.29009710573682596\n",
      "Correlation:  [[ 1.         -0.48352983]\n",
      " [-0.48352983  1.        ]]\n"
     ]
    }
   ],
   "source": [
    "print('Mean entropy: ', np.mean(entropy_3))\n",
    "print('Correlation: ', np.corrcoef(entropy_3, dices_3))\n"
   ]
  },
  {
   "cell_type": "code",
   "execution_count": null,
   "metadata": {},
   "outputs": [],
   "source": []
  }
 ],
 "metadata": {
  "kernelspec": {
   "display_name": "ai_master",
   "language": "python",
   "name": "python3"
  },
  "language_info": {
   "codemirror_mode": {
    "name": "ipython",
    "version": 3
   },
   "file_extension": ".py",
   "mimetype": "text/x-python",
   "name": "python",
   "nbconvert_exporter": "python",
   "pygments_lexer": "ipython3",
   "version": "3.10.5"
  },
  "orig_nbformat": 4
 },
 "nbformat": 4,
 "nbformat_minor": 2
}
