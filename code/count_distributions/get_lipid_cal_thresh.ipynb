{
 "cells": [
  {
   "cell_type": "code",
   "execution_count": 5,
   "metadata": {},
   "outputs": [],
   "source": [
    "import numpy as np\n",
    "import matplotlib.pyplot as plt\n",
    "from typing import Tuple\n",
    "import pandas as pd\n",
    "from collections import Counter"
   ]
  },
  {
   "cell_type": "markdown",
   "metadata": {},
   "source": [
    "# Get ROC from train set"
   ]
  },
  {
   "cell_type": "code",
   "execution_count": 2,
   "metadata": {},
   "outputs": [],
   "source": [
    "cv_results = pd.read_excel(r'Z:\\grodriguez\\CardiacOCT\\info-files\\uncertainty\\get_size_thresh.xlsx', sheet_name='Best train results (k=3)')\n",
    "raw_train_results = pd.read_excel(r'Z:\\grodriguez\\CardiacOCT\\info-files\\uncertainty\\get_size_thresh.xlsx', sheet_name='Raw train')"
   ]
  },
  {
   "cell_type": "code",
   "execution_count": 3,
   "metadata": {},
   "outputs": [],
   "source": [
    "def get_roc(region: str, iters: int, steps: int) -> Tuple[dict, dict]:\n",
    "    \"\"\"Get the ROC curve for lipid and calcium and different thresholds for size\n",
    "\n",
    "    Args:\n",
    "        region (str): either lipid or calcium\n",
    "        iters (int): number of iterations you want to check for the ROC\n",
    "        steps (int): stepsize for the iters\n",
    "    Returns:\n",
    "        dict: dict with TPR {thresh size: tpr} and FPR {thresh size: FPR}\n",
    "    \"\"\"    \n",
    "\n",
    "    tpr = {}\n",
    "    fpr = {}\n",
    "\n",
    "    for thresh in range(0, iters, steps):\n",
    "\n",
    "        list_cm = []\n",
    "        \n",
    "        for i in range(len(cv_results)):\n",
    "            \n",
    "            #For FN and TN, no need to do anything\n",
    "            if cv_results[region][i] == 0 and raw_train_results[region][i] == 1:\n",
    "                list_cm.append('FN')\n",
    "\n",
    "            elif cv_results[region][i] == 0 and raw_train_results[region][i] == 0:\n",
    "                list_cm.append('TN')\n",
    "\n",
    "            else:\n",
    "\n",
    "                #For TP, cosnider it FN if the region is smaller than the thresh\n",
    "                if (cv_results[region][i] == 1 and raw_train_results[region][i] == 1) and cv_results['{} size'.format(region)][i] <= thresh:\n",
    "                    list_cm.append('FN (previous TP)')\n",
    "\n",
    "                elif (cv_results[region][i] == 1 and raw_train_results[region][i] == 1) and cv_results['{} size'.format(region)][i] > thresh:\n",
    "                    list_cm.append('TP')\n",
    "\n",
    "                #For FP, consider it TN if the region is smaller than the thresh\n",
    "                if (cv_results[region][i] == 1 and raw_train_results[region][i] == 0) and cv_results['{} size'.format(region)][i] <= thresh:\n",
    "                    list_cm.append('TN (previous FP)')\n",
    "\n",
    "                elif (cv_results[region][i] == 1 and raw_train_results[region][i] == 0) and cv_results['{} size'.format(region)][i] > thresh:\n",
    "                    list_cm.append('FP')\n",
    "\n",
    "        values = Counter(list_cm)\n",
    "\n",
    "        #Compute TPR and FPR for that thresh\n",
    "        tpr[thresh] = values['TP']/(values['TP'] + values['FN'] + values['FN (previous TP)'])\n",
    "        fpr[thresh] = values['FP']/(values['FP'] + values['TN'] + values['TN (previous FP)'])\n",
    "\n",
    "    return tpr, fpr   \n"
   ]
  },
  {
   "cell_type": "code",
   "execution_count": 4,
   "metadata": {},
   "outputs": [],
   "source": [
    "tpr_lipid, fpr_lipid = get_roc('lipid', 185000, 100)"
   ]
  },
  {
   "cell_type": "code",
   "execution_count": 5,
   "metadata": {},
   "outputs": [
    {
     "data": {
      "text/plain": [
       "<matplotlib.legend.Legend at 0x1e0042ef670>"
      ]
     },
     "execution_count": 5,
     "metadata": {},
     "output_type": "execute_result"
    },
    {
     "data": {
      "image/png": "[encoded data removed]",
      "text/plain": [
       "<Figure size 432x288 with 1 Axes>"
      ]
     },
     "metadata": {
      "needs_background": "light"
     },
     "output_type": "display_data"
    }
   ],
   "source": [
    "plt.scatter(fpr_lipid.values(), tpr_lipid.values(), label='Lipid')\n",
    "plt.xlabel('FPR')\n",
    "plt.ylabel('TPR')\n",
    "plt.legend()"
   ]
  },
  {
   "cell_type": "code",
   "execution_count": 22,
   "metadata": {},
   "outputs": [],
   "source": [
    "tpr_cal, fpr_cal = get_roc('calcium', 101000, 100)"
   ]
  },
  {
   "cell_type": "code",
   "execution_count": 23,
   "metadata": {},
   "outputs": [
    {
     "data": {
      "text/plain": [
       "<matplotlib.legend.Legend at 0x1e0043dc760>"
      ]
     },
     "execution_count": 23,
     "metadata": {},
     "output_type": "execute_result"
    },
    {
     "data": {
      "image/png": "[encoded data removed]",
      "text/plain": [
       "<Figure size 432x288 with 1 Axes>"
      ]
     },
     "metadata": {
      "needs_background": "light"
     },
     "output_type": "display_data"
    }
   ],
   "source": [
    "plt.scatter(fpr_cal.values(), tpr_cal.values(), label='Calcium', c='orange')\n",
    "plt.xlabel('FPR')\n",
    "plt.ylabel('TPR')\n",
    "plt.legend()"
   ]
  },
  {
   "cell_type": "code",
   "execution_count": 24,
   "metadata": {},
   "outputs": [
    {
     "data": {
      "text/plain": [
       "<matplotlib.legend.Legend at 0x1e005864a60>"
      ]
     },
     "execution_count": 24,
     "metadata": {},
     "output_type": "execute_result"
    },
    {
     "data": {
      "image/png": "[encoded data removed]",
      "text/plain": [
       "<Figure size 432x288 with 1 Axes>"
      ]
     },
     "metadata": {
      "needs_background": "light"
     },
     "output_type": "display_data"
    }
   ],
   "source": [
    "plt.scatter(fpr_lipid.values(), tpr_lipid.values(), label='Lipid')\n",
    "plt.scatter(fpr_cal.values(), tpr_cal.values(), label='Calcium')\n",
    "plt.xlabel('FPR')\n",
    "plt.ylabel('TPR')\n",
    "plt.legend()"
   ]
  },
  {
   "cell_type": "markdown",
   "metadata": {},
   "source": [
    "# See new CM"
   ]
  },
  {
   "cell_type": "code",
   "execution_count": 7,
   "metadata": {},
   "outputs": [],
   "source": [
    "test_raw = pd.read_excel(r'Z:\\grodriguez\\CardiacOCT\\info-files\\counts\\second_split\\pseudo3d_get_thresh.xlsx', sheet_name='Raw test')\n",
    "test_2d = pd.read_excel(r'Z:\\grodriguez\\CardiacOCT\\info-files\\counts\\second_split\\pseudo3d_get_thresh.xlsx', sheet_name='2D')\n",
    "test_1 = pd.read_excel(r'Z:\\grodriguez\\CardiacOCT\\info-files\\counts\\second_split\\pseudo3d_get_thresh.xlsx', sheet_name='k=1')\n",
    "test_2 = pd.read_excel(r'Z:\\grodriguez\\CardiacOCT\\info-files\\counts\\second_split\\pseudo3d_get_thresh.xlsx', sheet_name='k=2')\n",
    "test_3 = pd.read_excel(r'Z:\\grodriguez\\CardiacOCT\\info-files\\counts\\second_split\\pseudo3d_get_thresh.xlsx', sheet_name='k=3')"
   ]
  },
  {
   "cell_type": "code",
   "execution_count": 12,
   "metadata": {},
   "outputs": [],
   "source": [
    "def get_cm(region: str, model_data: pd.DataFrame, thresh: int) -> Tuple[dict, dict]:\n",
    "    \"\"\"Get both CM before and after applying the threshold to compare\n",
    "\n",
    "    Args:\n",
    "        region (str): lipid or calcium\n",
    "        model_data (pd.DataFrame): one of the dataframes with the sizes on the test set for a given model\n",
    "        thresh (int): optimal thresh found in previous functions\n",
    "\n",
    "    Returns:\n",
    "        dict, dict: dict with the conf matrices before and after\n",
    "    \"\"\"    \n",
    "\n",
    "    list_cm = []\n",
    "    list_cm_thresh = []\n",
    "        \n",
    "    for i in range(len(model_data)):\n",
    "        \n",
    "        if model_data[region][i] == 0 and test_raw[region][i] == 1:\n",
    "            list_cm.append('FN')\n",
    "            list_cm_thresh.append('FN')\n",
    "\n",
    "        elif model_data[region][i] == 0 and test_raw[region][i] == 0:\n",
    "            list_cm.append('TN')\n",
    "            list_cm_thresh.append('TN')\n",
    "\n",
    "        else:\n",
    "\n",
    "            if (model_data[region][i] == 1 and test_raw[region][i] == 1) and model_data['{} size'.format(region)][i] <= thresh:\n",
    "                list_cm_thresh.append('FN')\n",
    "                list_cm.append('TP')\n",
    "\n",
    "            elif (model_data[region][i] == 1 and test_raw[region][i] == 1) and model_data['{} size'.format(region)][i] > thresh:\n",
    "                list_cm.append('TP')\n",
    "                list_cm_thresh.append('TP')\n",
    "\n",
    "\n",
    "            if (model_data[region][i] == 1 and test_raw[region][i] == 0) and model_data['{} size'.format(region)][i] <= thresh:\n",
    "                list_cm_thresh.append('TN')\n",
    "                list_cm.append('FP')\n",
    "\n",
    "            elif (model_data[region][i] == 1 and test_raw[region][i] == 0) and model_data['{} size'.format(region)][i] > thresh:\n",
    "                list_cm.append('FP')\n",
    "                list_cm_thresh.append('FP')\n",
    "\n",
    "    return Counter(list_cm), Counter(list_cm_thresh)"
   ]
  },
  {
   "cell_type": "code",
   "execution_count": 13,
   "metadata": {},
   "outputs": [],
   "source": [
    "def get_sens_spec(cm: dict) -> Tuple[float, floats]:\n",
    "    \"\"\"Get sensitivity and specificity given CM\n",
    "\n",
    "    Args:\n",
    "        cm (dict): dict with confusion matrix\n",
    "\n",
    "    Returns:\n",
    "        float, float: sens and spec values \n",
    "    \"\"\"    \n",
    "    sens = cm['TP'] / (cm['TP'] + cm['FN'])\n",
    "    spec = cm['TN'] / (cm['TN'] + cm['FP'])\n",
    "\n",
    "    return sens, spec"
   ]
  },
  {
   "cell_type": "code",
   "execution_count": 37,
   "metadata": {},
   "outputs": [
    {
     "name": "stdout",
     "output_type": "stream",
     "text": [
      "CM old Counter({'TN': 151, 'TP': 46, 'FP': 13, 'FN': 8})\n",
      "CM new Counter({'TN': 153, 'TP': 45, 'FP': 11, 'FN': 9})\n",
      "Sens old: 0.8518518518518519 Sens new: 0.8333333333333334\n",
      "Spec new: 0.9207317073170732 Spec new: 0.9329268292682927\n"
     ]
    }
   ],
   "source": [
    "cm_old, cm_new = get_cm('calcium', test_3, 100)\n",
    "print('CM old', cm_old)\n",
    "print('CM new', cm_new)\n",
    "\n",
    "sens_old, spec_old = get_sens_spec(cm_old)\n",
    "sens_new, spec_new = get_sens_spec(cm_new)\n",
    "\n",
    "print('Sens old: {} Sens new: {}'.format(sens_old, sens_new))\n",
    "print('Spec new: {} Spec new: {}'.format(spec_old, spec_new))"
   ]
  }
 ],
 "metadata": {
  "kernelspec": {
   "display_name": "ai_master",
   "language": "python",
   "name": "python3"
  },
  "language_info": {
   "codemirror_mode": {
    "name": "ipython",
    "version": 3
   },
   "file_extension": ".py",
   "mimetype": "text/x-python",
   "name": "python",
   "nbconvert_exporter": "python",
   "pygments_lexer": "ipython3",
   "version": "3.10.5"
  },
  "orig_nbformat": 4
 },
 "nbformat": 4,
 "nbformat_minor": 2
}
