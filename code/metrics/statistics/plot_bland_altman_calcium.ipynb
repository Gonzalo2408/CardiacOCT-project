{
 "cells": [
  {
   "cell_type": "code",
   "execution_count": 1,
   "metadata": {},
   "outputs": [],
   "source": [
    "import matplotlib.pyplot as plt\n",
    "import numpy as np\n",
    "import pandas as pd \n",
    "import statsmodels.api as sm\n",
    "import seaborn as sns\n",
    "import pingouin as pg\n",
    "from matplotlib.colors import ListedColormap\n",
    "from scipy import stats\n",
    "pd.options.mode.chained_assignment = None"
   ]
  },
  {
   "cell_type": "code",
   "execution_count": 2,
   "metadata": {},
   "outputs": [],
   "source": [
    "measurements = pd.read_excel(r'Z:\\grodriguez\\CardiacOCT\\info-files\\statistics\\manual_vs_automatic_measures.xlsx', sheet_name='Calcium new test set')"
   ]
  },
  {
   "attachments": {},
   "cell_type": "markdown",
   "metadata": {},
   "source": [
    "## Functions"
   ]
  },
  {
   "cell_type": "code",
   "execution_count": 3,
   "metadata": {},
   "outputs": [],
   "source": [
    "def get_data_filtered(test_sheet, type_manual, type_ai, missing = -99):\n",
    "\n",
    "    manual = test_sheet[type_manual]\n",
    "\n",
    "    ai = test_sheet[type_ai]\n",
    "\n",
    "    list_fp = []\n",
    "    list_fn = []\n",
    "    list_nulls = []\n",
    "    list_drops = []\n",
    "    fp_count = 0\n",
    "    fn_count = 0\n",
    "\n",
    "    for value in range(len(manual)):\n",
    "\n",
    "        if manual[value] == missing and ai[value] != missing:\n",
    "            list_fp.append(value)\n",
    "            fp_count += 1\n",
    "\n",
    "        if manual[value] != missing and ai[value] == missing:\n",
    "            list_fn.append(value)\n",
    "            fn_count += 1\n",
    "\n",
    "        if manual[value] == missing and ai[value] == missing:\n",
    "            list_nulls.append(value)\n",
    "\n",
    "        if ai[value] == np.nan:\n",
    "            list_nulls.append(value)\n",
    "\n",
    "    list_drops.extend(list_fp)\n",
    "    list_drops.extend(list_fn)\n",
    "    list_drops.extend(list_nulls)\n",
    "\n",
    "    ai.drop(list_drops, inplace=True)\n",
    "    manual.drop(list_drops, inplace=True)\n",
    "\n",
    "    print('Found {} FP and {} FN. Total values are {}'.format(fp_count, fn_count, len(manual)))\n",
    "\n",
    "\n",
    "    return manual, ai"
   ]
  },
  {
   "cell_type": "code",
   "execution_count": 4,
   "metadata": {},
   "outputs": [],
   "source": [
    "def corr_plot(manual, automatic, thresh, title):\n",
    "\n",
    "    print('Corr {}: {}'.format(title, np.corrcoef(manual, automatic)))\n",
    "\n",
    "    col = []\n",
    "    for i, j in zip(manual, automatic):\n",
    "        if i <= thresh and j >= thresh:\n",
    "            col.append(0)\n",
    "\n",
    "        elif i >= thresh and j <= thresh:\n",
    "            col.append(1)\n",
    "\n",
    "        else:\n",
    "            col.append(2)\n",
    "\n",
    "    classes = ['FP', 'FN', 'TP/TN']\n",
    "    if all(c == 2 for c in col):\n",
    "        scatter = plt.scatter(manual, automatic, c='blue')\n",
    "        plt.legend(handles=[scatter], labels=['TP/TN'])\n",
    "\n",
    "    else:\n",
    "        scatter = plt.scatter(manual, automatic, c=col, cmap=ListedColormap(['black', 'green', 'blue']))\n",
    "        plt.axhline(thresh, color='r')\n",
    "        plt.axvline(thresh, color='r')\n",
    "        plt.xlabel('Manual')\n",
    "        plt.ylabel('Automatic')\n",
    "        plt.title(title)\n",
    "        plt.legend(handles=scatter.legend_elements()[0], labels = classes)\n",
    "        plt.show()"
   ]
  },
  {
   "cell_type": "code",
   "execution_count": 5,
   "metadata": {},
   "outputs": [],
   "source": [
    "def calculate_icc(automatic_values, manual_values):\n",
    "\n",
    "    raters1 = ['Automatic' for _ in range(len(automatic_values))]\n",
    "    raters2 = ['Manual' for _ in range(len(automatic_values))]\n",
    "    raters1.extend(raters2)\n",
    "\n",
    "    exam1 = list(np.arange(0, len(automatic_values)))\n",
    "    exam2 = list(np.arange(0, len(automatic_values)))\n",
    "    exam1.extend(exam2)\n",
    "\n",
    "    values_fct = pd.concat([automatic_values, manual_values])\n",
    "\n",
    "    icc_df = pd.DataFrame({'exam': exam1, 'raters': raters1, 'fct': values_fct})\n",
    "\n",
    "    icc = pg.intraclass_corr(icc_df, 'exam', 'raters', 'fct')\n",
    "\n",
    "    return icc"
   ]
  },
  {
   "cell_type": "code",
   "execution_count": 6,
   "metadata": {},
   "outputs": [],
   "source": [
    "def find_outliers(automatic_values, manual_values, sheet, score):\n",
    "\n",
    "    differences = automatic_values - manual_values\n",
    "\n",
    "    if score == 'zscore':\n",
    "        # Method 1: Z-score\n",
    "        z_scores = stats.zscore(differences)\n",
    "        z_score_threshold = 3.0\n",
    "        outliers = np.where(np.abs(z_scores) > z_score_threshold)[0]\n",
    "\n",
    "    elif score == 'tukey':\n",
    "        # Method 2: Tukey's fences\n",
    "        q1 = np.percentile(differences, 25)\n",
    "        q3 = np.percentile(differences, 75)\n",
    "        iqr = q3 - q1\n",
    "        lower_fence = q1 - (1.5 * iqr)\n",
    "        upper_fence = q3 + (1.5 * iqr)\n",
    "        outliers = np.where((differences < lower_fence) | (differences > upper_fence))[0]\n",
    "\n",
    "    else:\n",
    "        raise ValueError('Wrong type')\n",
    "\n",
    "    outliers_data = []\n",
    "\n",
    "    for outlier in outliers:\n",
    "\n",
    "        value = automatic_values.index[outlier]    \n",
    "        outlier_pullback = sheet.iloc[value]['pullback']\n",
    "        outlier_frame = sheet.iloc[value]['frame']\n",
    "        outlier_ai = automatic_values.tolist()[outlier]\n",
    "        outlier_manual = manual_values.tolist()[outlier]\n",
    "\n",
    "        outliers_data.append({'pullback': outlier_pullback, 'frame': outlier_frame, 'ai': outlier_ai, 'manual': outlier_manual})\n",
    "\n",
    "    return outliers, outliers_data"
   ]
  },
  {
   "attachments": {},
   "cell_type": "markdown",
   "metadata": {},
   "source": [
    "# Bland Altman manual vs automatic"
   ]
  },
  {
   "cell_type": "code",
   "execution_count": 7,
   "metadata": {},
   "outputs": [
    {
     "name": "stdout",
     "output_type": "stream",
     "text": [
      "Found 8 FP and 4 FN. Total values are 31\n",
      "45.19669119416979\n"
     ]
    },
    {
     "data": {
      "text/plain": [
       "Text(0.5, 1.0, 'Depth manual vs automatic')"
      ]
     },
     "execution_count": 7,
     "metadata": {},
     "output_type": "execute_result"
    },
    {
     "data": {
      "image/png": "[encoded data removed]",
      "text/plain": [
       "<Figure size 432x288 with 1 Axes>"
      ]
     },
     "metadata": {
      "needs_background": "light"
     },
     "output_type": "display_data"
    }
   ],
   "source": [
    "manual_depth, ai_depth = get_data_filtered(measurements, 'Depth test set', 'Depth model 7')\n",
    "mean = np.mean([manual_depth, ai_depth], axis=0)\n",
    "diff = manual_depth - ai_depth                  \n",
    "md = np.mean(diff)                   \n",
    "sd = np.std(diff, axis=0) \n",
    "print(sd)\n",
    "\n",
    "fig, axes = plt.subplots()\n",
    "\n",
    "sm.graphics.mean_diff_plot(ai_depth, manual_depth, ax = axes)\n",
    "plt.xlabel('Mean depth')\n",
    "plt.ylabel('Depth difference (ai - manual)')\n",
    "plt.title('Depth manual vs automatic')"
   ]
  },
  {
   "cell_type": "code",
   "execution_count": 9,
   "metadata": {},
   "outputs": [
    {
     "name": "stdout",
     "output_type": "stream",
     "text": [
      "[ 2  5  8 15 17 20 25 26 27]\n",
      "[{'pullback': 'NLD-AMPH-0028', 'frame': 177, 'ai': 210, 'manual': 94}, {'pullback': 'NLD-AMPH-0054', 'frame': 168, 'ai': 163, 'manual': 112}, {'pullback': 'NLD-AMPH-0054', 'frame': 244, 'ai': 106, 'manual': 220}, {'pullback': 'NLD-ISALA-0057', 'frame': 400, 'ai': 320, 'manual': 250}, {'pullback': 'NLD-ISALA-0073', 'frame': 200, 'ai': 501, 'manual': 447}, {'pullback': 'NLD-ISALA-0087', 'frame': 339, 'ai': 76, 'manual': 103}, {'pullback': 'NLD-ISALA-0097', 'frame': 350, 'ai': 89, 'manual': 117}, {'pullback': 'NLD-ISALA-0097', 'frame': 360, 'ai': 110, 'manual': 153}, {'pullback': 'NLD-ISALA-0097', 'frame': 400, 'ai': 218, 'manual': 320}]\n"
     ]
    }
   ],
   "source": [
    "outliers, outliers_data = find_outliers(ai_depth, manual_depth, measurements, 'tukey')\n",
    "print(outliers)\n",
    "print(outliers_data)"
   ]
  },
  {
   "cell_type": "code",
   "execution_count": 10,
   "metadata": {},
   "outputs": [
    {
     "name": "stdout",
     "output_type": "stream",
     "text": [
      "Found 8 FP and 4 FN. Total values are 28\n",
      "16.910931134527594\n"
     ]
    },
    {
     "data": {
      "text/plain": [
       "Text(0.5, 1.0, 'Calcium arc manual vs automatic')"
      ]
     },
     "execution_count": 10,
     "metadata": {},
     "output_type": "execute_result"
    },
    {
     "data": {
      "image/png": "[encoded data removed]",
      "text/plain": [
       "<Figure size 432x288 with 1 Axes>"
      ]
     },
     "metadata": {
      "needs_background": "light"
     },
     "output_type": "display_data"
    }
   ],
   "source": [
    "manual_arc, ai_arc = get_data_filtered(measurements, 'Arc test set', 'Arc model 7')\n",
    "mean = np.mean([manual_arc, ai_arc], axis=0)\n",
    "diff = manual_arc - ai_arc                   \n",
    "md = np.mean(diff)                   \n",
    "sd = np.std(diff, axis=0) \n",
    "print(sd)\n",
    "\n",
    "fig, axes = plt.subplots()\n",
    "\n",
    "sm.graphics.mean_diff_plot(ai_arc, manual_arc, ax = axes)\n",
    "plt.xlabel('Mean calcium arc')\n",
    "plt.ylabel('Calcium arc difference (ai - manual)')\n",
    "plt.title('Calcium arc manual vs automatic')\n"
   ]
  },
  {
   "cell_type": "code",
   "execution_count": 11,
   "metadata": {},
   "outputs": [
    {
     "name": "stdout",
     "output_type": "stream",
     "text": [
      "[ 2  3  9 12 15]\n",
      "[{'pullback': 'NLD-AMPH-0028', 'frame': 177, 'ai': 24, 'manual': 80}, {'pullback': 'NLD-AMPH-0028', 'frame': 179, 'ai': 72, 'manual': 102}, {'pullback': 'NLD-AMPH-0054', 'frame': 280, 'ai': 106, 'manual': 150}, {'pullback': 'NLD-ISALA-0057', 'frame': 200, 'ai': 78, 'manual': 122}, {'pullback': 'NLD-ISALA-0057', 'frame': 400, 'ai': 4, 'manual': 32}]\n"
     ]
    }
   ],
   "source": [
    "outliers, outliers_data = find_outliers(ai_arc, manual_arc, measurements, 'tukey')\n",
    "print(outliers)\n",
    "print(outliers_data)"
   ]
  },
  {
   "cell_type": "code",
   "execution_count": 12,
   "metadata": {},
   "outputs": [
    {
     "name": "stdout",
     "output_type": "stream",
     "text": [
      "Found 8 FP and 4 FN. Total values are 28\n",
      "179.65671275734593\n"
     ]
    },
    {
     "data": {
      "text/plain": [
       "Text(0.5, 1.0, 'Calcium thickness manual vs automatic')"
      ]
     },
     "execution_count": 12,
     "metadata": {},
     "output_type": "execute_result"
    },
    {
     "data": {
      "image/png": "[encoded data removed]",
      "text/plain": [
       "<Figure size 432x288 with 1 Axes>"
      ]
     },
     "metadata": {
      "needs_background": "light"
     },
     "output_type": "display_data"
    }
   ],
   "source": [
    "manual_thickness, ai_thickness = get_data_filtered(measurements, 'Thickness test set', 'Thickness model 7')\n",
    "mean = np.mean([manual_thickness, ai_thickness], axis=0)\n",
    "diff = manual_thickness - ai_thickness                   \n",
    "md = np.mean(diff)                   \n",
    "sd = np.std(diff, axis=0) \n",
    "print(sd)\n",
    "\n",
    "\n",
    "fig, axes = plt.subplots()\n",
    "\n",
    "sm.graphics.mean_diff_plot(ai_thickness, manual_thickness, ax = axes)\n",
    "plt.xlabel('Mean calcium thickness')\n",
    "plt.ylabel('Calcium thickness difference (ai - manual)')\n",
    "plt.title('Calcium thickness manual vs automatic')"
   ]
  },
  {
   "cell_type": "code",
   "execution_count": 13,
   "metadata": {},
   "outputs": [
    {
     "name": "stdout",
     "output_type": "stream",
     "text": [
      "[ 2 15 17 19 21 25 26 27]\n",
      "[{'pullback': 'NLD-AMPH-0028', 'frame': 177, 'ai': 318, 'manual': 735}, {'pullback': 'NLD-ISALA-0057', 'frame': 400, 'ai': 143, 'manual': 664}, {'pullback': 'NLD-ISALA-0073', 'frame': 200, 'ai': 192, 'manual': 465}, {'pullback': 'NLD-ISALA-0087', 'frame': 280, 'ai': 432, 'manual': 186}, {'pullback': 'NLD-ISALA-0087', 'frame': 440, 'ai': 555, 'manual': 747}, {'pullback': 'NLD-ISALA-0097', 'frame': 350, 'ai': 550, 'manual': 848}, {'pullback': 'NLD-ISALA-0097', 'frame': 360, 'ai': 1236, 'manual': 920}, {'pullback': 'NLD-ISALA-0097', 'frame': 400, 'ai': 946, 'manual': 1347}]\n"
     ]
    }
   ],
   "source": [
    "outliers, outliers_data = find_outliers(ai_thickness, manual_thickness, measurements, 'tukey')\n",
    "print(outliers)\n",
    "print(outliers_data)"
   ]
  },
  {
   "attachments": {},
   "cell_type": "markdown",
   "metadata": {},
   "source": [
    "## Pearson and ICC"
   ]
  },
  {
   "cell_type": "code",
   "execution_count": 14,
   "metadata": {},
   "outputs": [
    {
     "name": "stdout",
     "output_type": "stream",
     "text": [
      "Corr Depth: [[1.         0.92883695]\n",
      " [0.92883695 1.        ]]\n"
     ]
    },
    {
     "data": {
      "image/png": "[encoded data removed]",
      "text/plain": [
       "<Figure size 432x288 with 1 Axes>"
      ]
     },
     "metadata": {
      "needs_background": "light"
     },
     "output_type": "display_data"
    }
   ],
   "source": [
    "corr_plot(manual_depth, ai_depth, 0, 'Depth')"
   ]
  },
  {
   "cell_type": "code",
   "execution_count": 15,
   "metadata": {},
   "outputs": [
    {
     "name": "stdout",
     "output_type": "stream",
     "text": [
      "Corr Calcium arc: [[1.        0.8821796]\n",
      " [0.8821796 1.       ]]\n"
     ]
    },
    {
     "data": {
      "image/png": "[encoded data removed]",
      "text/plain": [
       "<Figure size 432x288 with 1 Axes>"
      ]
     },
     "metadata": {
      "needs_background": "light"
     },
     "output_type": "display_data"
    }
   ],
   "source": [
    "corr_plot(manual_arc, ai_arc, 180, 'Calcium arc')"
   ]
  },
  {
   "cell_type": "code",
   "execution_count": 16,
   "metadata": {},
   "outputs": [
    {
     "name": "stdout",
     "output_type": "stream",
     "text": [
      "Corr Calcium thickness: [[1.         0.85305421]\n",
      " [0.85305421 1.        ]]\n"
     ]
    },
    {
     "data": {
      "image/png": "[encoded data removed]",
      "text/plain": [
       "<Figure size 432x288 with 1 Axes>"
      ]
     },
     "metadata": {
      "needs_background": "light"
     },
     "output_type": "display_data"
    }
   ],
   "source": [
    "corr_plot(manual_thickness, ai_thickness, 500, 'Calcium thickness')"
   ]
  },
  {
   "cell_type": "code",
   "execution_count": 18,
   "metadata": {},
   "outputs": [
    {
     "data": {
      "text/html": [
       "<div>\n",
       "<style scoped>\n",
       "    .dataframe tbody tr th:only-of-type {\n",
       "        vertical-align: middle;\n",
       "    }\n",
       "\n",
       "    .dataframe tbody tr th {\n",
       "        vertical-align: top;\n",
       "    }\n",
       "\n",
       "    .dataframe thead th {\n",
       "        text-align: right;\n",
       "    }\n",
       "</style>\n",
       "<table border=\"1\" class=\"dataframe\">\n",
       "  <thead>\n",
       "    <tr style=\"text-align: right;\">\n",
       "      <th></th>\n",
       "      <th>Type</th>\n",
       "      <th>Description</th>\n",
       "      <th>ICC</th>\n",
       "      <th>F</th>\n",
       "      <th>df1</th>\n",
       "      <th>df2</th>\n",
       "      <th>pval</th>\n",
       "      <th>CI95%</th>\n",
       "    </tr>\n",
       "  </thead>\n",
       "  <tbody>\n",
       "    <tr>\n",
       "      <th>0</th>\n",
       "      <td>ICC1</td>\n",
       "      <td>Single raters absolute</td>\n",
       "      <td>0.928691</td>\n",
       "      <td>27.046777</td>\n",
       "      <td>30</td>\n",
       "      <td>31</td>\n",
       "      <td>3.841894e-15</td>\n",
       "      <td>[0.86, 0.96]</td>\n",
       "    </tr>\n",
       "    <tr>\n",
       "      <th>1</th>\n",
       "      <td>ICC2</td>\n",
       "      <td>Single random raters</td>\n",
       "      <td>0.928606</td>\n",
       "      <td>26.174313</td>\n",
       "      <td>30</td>\n",
       "      <td>30</td>\n",
       "      <td>1.458774e-14</td>\n",
       "      <td>[0.86, 0.96]</td>\n",
       "    </tr>\n",
       "    <tr>\n",
       "      <th>2</th>\n",
       "      <td>ICC3</td>\n",
       "      <td>Single fixed raters</td>\n",
       "      <td>0.926401</td>\n",
       "      <td>26.174313</td>\n",
       "      <td>30</td>\n",
       "      <td>30</td>\n",
       "      <td>1.458774e-14</td>\n",
       "      <td>[0.85, 0.96]</td>\n",
       "    </tr>\n",
       "    <tr>\n",
       "      <th>3</th>\n",
       "      <td>ICC1k</td>\n",
       "      <td>Average raters absolute</td>\n",
       "      <td>0.963027</td>\n",
       "      <td>27.046777</td>\n",
       "      <td>30</td>\n",
       "      <td>31</td>\n",
       "      <td>3.841894e-15</td>\n",
       "      <td>[0.92, 0.98]</td>\n",
       "    </tr>\n",
       "    <tr>\n",
       "      <th>4</th>\n",
       "      <td>ICC2k</td>\n",
       "      <td>Average random raters</td>\n",
       "      <td>0.962981</td>\n",
       "      <td>26.174313</td>\n",
       "      <td>30</td>\n",
       "      <td>30</td>\n",
       "      <td>1.458774e-14</td>\n",
       "      <td>[0.92, 0.98]</td>\n",
       "    </tr>\n",
       "    <tr>\n",
       "      <th>5</th>\n",
       "      <td>ICC3k</td>\n",
       "      <td>Average fixed raters</td>\n",
       "      <td>0.961795</td>\n",
       "      <td>26.174313</td>\n",
       "      <td>30</td>\n",
       "      <td>30</td>\n",
       "      <td>1.458774e-14</td>\n",
       "      <td>[0.92, 0.98]</td>\n",
       "    </tr>\n",
       "  </tbody>\n",
       "</table>\n",
       "</div>"
      ],
      "text/plain": [
       "    Type              Description       ICC          F  df1  df2  \\\n",
       "0   ICC1   Single raters absolute  0.928691  27.046777   30   31   \n",
       "1   ICC2     Single random raters  0.928606  26.174313   30   30   \n",
       "2   ICC3      Single fixed raters  0.926401  26.174313   30   30   \n",
       "3  ICC1k  Average raters absolute  0.963027  27.046777   30   31   \n",
       "4  ICC2k    Average random raters  0.962981  26.174313   30   30   \n",
       "5  ICC3k     Average fixed raters  0.961795  26.174313   30   30   \n",
       "\n",
       "           pval         CI95%  \n",
       "0  3.841894e-15  [0.86, 0.96]  \n",
       "1  1.458774e-14  [0.86, 0.96]  \n",
       "2  1.458774e-14  [0.85, 0.96]  \n",
       "3  3.841894e-15  [0.92, 0.98]  \n",
       "4  1.458774e-14  [0.92, 0.98]  \n",
       "5  1.458774e-14  [0.92, 0.98]  "
      ]
     },
     "execution_count": 18,
     "metadata": {},
     "output_type": "execute_result"
    }
   ],
   "source": [
    "calculate_icc(ai_depth, manual_depth)"
   ]
  },
  {
   "cell_type": "code",
   "execution_count": 18,
   "metadata": {},
   "outputs": [
    {
     "data": {
      "text/html": [
       "<div>\n",
       "<style scoped>\n",
       "    .dataframe tbody tr th:only-of-type {\n",
       "        vertical-align: middle;\n",
       "    }\n",
       "\n",
       "    .dataframe tbody tr th {\n",
       "        vertical-align: top;\n",
       "    }\n",
       "\n",
       "    .dataframe thead th {\n",
       "        text-align: right;\n",
       "    }\n",
       "</style>\n",
       "<table border=\"1\" class=\"dataframe\">\n",
       "  <thead>\n",
       "    <tr style=\"text-align: right;\">\n",
       "      <th></th>\n",
       "      <th>Type</th>\n",
       "      <th>Description</th>\n",
       "      <th>ICC</th>\n",
       "      <th>F</th>\n",
       "      <th>df1</th>\n",
       "      <th>df2</th>\n",
       "      <th>pval</th>\n",
       "      <th>CI95%</th>\n",
       "    </tr>\n",
       "  </thead>\n",
       "  <tbody>\n",
       "    <tr>\n",
       "      <th>0</th>\n",
       "      <td>ICC1</td>\n",
       "      <td>Single raters absolute</td>\n",
       "      <td>0.845368</td>\n",
       "      <td>11.933960</td>\n",
       "      <td>27</td>\n",
       "      <td>28</td>\n",
       "      <td>2.318325e-09</td>\n",
       "      <td>[0.7, 0.93]</td>\n",
       "    </tr>\n",
       "    <tr>\n",
       "      <th>1</th>\n",
       "      <td>ICC2</td>\n",
       "      <td>Single random raters</td>\n",
       "      <td>0.847107</td>\n",
       "      <td>13.991936</td>\n",
       "      <td>27</td>\n",
       "      <td>27</td>\n",
       "      <td>6.131304e-10</td>\n",
       "      <td>[0.67, 0.93]</td>\n",
       "    </tr>\n",
       "    <tr>\n",
       "      <th>2</th>\n",
       "      <td>ICC3</td>\n",
       "      <td>Single fixed raters</td>\n",
       "      <td>0.866595</td>\n",
       "      <td>13.991936</td>\n",
       "      <td>27</td>\n",
       "      <td>27</td>\n",
       "      <td>6.131304e-10</td>\n",
       "      <td>[0.73, 0.94]</td>\n",
       "    </tr>\n",
       "    <tr>\n",
       "      <th>3</th>\n",
       "      <td>ICC1k</td>\n",
       "      <td>Average raters absolute</td>\n",
       "      <td>0.916206</td>\n",
       "      <td>11.933960</td>\n",
       "      <td>27</td>\n",
       "      <td>28</td>\n",
       "      <td>2.318325e-09</td>\n",
       "      <td>[0.82, 0.96]</td>\n",
       "    </tr>\n",
       "    <tr>\n",
       "      <th>4</th>\n",
       "      <td>ICC2k</td>\n",
       "      <td>Average random raters</td>\n",
       "      <td>0.917226</td>\n",
       "      <td>13.991936</td>\n",
       "      <td>27</td>\n",
       "      <td>27</td>\n",
       "      <td>6.131304e-10</td>\n",
       "      <td>[0.8, 0.96]</td>\n",
       "    </tr>\n",
       "    <tr>\n",
       "      <th>5</th>\n",
       "      <td>ICC3k</td>\n",
       "      <td>Average fixed raters</td>\n",
       "      <td>0.928530</td>\n",
       "      <td>13.991936</td>\n",
       "      <td>27</td>\n",
       "      <td>27</td>\n",
       "      <td>6.131304e-10</td>\n",
       "      <td>[0.85, 0.97]</td>\n",
       "    </tr>\n",
       "  </tbody>\n",
       "</table>\n",
       "</div>"
      ],
      "text/plain": [
       "    Type              Description       ICC          F  df1  df2  \\\n",
       "0   ICC1   Single raters absolute  0.845368  11.933960   27   28   \n",
       "1   ICC2     Single random raters  0.847107  13.991936   27   27   \n",
       "2   ICC3      Single fixed raters  0.866595  13.991936   27   27   \n",
       "3  ICC1k  Average raters absolute  0.916206  11.933960   27   28   \n",
       "4  ICC2k    Average random raters  0.917226  13.991936   27   27   \n",
       "5  ICC3k     Average fixed raters  0.928530  13.991936   27   27   \n",
       "\n",
       "           pval         CI95%  \n",
       "0  2.318325e-09   [0.7, 0.93]  \n",
       "1  6.131304e-10  [0.67, 0.93]  \n",
       "2  6.131304e-10  [0.73, 0.94]  \n",
       "3  2.318325e-09  [0.82, 0.96]  \n",
       "4  6.131304e-10   [0.8, 0.96]  \n",
       "5  6.131304e-10  [0.85, 0.97]  "
      ]
     },
     "execution_count": 18,
     "metadata": {},
     "output_type": "execute_result"
    }
   ],
   "source": [
    "calculate_icc(ai_arc, manual_arc)"
   ]
  },
  {
   "cell_type": "code",
   "execution_count": 19,
   "metadata": {},
   "outputs": [
    {
     "data": {
      "text/html": [
       "<div>\n",
       "<style scoped>\n",
       "    .dataframe tbody tr th:only-of-type {\n",
       "        vertical-align: middle;\n",
       "    }\n",
       "\n",
       "    .dataframe tbody tr th {\n",
       "        vertical-align: top;\n",
       "    }\n",
       "\n",
       "    .dataframe thead th {\n",
       "        text-align: right;\n",
       "    }\n",
       "</style>\n",
       "<table border=\"1\" class=\"dataframe\">\n",
       "  <thead>\n",
       "    <tr style=\"text-align: right;\">\n",
       "      <th></th>\n",
       "      <th>Type</th>\n",
       "      <th>Description</th>\n",
       "      <th>ICC</th>\n",
       "      <th>F</th>\n",
       "      <th>df1</th>\n",
       "      <th>df2</th>\n",
       "      <th>pval</th>\n",
       "      <th>CI95%</th>\n",
       "    </tr>\n",
       "  </thead>\n",
       "  <tbody>\n",
       "    <tr>\n",
       "      <th>0</th>\n",
       "      <td>ICC1</td>\n",
       "      <td>Single raters absolute</td>\n",
       "      <td>0.844787</td>\n",
       "      <td>11.885505</td>\n",
       "      <td>27</td>\n",
       "      <td>28</td>\n",
       "      <td>2.433862e-09</td>\n",
       "      <td>[0.69, 0.92]</td>\n",
       "    </tr>\n",
       "    <tr>\n",
       "      <th>1</th>\n",
       "      <td>ICC2</td>\n",
       "      <td>Single random raters</td>\n",
       "      <td>0.845463</td>\n",
       "      <td>12.595987</td>\n",
       "      <td>27</td>\n",
       "      <td>27</td>\n",
       "      <td>2.107234e-09</td>\n",
       "      <td>[0.69, 0.93]</td>\n",
       "    </tr>\n",
       "    <tr>\n",
       "      <th>2</th>\n",
       "      <td>ICC3</td>\n",
       "      <td>Single fixed raters</td>\n",
       "      <td>0.852898</td>\n",
       "      <td>12.595987</td>\n",
       "      <td>27</td>\n",
       "      <td>27</td>\n",
       "      <td>2.107234e-09</td>\n",
       "      <td>[0.71, 0.93]</td>\n",
       "    </tr>\n",
       "    <tr>\n",
       "      <th>3</th>\n",
       "      <td>ICC1k</td>\n",
       "      <td>Average raters absolute</td>\n",
       "      <td>0.915864</td>\n",
       "      <td>11.885505</td>\n",
       "      <td>27</td>\n",
       "      <td>28</td>\n",
       "      <td>2.433862e-09</td>\n",
       "      <td>[0.82, 0.96]</td>\n",
       "    </tr>\n",
       "    <tr>\n",
       "      <th>4</th>\n",
       "      <td>ICC2k</td>\n",
       "      <td>Average random raters</td>\n",
       "      <td>0.916261</td>\n",
       "      <td>12.595987</td>\n",
       "      <td>27</td>\n",
       "      <td>27</td>\n",
       "      <td>2.107234e-09</td>\n",
       "      <td>[0.82, 0.96]</td>\n",
       "    </tr>\n",
       "    <tr>\n",
       "      <th>5</th>\n",
       "      <td>ICC3k</td>\n",
       "      <td>Average fixed raters</td>\n",
       "      <td>0.920610</td>\n",
       "      <td>12.595987</td>\n",
       "      <td>27</td>\n",
       "      <td>27</td>\n",
       "      <td>2.107234e-09</td>\n",
       "      <td>[0.83, 0.96]</td>\n",
       "    </tr>\n",
       "  </tbody>\n",
       "</table>\n",
       "</div>"
      ],
      "text/plain": [
       "    Type              Description       ICC          F  df1  df2  \\\n",
       "0   ICC1   Single raters absolute  0.844787  11.885505   27   28   \n",
       "1   ICC2     Single random raters  0.845463  12.595987   27   27   \n",
       "2   ICC3      Single fixed raters  0.852898  12.595987   27   27   \n",
       "3  ICC1k  Average raters absolute  0.915864  11.885505   27   28   \n",
       "4  ICC2k    Average random raters  0.916261  12.595987   27   27   \n",
       "5  ICC3k     Average fixed raters  0.920610  12.595987   27   27   \n",
       "\n",
       "           pval         CI95%  \n",
       "0  2.433862e-09  [0.69, 0.92]  \n",
       "1  2.107234e-09  [0.69, 0.93]  \n",
       "2  2.107234e-09  [0.71, 0.93]  \n",
       "3  2.433862e-09  [0.82, 0.96]  \n",
       "4  2.107234e-09  [0.82, 0.96]  \n",
       "5  2.107234e-09  [0.83, 0.96]  "
      ]
     },
     "execution_count": 19,
     "metadata": {},
     "output_type": "execute_result"
    }
   ],
   "source": [
    "calculate_icc(ai_thickness, manual_thickness)"
   ]
  },
  {
   "cell_type": "code",
   "execution_count": null,
   "metadata": {},
   "outputs": [],
   "source": []
  }
 ],
 "metadata": {
  "kernelspec": {
   "display_name": "AIM_GIB_20_21",
   "language": "python",
   "name": "python3"
  },
  "language_info": {
   "codemirror_mode": {
    "name": "ipython",
    "version": 3
   },
   "file_extension": ".py",
   "mimetype": "text/x-python",
   "name": "python",
   "nbconvert_exporter": "python",
   "pygments_lexer": "ipython3",
   "version": "3.10.5"
  },
  "orig_nbformat": 4,
  "vscode": {
   "interpreter": {
    "hash": "462e317a3f4ac380d0132727a8f93c19f6cae5ddf77b9673682ed50a737c83c4"
   }
  }
 },
 "nbformat": 4,
 "nbformat_minor": 2
}
