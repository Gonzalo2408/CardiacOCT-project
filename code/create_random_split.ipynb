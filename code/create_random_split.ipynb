{
 "cells": [
  {
   "cell_type": "code",
   "execution_count": 86,
   "metadata": {},
   "outputs": [],
   "source": [
    "import pandas as pd\n",
    "import numpy as np\n",
    "from sklearn.model_selection import train_test_split\n",
    "import SimpleITK as sitk\n",
    "import matplotlib.pyplot as plt\n",
    "from collections import Counter"
   ]
  },
  {
   "cell_type": "code",
   "execution_count": 87,
   "metadata": {},
   "outputs": [],
   "source": [
    "scans = pd.read_excel('Z:\\grodriguez\\CardiacOCT\\data-original\\oct_annotations_filtered.xlsx')"
   ]
  },
  {
   "cell_type": "code",
   "execution_count": 88,
   "metadata": {},
   "outputs": [
    {
     "data": {
      "text/html": [
       "<div>\n",
       "<style scoped>\n",
       "    .dataframe tbody tr th:only-of-type {\n",
       "        vertical-align: middle;\n",
       "    }\n",
       "\n",
       "    .dataframe tbody tr th {\n",
       "        vertical-align: top;\n",
       "    }\n",
       "\n",
       "    .dataframe thead th {\n",
       "        text-align: right;\n",
       "    }\n",
       "</style>\n",
       "<table border=\"1\" class=\"dataframe\">\n",
       "  <thead>\n",
       "    <tr style=\"text-align: right;\">\n",
       "      <th></th>\n",
       "      <th>Patient</th>\n",
       "      <th>ID</th>\n",
       "      <th>Nº pullbacks</th>\n",
       "      <th>Pullback</th>\n",
       "      <th>Frames</th>\n",
       "    </tr>\n",
       "  </thead>\n",
       "  <tbody>\n",
       "    <tr>\n",
       "      <th>0</th>\n",
       "      <td>EST-NEMC-0027</td>\n",
       "      <td>1.0</td>\n",
       "      <td>2.0</td>\n",
       "      <td>EST-NEMC-0027-RCA</td>\n",
       "      <td>28,41,145,147,149,152,154,161,201,206,241,256,269</td>\n",
       "    </tr>\n",
       "    <tr>\n",
       "      <th>1</th>\n",
       "      <td>NaN</td>\n",
       "      <td>NaN</td>\n",
       "      <td>NaN</td>\n",
       "      <td>EST-NEMC-0027-RCx</td>\n",
       "      <td>1,15,20,41,77,81,97,121,152,161,201,231,241</td>\n",
       "    </tr>\n",
       "    <tr>\n",
       "      <th>2</th>\n",
       "      <td>NLD-AMPH-0003</td>\n",
       "      <td>2.0</td>\n",
       "      <td>1.0</td>\n",
       "      <td>NLD-AMPH-0003</td>\n",
       "      <td>1,41,81,121,161,201,241,281,321,332,361,401,44...</td>\n",
       "    </tr>\n",
       "    <tr>\n",
       "      <th>3</th>\n",
       "      <td>NLD-AMPH-0005</td>\n",
       "      <td>3.0</td>\n",
       "      <td>1.0</td>\n",
       "      <td>NLD-AMPH-0005</td>\n",
       "      <td>1,41,81,121,161,201,241,269,281,321,361,401,44...</td>\n",
       "    </tr>\n",
       "    <tr>\n",
       "      <th>4</th>\n",
       "      <td>NLD-AMPH-0007</td>\n",
       "      <td>4.0</td>\n",
       "      <td>1.0</td>\n",
       "      <td>NLD-AMPH-0007</td>\n",
       "      <td>1,21,41,61,81,101,121,130,141,161,181,201,241,261</td>\n",
       "    </tr>\n",
       "    <tr>\n",
       "      <th>...</th>\n",
       "      <td>...</td>\n",
       "      <td>...</td>\n",
       "      <td>...</td>\n",
       "      <td>...</td>\n",
       "      <td>...</td>\n",
       "    </tr>\n",
       "    <tr>\n",
       "      <th>65</th>\n",
       "      <td>NLD-RADB-0094</td>\n",
       "      <td>59.0</td>\n",
       "      <td>2.0</td>\n",
       "      <td>NLD-RADB-0094-LAD</td>\n",
       "      <td>1,41,81,121,161,201,241,281,321,361,401,441,46...</td>\n",
       "    </tr>\n",
       "    <tr>\n",
       "      <th>66</th>\n",
       "      <td>NaN</td>\n",
       "      <td>NaN</td>\n",
       "      <td>NaN</td>\n",
       "      <td>NLD-RADB-0094-RCA</td>\n",
       "      <td>1,41,81,110,121,135,161,201,233,241,281,285,28...</td>\n",
       "    </tr>\n",
       "    <tr>\n",
       "      <th>67</th>\n",
       "      <td>NLD-RADB-0095</td>\n",
       "      <td>60.0</td>\n",
       "      <td>1.0</td>\n",
       "      <td>NLD-RADB-0095</td>\n",
       "      <td>41,81,121,133,161,201,241,281,290,292,294,316,...</td>\n",
       "    </tr>\n",
       "    <tr>\n",
       "      <th>68</th>\n",
       "      <td>NLD-RADB-0096</td>\n",
       "      <td>61.0</td>\n",
       "      <td>1.0</td>\n",
       "      <td>NLD-RADB-0096</td>\n",
       "      <td>1,41,81,121,161,201,241,265,281,321,361,401,44...</td>\n",
       "    </tr>\n",
       "    <tr>\n",
       "      <th>69</th>\n",
       "      <td>NLD-RADB-0097</td>\n",
       "      <td>62.0</td>\n",
       "      <td>1.0</td>\n",
       "      <td>NLD-RADB-0097</td>\n",
       "      <td>1,41,81,97,121,161,201,241,281,321,361,401,441</td>\n",
       "    </tr>\n",
       "  </tbody>\n",
       "</table>\n",
       "<p>70 rows × 5 columns</p>\n",
       "</div>"
      ],
      "text/plain": [
       "          Patient    ID  Nº pullbacks           Pullback  \\\n",
       "0   EST-NEMC-0027   1.0           2.0  EST-NEMC-0027-RCA   \n",
       "1             NaN   NaN           NaN  EST-NEMC-0027-RCx   \n",
       "2   NLD-AMPH-0003   2.0           1.0      NLD-AMPH-0003   \n",
       "3   NLD-AMPH-0005   3.0           1.0      NLD-AMPH-0005   \n",
       "4   NLD-AMPH-0007   4.0           1.0      NLD-AMPH-0007   \n",
       "..            ...   ...           ...                ...   \n",
       "65  NLD-RADB-0094  59.0           2.0  NLD-RADB-0094-LAD   \n",
       "66            NaN   NaN           NaN  NLD-RADB-0094-RCA   \n",
       "67  NLD-RADB-0095  60.0           1.0      NLD-RADB-0095   \n",
       "68  NLD-RADB-0096  61.0           1.0      NLD-RADB-0096   \n",
       "69  NLD-RADB-0097  62.0           1.0      NLD-RADB-0097   \n",
       "\n",
       "                                               Frames  \n",
       "0   28,41,145,147,149,152,154,161,201,206,241,256,269  \n",
       "1    1,15,20,41,77,81,97,121,152,161,201,231,241       \n",
       "2   1,41,81,121,161,201,241,281,321,332,361,401,44...  \n",
       "3   1,41,81,121,161,201,241,269,281,321,361,401,44...  \n",
       "4   1,21,41,61,81,101,121,130,141,161,181,201,241,261  \n",
       "..                                                ...  \n",
       "65  1,41,81,121,161,201,241,281,321,361,401,441,46...  \n",
       "66  1,41,81,110,121,135,161,201,233,241,281,285,28...  \n",
       "67  41,81,121,133,161,201,241,281,290,292,294,316,...  \n",
       "68  1,41,81,121,161,201,241,265,281,321,361,401,44...  \n",
       "69     1,41,81,97,121,161,201,241,281,321,361,401,441  \n",
       "\n",
       "[70 rows x 5 columns]"
      ]
     },
     "execution_count": 88,
     "metadata": {},
     "output_type": "execute_result"
    }
   ],
   "source": [
    "scans"
   ]
  },
  {
   "cell_type": "code",
   "execution_count": 89,
   "metadata": {},
   "outputs": [],
   "source": [
    "x_train, x_test = train_test_split(scans['Patient'].dropna(), test_size=0.2, random_state=0)"
   ]
  },
  {
   "cell_type": "code",
   "execution_count": 90,
   "metadata": {},
   "outputs": [
    {
     "data": {
      "text/plain": [
       "array(['NLD-ISALA-0057', 'NLD-ISALA-0062', 'NLD-ISALA-0065',\n",
       "       'NLD-ISALA-0093', 'NLD-ISALA-0097', 'NLD-ISALA-0073',\n",
       "       'NLD-AMPH-0054', 'NLD-ISALA-0089', 'NLD-AMPH-0005',\n",
       "       'NLD-ISALA-0087', 'NLD-HMC-0008', 'NLD-AMPH-0011', 'NLD-AMPH-0051'],\n",
       "      dtype=object)"
      ]
     },
     "execution_count": 90,
     "metadata": {},
     "output_type": "execute_result"
    }
   ],
   "source": [
    "x_test.values"
   ]
  },
  {
   "cell_type": "code",
   "execution_count": 91,
   "metadata": {},
   "outputs": [],
   "source": [
    "train_test = {}\n",
    "\n",
    "for patient in range(len(scans)):\n",
    "\n",
    "    if scans['Patient'][patient] in x_train.values:\n",
    "        train_test[scans['Patient'][patient]] = 'Training'\n",
    "\n",
    "    elif scans['Patient'][patient] in x_test.values:\n",
    "        train_test[scans['Patient'][patient]] = 'Testing'"
   ]
  },
  {
   "cell_type": "code",
   "execution_count": 92,
   "metadata": {},
   "outputs": [
    {
     "data": {
      "text/plain": [
       "Counter({'Training': 49, 'Testing': 13})"
      ]
     },
     "execution_count": 92,
     "metadata": {},
     "output_type": "execute_result"
    }
   ],
   "source": [
    "Counter(train_test.values())"
   ]
  },
  {
   "cell_type": "code",
   "execution_count": 93,
   "metadata": {},
   "outputs": [
    {
     "name": "stderr",
     "output_type": "stream",
     "text": [
      "C:\\Users\\gonza\\AppData\\Local\\Temp\\ipykernel_9308\\2674138260.py:5: SettingWithCopyWarning: \n",
      "A value is trying to be set on a copy of a slice from a DataFrame\n",
      "\n",
      "See the caveats in the documentation: https://pandas.pydata.org/pandas-docs/stable/user_guide/indexing.html#returning-a-view-versus-a-copy\n",
      "  scans['Set'].iloc[i] = train_test[patient]\n"
     ]
    }
   ],
   "source": [
    "scans['Set'] = np.nan\n",
    "for patient in train_test:\n",
    "    #if patient in scans['Patient']:\n",
    "    i = scans.index[scans['Patient'] == patient][0]\n",
    "    scans['Set'].iloc[i] = train_test[patient]"
   ]
  },
  {
   "cell_type": "code",
   "execution_count": 94,
   "metadata": {},
   "outputs": [],
   "source": [
    "scans = scans.reindex(columns=['Patient', 'Nº pullbacks', 'Set', 'Pullback', 'ID', 'Frames'])"
   ]
  },
  {
   "cell_type": "code",
   "execution_count": 95,
   "metadata": {},
   "outputs": [
    {
     "data": {
      "text/html": [
       "<div>\n",
       "<style scoped>\n",
       "    .dataframe tbody tr th:only-of-type {\n",
       "        vertical-align: middle;\n",
       "    }\n",
       "\n",
       "    .dataframe tbody tr th {\n",
       "        vertical-align: top;\n",
       "    }\n",
       "\n",
       "    .dataframe thead th {\n",
       "        text-align: right;\n",
       "    }\n",
       "</style>\n",
       "<table border=\"1\" class=\"dataframe\">\n",
       "  <thead>\n",
       "    <tr style=\"text-align: right;\">\n",
       "      <th></th>\n",
       "      <th>Patient</th>\n",
       "      <th>Nº pullbacks</th>\n",
       "      <th>Set</th>\n",
       "      <th>Pullback</th>\n",
       "      <th>ID</th>\n",
       "      <th>Frames</th>\n",
       "    </tr>\n",
       "  </thead>\n",
       "  <tbody>\n",
       "    <tr>\n",
       "      <th>0</th>\n",
       "      <td>EST-NEMC-0027</td>\n",
       "      <td>2.0</td>\n",
       "      <td>Training</td>\n",
       "      <td>EST-NEMC-0027-RCA</td>\n",
       "      <td>1.0</td>\n",
       "      <td>28,41,145,147,149,152,154,161,201,206,241,256,269</td>\n",
       "    </tr>\n",
       "    <tr>\n",
       "      <th>1</th>\n",
       "      <td>NaN</td>\n",
       "      <td>NaN</td>\n",
       "      <td>NaN</td>\n",
       "      <td>EST-NEMC-0027-RCx</td>\n",
       "      <td>NaN</td>\n",
       "      <td>1,15,20,41,77,81,97,121,152,161,201,231,241</td>\n",
       "    </tr>\n",
       "    <tr>\n",
       "      <th>2</th>\n",
       "      <td>NLD-AMPH-0003</td>\n",
       "      <td>1.0</td>\n",
       "      <td>Training</td>\n",
       "      <td>NLD-AMPH-0003</td>\n",
       "      <td>2.0</td>\n",
       "      <td>1,41,81,121,161,201,241,281,321,332,361,401,44...</td>\n",
       "    </tr>\n",
       "    <tr>\n",
       "      <th>3</th>\n",
       "      <td>NLD-AMPH-0005</td>\n",
       "      <td>1.0</td>\n",
       "      <td>Testing</td>\n",
       "      <td>NLD-AMPH-0005</td>\n",
       "      <td>3.0</td>\n",
       "      <td>1,41,81,121,161,201,241,269,281,321,361,401,44...</td>\n",
       "    </tr>\n",
       "    <tr>\n",
       "      <th>4</th>\n",
       "      <td>NLD-AMPH-0007</td>\n",
       "      <td>1.0</td>\n",
       "      <td>Training</td>\n",
       "      <td>NLD-AMPH-0007</td>\n",
       "      <td>4.0</td>\n",
       "      <td>1,21,41,61,81,101,121,130,141,161,181,201,241,261</td>\n",
       "    </tr>\n",
       "    <tr>\n",
       "      <th>...</th>\n",
       "      <td>...</td>\n",
       "      <td>...</td>\n",
       "      <td>...</td>\n",
       "      <td>...</td>\n",
       "      <td>...</td>\n",
       "      <td>...</td>\n",
       "    </tr>\n",
       "    <tr>\n",
       "      <th>65</th>\n",
       "      <td>NLD-RADB-0094</td>\n",
       "      <td>2.0</td>\n",
       "      <td>Training</td>\n",
       "      <td>NLD-RADB-0094-LAD</td>\n",
       "      <td>59.0</td>\n",
       "      <td>1,41,81,121,161,201,241,281,321,361,401,441,46...</td>\n",
       "    </tr>\n",
       "    <tr>\n",
       "      <th>66</th>\n",
       "      <td>NaN</td>\n",
       "      <td>NaN</td>\n",
       "      <td>NaN</td>\n",
       "      <td>NLD-RADB-0094-RCA</td>\n",
       "      <td>NaN</td>\n",
       "      <td>1,41,81,110,121,135,161,201,233,241,281,285,28...</td>\n",
       "    </tr>\n",
       "    <tr>\n",
       "      <th>67</th>\n",
       "      <td>NLD-RADB-0095</td>\n",
       "      <td>1.0</td>\n",
       "      <td>Training</td>\n",
       "      <td>NLD-RADB-0095</td>\n",
       "      <td>60.0</td>\n",
       "      <td>41,81,121,133,161,201,241,281,290,292,294,316,...</td>\n",
       "    </tr>\n",
       "    <tr>\n",
       "      <th>68</th>\n",
       "      <td>NLD-RADB-0096</td>\n",
       "      <td>1.0</td>\n",
       "      <td>Training</td>\n",
       "      <td>NLD-RADB-0096</td>\n",
       "      <td>61.0</td>\n",
       "      <td>1,41,81,121,161,201,241,265,281,321,361,401,44...</td>\n",
       "    </tr>\n",
       "    <tr>\n",
       "      <th>69</th>\n",
       "      <td>NLD-RADB-0097</td>\n",
       "      <td>1.0</td>\n",
       "      <td>Training</td>\n",
       "      <td>NLD-RADB-0097</td>\n",
       "      <td>62.0</td>\n",
       "      <td>1,41,81,97,121,161,201,241,281,321,361,401,441</td>\n",
       "    </tr>\n",
       "  </tbody>\n",
       "</table>\n",
       "<p>70 rows × 6 columns</p>\n",
       "</div>"
      ],
      "text/plain": [
       "          Patient  Nº pullbacks       Set           Pullback    ID  \\\n",
       "0   EST-NEMC-0027           2.0  Training  EST-NEMC-0027-RCA   1.0   \n",
       "1             NaN           NaN       NaN  EST-NEMC-0027-RCx   NaN   \n",
       "2   NLD-AMPH-0003           1.0  Training      NLD-AMPH-0003   2.0   \n",
       "3   NLD-AMPH-0005           1.0   Testing      NLD-AMPH-0005   3.0   \n",
       "4   NLD-AMPH-0007           1.0  Training      NLD-AMPH-0007   4.0   \n",
       "..            ...           ...       ...                ...   ...   \n",
       "65  NLD-RADB-0094           2.0  Training  NLD-RADB-0094-LAD  59.0   \n",
       "66            NaN           NaN       NaN  NLD-RADB-0094-RCA   NaN   \n",
       "67  NLD-RADB-0095           1.0  Training      NLD-RADB-0095  60.0   \n",
       "68  NLD-RADB-0096           1.0  Training      NLD-RADB-0096  61.0   \n",
       "69  NLD-RADB-0097           1.0  Training      NLD-RADB-0097  62.0   \n",
       "\n",
       "                                               Frames  \n",
       "0   28,41,145,147,149,152,154,161,201,206,241,256,269  \n",
       "1    1,15,20,41,77,81,97,121,152,161,201,231,241       \n",
       "2   1,41,81,121,161,201,241,281,321,332,361,401,44...  \n",
       "3   1,41,81,121,161,201,241,269,281,321,361,401,44...  \n",
       "4   1,21,41,61,81,101,121,130,141,161,181,201,241,261  \n",
       "..                                                ...  \n",
       "65  1,41,81,121,161,201,241,281,321,361,401,441,46...  \n",
       "66  1,41,81,110,121,135,161,201,233,241,281,285,28...  \n",
       "67  41,81,121,133,161,201,241,281,290,292,294,316,...  \n",
       "68  1,41,81,121,161,201,241,265,281,321,361,401,44...  \n",
       "69     1,41,81,97,121,161,201,241,281,321,361,401,441  \n",
       "\n",
       "[70 rows x 6 columns]"
      ]
     },
     "execution_count": 95,
     "metadata": {},
     "output_type": "execute_result"
    }
   ],
   "source": [
    "scans"
   ]
  },
  {
   "cell_type": "code",
   "execution_count": 96,
   "metadata": {},
   "outputs": [],
   "source": [
    "scans.to_excel(r'Z:\\grodriguez\\CardiacOCT\\data-original\\train_test_split.xlsx', index=False)"
   ]
  },
  {
   "cell_type": "code",
   "execution_count": null,
   "metadata": {},
   "outputs": [],
   "source": []
  }
 ],
 "metadata": {
  "kernelspec": {
   "display_name": "ai_master",
   "language": "python",
   "name": "python3"
  },
  "language_info": {
   "codemirror_mode": {
    "name": "ipython",
    "version": 3
   },
   "file_extension": ".py",
   "mimetype": "text/x-python",
   "name": "python",
   "nbconvert_exporter": "python",
   "pygments_lexer": "ipython3",
   "version": "3.10.5"
  },
  "orig_nbformat": 4,
  "vscode": {
   "interpreter": {
    "hash": "b5ece6e7ae68788446578bb4bf0b300a67b46c494eda56bd0b4e8c918cf09a3e"
   }
  }
 },
 "nbformat": 4,
 "nbformat_minor": 2
}
