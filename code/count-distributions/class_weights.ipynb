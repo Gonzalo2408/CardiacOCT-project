{
 "cells": [
  {
   "cell_type": "code",
   "execution_count": 2,
   "metadata": {},
   "outputs": [],
   "source": [
    "import os\n",
    "import SimpleITK as sitk\n",
    "import numpy as np\n",
    "from sklearn.utils.class_weight import compute_class_weight"
   ]
  },
  {
   "cell_type": "code",
   "execution_count": 3,
   "metadata": {},
   "outputs": [
    {
     "name": "stdout",
     "output_type": "stream",
     "text": [
      "Counting labels...\n",
      "Class weights:\n",
      "Label 0: 0.10913639947766231\n",
      "Label 1: 0.6947609401951736\n",
      "Label 2: 1.4101344137993121\n",
      "Label 3: 1.322174888614788\n",
      "Label 4: 2.5356613880524552\n",
      "Label 5: 10.888779759943137\n",
      "Label 6: 4.697217923032939\n",
      "Label 7: 5.802182813742582\n",
      "Label 8: 19.47428930679776\n",
      "Label 9: 739.3678902359591\n",
      "Label 10: 1553.895299286834\n",
      "Label 11: 15430.272308704232\n",
      "Label 12: 133.96327393789653\n"
     ]
    }
   ],
   "source": [
    "segs_path = r'Z:\\grodriguez\\CardiacOCT\\data-2d\\nnUNet_raw_data\\Task507_CardiacOCT\\labelsTr'\n",
    "segs_folder = os.listdir(segs_path)\n",
    "\n",
    "num_classes = 13\n",
    "label_counts = np.zeros(num_classes)\n",
    "\n",
    "print('Counting labels...')\n",
    "\n",
    "class_count = []\n",
    "\n",
    "for file in segs_folder:\n",
    "\n",
    "    seg = sitk.ReadImage(os.path.join(segs_path, file))\n",
    "    seg_data = sitk.GetArrayFromImage(seg)\n",
    "\n",
    "    unique, counts = np.unique(seg_data, return_counts=True)\n",
    "    label_counts[unique] += counts\n",
    "        \n",
    "total_pixels = 704 * 704 * 1846\n",
    "class_weights = total_pixels / (13 * label_counts)\n",
    "\n",
    "print(\"Class weights:\")\n",
    "list_weights = []\n",
    "for label, weight in enumerate(class_weights):\n",
    "    print(f\"Label {label}: {weight}\")\n"
   ]
  },
  {
   "cell_type": "code",
   "execution_count": 4,
   "metadata": {},
   "outputs": [
    {
     "data": {
      "text/plain": [
       "array([1.09136399e-01, 6.94760940e-01, 1.41013441e+00, 1.32217489e+00,\n",
       "       2.53566139e+00, 1.08887798e+01, 4.69721792e+00, 5.80218281e+00,\n",
       "       1.94742893e+01, 7.39367890e+02, 1.55389530e+03, 1.54302723e+04,\n",
       "       1.33963274e+02])"
      ]
     },
     "execution_count": 4,
     "metadata": {},
     "output_type": "execute_result"
    }
   ],
   "source": [
    "class_weights"
   ]
  },
  {
   "cell_type": "code",
   "execution_count": null,
   "metadata": {},
   "outputs": [],
   "source": []
  }
 ],
 "metadata": {
  "kernelspec": {
   "display_name": "ai_master",
   "language": "python",
   "name": "python3"
  },
  "language_info": {
   "codemirror_mode": {
    "name": "ipython",
    "version": 3
   },
   "file_extension": ".py",
   "mimetype": "text/x-python",
   "name": "python",
   "nbconvert_exporter": "python",
   "pygments_lexer": "ipython3",
   "version": "3.10.5"
  },
  "orig_nbformat": 4
 },
 "nbformat": 4,
 "nbformat_minor": 2
}
