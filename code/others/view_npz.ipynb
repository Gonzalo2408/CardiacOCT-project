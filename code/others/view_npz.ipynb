{
 "cells": [
  {
   "cell_type": "code",
   "execution_count": null,
   "metadata": {},
   "outputs": [],
   "source": [
    "import SimpleITK as sitk\n",
    "import numpy as np\n",
    "import matplotlib.pyplot as plt\n",
    "import os\n",
    "import pandas as pd"
   ]
  },
  {
   "cell_type": "code",
   "execution_count": null,
   "metadata": {},
   "outputs": [],
   "source": [
    "npz_file = np.load(r'Z:\\grodriguez\\CardiacOCT\\data-2d\\nnUNet_preprocessed\\Task507_CardiacOCT\\nnUNetData_plans_v2.1_2D_stage0\\ESTNEMC0027_1_frame27_001.npz')\n",
    "npz_file_data = npz_file['data']\n",
    "\n",
    "#npz_file_new = np.çoad(r'Z:\\grodriguez\\CardiacOCT\\data-3d\\nnUNetData_plans_v2.1_stage1\\NLD-AMPH-0003_1_002.npz')\n",
    "#npz_file_data_new = npz_file_new['data']"
   ]
  },
  {
   "cell_type": "code",
   "execution_count": null,
   "metadata": {},
   "outputs": [],
   "source": [
    "frame = 2\n",
    "unique, counts = np.unique(npz_file_data[0,:,:,frame], return_counts=True)\n",
    "print(np.asarray((unique, counts)).T)\n",
    "\n",
    "#unique, counts = np.unique(npz_file_data_no_res[3,:,:,frame], return_counts=True)\n",
    "#print(np.asarray((unique, counts)).T)"
   ]
  },
  {
   "cell_type": "code",
   "execution_count": null,
   "metadata": {},
   "outputs": [],
   "source": [
    "#fig, axes = plt.subplots(1,2, figsize=(8,8))\n",
    "\n",
    "for frame in range(0, npz_file_data.shape[0], 3):\n",
    "    plt.figure()\n",
    "    plt.imshow(npz_file_data[frame,0,:,:])"
   ]
  },
  {
   "cell_type": "code",
   "execution_count": null,
   "metadata": {},
   "outputs": [],
   "source": [
    "pkl_file = np.load(r'Z:\\grodriguez\\CardiacOCT\\data-3d\\nnUNet_preprocessed\\Task504_CardiacOCT\\nnUNetPlansv2.1_plans_3D.pkl', allow_pickle=True)"
   ]
  }
 ],
 "metadata": {
  "kernelspec": {
   "display_name": "ai_master",
   "language": "python",
   "name": "python3"
  },
  "language_info": {
   "codemirror_mode": {
    "name": "ipython",
    "version": 3
   },
   "file_extension": ".py",
   "mimetype": "text/x-python",
   "name": "python",
   "nbconvert_exporter": "python",
   "pygments_lexer": "ipython3",
   "version": "3.10.5"
  },
  "orig_nbformat": 4,
  "vscode": {
   "interpreter": {
    "hash": "b5ece6e7ae68788446578bb4bf0b300a67b46c494eda56bd0b4e8c918cf09a3e"
   }
  }
 },
 "nbformat": 4,
 "nbformat_minor": 2
}
