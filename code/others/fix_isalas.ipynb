{
 "cells": [
  {
   "cell_type": "code",
   "execution_count": 24,
   "metadata": {},
   "outputs": [],
   "source": [
    "import SimpleITK as sitk\n",
    "import numpy as np\n",
    "import os\n",
    "import matplotlib.pyplot as plt"
   ]
  },
  {
   "cell_type": "code",
   "execution_count": 3,
   "metadata": {},
   "outputs": [],
   "source": [
    "seg1 = sitk.ReadImage(r'Z:\\grodriguez\\CardiacOCT\\code\\NLD-ISALA-0065-LAD.nii.gz')\n",
    "seg1 = sitk.GetArrayFromImage(seg1)\n",
    "\n",
    "seg2 = sitk.ReadImage(r'Z:\\grodriguez\\CardiacOCT\\data-original\\SEGMENTATIONS\\NLD-ISALA-0073.nii.gz')\n",
    "seg2 = sitk.GetArrayFromImage(seg2)"
   ]
  },
  {
   "cell_type": "code",
   "execution_count": 19,
   "metadata": {},
   "outputs": [],
   "source": [
    "labels_path = r'Z:\\grodriguez\\CardiacOCT\\data-2d\\nnUNet_raw_data\\Task601_CardiacOCT\\labelsTr'\n",
    "\n",
    "isala65 = np.zeros((540, 704, 704))\n",
    "isala73 = np.zeros((540, 704, 704))\n",
    "\n",
    "isala65_correct = [int(frames.split('_')[2].replace('frame','')) for frames in os.listdir(labels_path) if 'NLDISALA0065_1' in frames]\n",
    "isala73_correct = [int(frames.split('_')[2].replace('frame','')) for frames in os.listdir(labels_path) if 'NLDISALA0073_1' in frames]\n"
   ]
  },
  {
   "cell_type": "code",
   "execution_count": 22,
   "metadata": {},
   "outputs": [],
   "source": [
    "for frame in range(len(isala65)):\n",
    "\n",
    "    if frame in isala65_correct:\n",
    "\n",
    "        correct_frame = sitk.GetArrayFromImage(sitk.ReadImage(os.path.join(labels_path, 'NLDISALA0065_1_frame{}_034.nii.gz'.format(frame))))\n",
    "        isala65[frame,:,:] = correct_frame\n",
    "\n",
    "    else:\n",
    "        continue"
   ]
  },
  {
   "cell_type": "code",
   "execution_count": 27,
   "metadata": {},
   "outputs": [],
   "source": [
    "for frame in range(len(isala73)):\n",
    "\n",
    "    if frame in isala73_correct:\n",
    "\n",
    "        correct_frame = sitk.GetArrayFromImage(sitk.ReadImage(os.path.join(labels_path, 'NLDISALA0073_1_frame{}_036.nii.gz'.format(frame))))\n",
    "        isala73[frame,:,:] = correct_frame\n",
    "\n",
    "    else:\n",
    "        continue"
   ]
  },
  {
   "cell_type": "code",
   "execution_count": 33,
   "metadata": {},
   "outputs": [],
   "source": [
    "fixed_isala65 = sitk.GetImageFromArray(isala65)\n",
    "fixed_isala73 = sitk.GetImageFromArray(isala73)\n",
    "\n",
    "sitk.WriteImage(fixed_isala65, r'Z:\\grodriguez\\CardiacOCT\\code\\NLD-ISALA-0065-LAD-fixed.nii.gz')\n",
    "sitk.WriteImage(fixed_isala73, r'Z:\\grodriguez\\CardiacOCT\\code\\NLD-ISALA-0073-fixed.nii.gz')"
   ]
  },
  {
   "cell_type": "code",
   "execution_count": null,
   "metadata": {},
   "outputs": [],
   "source": []
  }
 ],
 "metadata": {
  "kernelspec": {
   "display_name": "ai_master",
   "language": "python",
   "name": "python3"
  },
  "language_info": {
   "codemirror_mode": {
    "name": "ipython",
    "version": 3
   },
   "file_extension": ".py",
   "mimetype": "text/x-python",
   "name": "python",
   "nbconvert_exporter": "python",
   "pygments_lexer": "ipython3",
   "version": "3.10.5"
  },
  "orig_nbformat": 4
 },
 "nbformat": 4,
 "nbformat_minor": 2
}
