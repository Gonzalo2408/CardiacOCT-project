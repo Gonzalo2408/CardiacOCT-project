{
 "cells": [
  {
   "cell_type": "code",
   "execution_count": 1,
   "metadata": {},
   "outputs": [],
   "source": [
    "import pandas as pd\n",
    "import json\n",
    "import numpy as np\n",
    "import matplotlib.pyplot as plt\n",
    "import os"
   ]
  },
  {
   "attachments": {},
   "cell_type": "markdown",
   "metadata": {},
   "source": [
    "## Save best training metrics"
   ]
  },
  {
   "cell_type": "code",
   "execution_count": 20,
   "metadata": {},
   "outputs": [],
   "source": [
    "with open(r'Z:\\grodriguez\\CardiacOCT\\predicted_results\\summary.json') as f:\n",
    "    summary = json.load(f)"
   ]
  },
  {
   "cell_type": "code",
   "execution_count": 25,
   "metadata": {},
   "outputs": [],
   "source": [
    "#Merge frames into pullbacks\n",
    "\n",
    "pullbacks_origs = os.listdir(r'Z:\\grodriguez\\CardiacOCT\\predicted_results')\n",
    "pullbacks_origs_set = []\n",
    "pullbacks_dict = {}\n",
    "\n",
    "for i in range(len(pullbacks_origs)):\n",
    "    if pullbacks_origs[i].split('_frame')[0] not in pullbacks_origs_set:\n",
    "        pullbacks_origs_set.append(pullbacks_origs[i].split('_frame')[0])\n",
    "\n",
    "    else:\n",
    "        continue\n",
    "\n",
    "for i in range(len(pullbacks_origs_set)):\n",
    "    frames_from_pullback = [frame for frame in pullbacks_origs if pullbacks_origs_set[i] in frame]\n",
    "    pullbacks_dict[pullbacks_origs_set[i]] = frames_from_pullback\n",
    "\n",
    "#Remove last key-value pair\n",
    "keys = list(pullbacks_dict.keys())[-3:]\n",
    "for key in keys:\n",
    "    pullbacks_dict[key].pop()\n",
    "    if not pullbacks_dict[key]:\n",
    "        pullbacks_dict.pop(key)"
   ]
  },
  {
   "cell_type": "code",
   "execution_count": 27,
   "metadata": {},
   "outputs": [
    {
     "data": {
      "text/plain": [
       "['NLDAMPH0005_1_frame0_003.nii.gz',\n",
       " 'NLDAMPH0005_1_frame120_003.nii.gz',\n",
       " 'NLDAMPH0005_1_frame160_003.nii.gz',\n",
       " 'NLDAMPH0005_1_frame200_003.nii.gz',\n",
       " 'NLDAMPH0005_1_frame240_003.nii.gz',\n",
       " 'NLDAMPH0005_1_frame268_003.nii.gz',\n",
       " 'NLDAMPH0005_1_frame280_003.nii.gz',\n",
       " 'NLDAMPH0005_1_frame320_003.nii.gz',\n",
       " 'NLDAMPH0005_1_frame360_003.nii.gz',\n",
       " 'NLDAMPH0005_1_frame400_003.nii.gz',\n",
       " 'NLDAMPH0005_1_frame40_003.nii.gz',\n",
       " 'NLDAMPH0005_1_frame440_003.nii.gz',\n",
       " 'NLDAMPH0005_1_frame449_003.nii.gz',\n",
       " 'NLDAMPH0005_1_frame480_003.nii.gz',\n",
       " 'NLDAMPH0005_1_frame520_003.nii.gz',\n",
       " 'NLDAMPH0005_1_frame80_003.nii.gz']"
      ]
     },
     "execution_count": 27,
     "metadata": {},
     "output_type": "execute_result"
    }
   ],
   "source": [
    "pullbacks_dict['NLDAMPH0005_1']"
   ]
  },
  {
   "cell_type": "code",
   "execution_count": 28,
   "metadata": {},
   "outputs": [],
   "source": [
    "def merge_dicts(list_dicts):\n",
    "\n",
    "    result = {}\n",
    "    for d in list_dicts:\n",
    "        for label, metrics in d.items():\n",
    "            if label not in result:\n",
    "                if np.isnan(metrics['Dice']):\n",
    "                    metrics['Dice'] = 0.0\n",
    "                result[label] = [metrics['Dice']]\n",
    "\n",
    "            else:\n",
    "                if np.isnan(metrics['Dice']):\n",
    "                    metrics['Dice'] = 0.0\n",
    "                result[label].append(metrics['Dice'])\n",
    "            \n",
    "    return result\n",
    "    "
   ]
  },
  {
   "cell_type": "code",
   "execution_count": 29,
   "metadata": {},
   "outputs": [],
   "source": [
    "def mean_metrics(dict_pullback):\n",
    "    \n",
    "    for label, dices in dict_pullback.items():\n",
    "        dict_pullback[label] = np.mean(dices)\n",
    "\n",
    "    return dict_pullback"
   ]
  },
  {
   "cell_type": "code",
   "execution_count": 8,
   "metadata": {},
   "outputs": [],
   "source": [
    "list_dicts_pullback = []\n",
    "final_dict = {}\n",
    "\n",
    "for pullback in pullbacks_dict:\n",
    "\n",
    "    for frame in pullbacks_dict[pullback]:\n",
    "\n",
    "        for sub_dict in summary['results']['all']:\n",
    "\n",
    "            if sub_dict['test'] == r'/mnt/netcache/diag/grodriguez/CardiacOCT/predicted_results/{}'.format(frame):\n",
    "                list_dicts_pullback.append({k: v for i, (k, v) in enumerate(sub_dict.items()) if i < len(sub_dict) - 2})\n",
    "\n",
    "            else:\n",
    "                continue\n",
    "\n",
    "    result = merge_dicts(list_dicts_pullback)\n",
    "    mean_result = mean_metrics(result)\n",
    "    final_dict[pullback] = mean_result"
   ]
  },
  {
   "cell_type": "code",
   "execution_count": 15,
   "metadata": {},
   "outputs": [
    {
     "data": {
      "text/plain": [
       "dict_keys(['1', '10', '11', '12', '2', '3', '4', '5', '6', '7', '8', '9', 'reference', 'test'])"
      ]
     },
     "execution_count": 15,
     "metadata": {},
     "output_type": "execute_result"
    }
   ],
   "source": [
    "summary['results']['all'][0].keys()"
   ]
  },
  {
   "cell_type": "code",
   "execution_count": 16,
   "metadata": {},
   "outputs": [
    {
     "data": {
      "text/plain": [
       "dict_keys(['NLDAMPH0067_1', 'NLDAMPH0063_1', 'NLDHMC0009_1', 'NLDRADB0097_1', 'NLDRADB0094_1', 'NLDAMPH0007_1', 'NLDISALA0090_1', 'NLDRADB0085_1', 'NLDAMPH0076_1', 'NLDRADB0088_1', 'NLDAMPH0029_1', 'NLDAMPH0003_1', 'NLDISALA0008_1', 'NLDAMPH0069_1', 'NLDRADB0095_1', 'NLDRADB0084_2', 'NLDAMPH0012_1', 'NLDAMPH0066_1', 'NLDAMPH0059_1', 'NLDAMPH0061_1', 'ESTNEMC0027_1', 'NLDRADB0090_1', 'NLDISALA0085_1', 'NLDISALA0092_1', 'NLDAMPH0017_1', 'NLDHMC0009_2', 'NLDISALA0095_2', 'NLDRADB0094_2', 'NLDAMPH0045_1', 'NLDRADB0086_1', 'NLDISALA0081_1', 'NLDAMPH0073_1', 'NLDAMPH0013_1', 'NLDISALA0079_1', 'NLDRADB0084_1', 'NLDISALA0086_1', 'NLDISALA0081_2', 'NLDAMPH0075_1', 'NLDRADB0091_1', 'NLDISALA0006_1', 'ESTNEMC0027_2', 'NLDISALA0084_1', 'NLDHMC0002_1', 'NLDAMPH0068_1', 'NLDISALA0082_1', 'NLDAMPH0072_1', 'NLDRADB0096_1', 'NLDISALA0088_1', 'NLDHMC0002_2', 'NLDISALA0058_1', 'NLDISALA0076_1', 'NLDAMPH0065_1', 'NLDISALA0070_1', 'NLDISALA0095_1', 'NLDISALA0096_1', 'NLDAMPH0062_1'])"
      ]
     },
     "execution_count": 16,
     "metadata": {},
     "output_type": "execute_result"
    }
   ],
   "source": [
    "final_dict.keys()"
   ]
  },
  {
   "cell_type": "code",
   "execution_count": 95,
   "metadata": {},
   "outputs": [],
   "source": [
    "with open(r'Z:\\grodriguez\\CardiacOCT\\metrics_build\\pullback_metrics.json', 'w') as f:\n",
    "    json.dump(final_dict, f, indent=4)"
   ]
  },
  {
   "attachments": {},
   "cell_type": "markdown",
   "metadata": {},
   "source": [
    "## Create Excel file"
   ]
  },
  {
   "attachments": {},
   "cell_type": "markdown",
   "metadata": {},
   "source": [
    "### Second sheet (best performance on 1st dataset)"
   ]
  },
  {
   "cell_type": "code",
   "execution_count": 17,
   "metadata": {},
   "outputs": [],
   "source": [
    "with open(r'Z:\\grodriguez\\CardiacOCT\\metrics_build\\pullback_metrics_model1.json', 'r') as f:\n",
    "    data = pd.read_json(f, orient='index')"
   ]
  },
  {
   "cell_type": "code",
   "execution_count": 18,
   "metadata": {},
   "outputs": [],
   "source": [
    "data.rename(columns={\n",
    "        1: \"lumen\",\n",
    "        10: \"wthrombus\",\n",
    "        11: \"dissection\",\n",
    "        12: \"rupture\",\n",
    "        2: \"guidewire\",\n",
    "        3: \"wall\",\n",
    "        4: \"lipid\",\n",
    "        5: \"calcium\",\n",
    "        6: \"media\",\n",
    "        7: \"catheter\",\n",
    "        8: \"sidebranch\",\n",
    "        9: \"rthrombus\"}, inplace=True)"
   ]
  },
  {
   "cell_type": "code",
   "execution_count": 19,
   "metadata": {},
   "outputs": [],
   "source": [
    "#CHANGE NAME EACH TIME IS COMPILED\n",
    "data.to_excel('./metrics_models.xlsx')"
   ]
  },
  {
   "cell_type": "code",
   "execution_count": 3,
   "metadata": {},
   "outputs": [
    {
     "name": "stderr",
     "output_type": "stream",
     "text": [
      "C:\\Users\\gonza\\AppData\\Local\\Temp\\ipykernel_3424\\351886512.py:3: RuntimeWarning: Mean of empty slice\n",
      "  np.nanmean(a)\n"
     ]
    },
    {
     "data": {
      "text/plain": [
       "nan"
      ]
     },
     "execution_count": 3,
     "metadata": {},
     "output_type": "execute_result"
    }
   ],
   "source": [
    "a = [np.nan, np.nan, np.nan]\n",
    "\n",
    "np.nanmean(a)"
   ]
  },
  {
   "cell_type": "code",
   "execution_count": null,
   "metadata": {},
   "outputs": [],
   "source": []
  }
 ],
 "metadata": {
  "kernelspec": {
   "display_name": "ai_master",
   "language": "python",
   "name": "python3"
  },
  "language_info": {
   "codemirror_mode": {
    "name": "ipython",
    "version": 3
   },
   "file_extension": ".py",
   "mimetype": "text/x-python",
   "name": "python",
   "nbconvert_exporter": "python",
   "pygments_lexer": "ipython3",
   "version": "3.10.5"
  },
  "orig_nbformat": 4,
  "vscode": {
   "interpreter": {
    "hash": "b5ece6e7ae68788446578bb4bf0b300a67b46c494eda56bd0b4e8c918cf09a3e"
   }
  }
 },
 "nbformat": 4,
 "nbformat_minor": 2
}
