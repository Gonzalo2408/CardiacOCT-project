{
 "cells": [
  {
   "cell_type": "code",
   "execution_count": 1,
   "metadata": {},
   "outputs": [],
   "source": [
    "import matplotlib.pyplot as plt\n",
    "import numpy as np\n",
    "import pandas as pd \n",
    "import math\n",
    "import statsmodels.api as sm\n",
    "import seaborn as sns\n",
    "import pingouin as pg\n",
    "from matplotlib.colors import ListedColormap\n",
    "pd.options.mode.chained_assignment = None"
   ]
  },
  {
   "cell_type": "code",
   "execution_count": 2,
   "metadata": {},
   "outputs": [],
   "source": [
    "measurements = pd.read_excel(r'Z:\\grodriguez\\CardiacOCT\\code\\count-distributions\\manual_vs_automatic_measures.xlsx', sheet_name='Lipid new test set')"
   ]
  },
  {
   "attachments": {},
   "cell_type": "markdown",
   "metadata": {},
   "source": [
    "## Functions"
   ]
  },
  {
   "cell_type": "code",
   "execution_count": 27,
   "metadata": {},
   "outputs": [],
   "source": [
    "def get_data_filtered(test_sheet, type_manual, type_ai, missing = -99):\n",
    "\n",
    "    manual = test_sheet[type_manual]\n",
    "    ai = test_sheet[type_ai]\n",
    "\n",
    "    list_fp = []\n",
    "    list_fn = []\n",
    "    list_nulls = []\n",
    "    list_drops = []\n",
    "    fp_count = 0\n",
    "    fn_count = 0\n",
    "\n",
    "    for value in range(len(manual)):\n",
    "\n",
    "        if manual[value] == missing and ai[value] != missing:\n",
    "            list_fp.append(value)\n",
    "            fp_count += 1\n",
    "\n",
    "        if manual[value] != missing and ai[value] == missing:\n",
    "            list_fn.append(value)\n",
    "            fn_count += 1\n",
    "\n",
    "        if manual[value] == missing and ai[value] == missing:\n",
    "            list_nulls.append(value)\n",
    "\n",
    "        if math.isnan(ai[value]):\n",
    "            list_nulls.append(value)\n",
    "\n",
    "    list_drops.extend(list_fp)\n",
    "    list_drops.extend(list_fn)\n",
    "    list_drops.extend(list_nulls)\n",
    "\n",
    "    ai.drop(list_drops, inplace=True)\n",
    "    manual.drop(list_drops, inplace=True)\n",
    "\n",
    "    print('Found {} FP and {} FN. Total values are {}'.format(fp_count, fn_count, len(manual)))\n",
    "\n",
    "    return manual, ai"
   ]
  },
  {
   "cell_type": "code",
   "execution_count": 28,
   "metadata": {},
   "outputs": [],
   "source": [
    "def corr_plot(manual, automatic, thresh, title):\n",
    "\n",
    "    print('Corr {}: {}'.format(title, np.corrcoef(manual, automatic)))\n",
    "\n",
    "    col = []\n",
    "    for i, j in zip(manual, automatic):\n",
    "        if i <= thresh and j >= thresh:\n",
    "            col.append(0)\n",
    "\n",
    "        elif i >= thresh and j <= thresh:\n",
    "            col.append(1)\n",
    "\n",
    "        else:\n",
    "            col.append(2)\n",
    "\n",
    "    classes = ['FP', 'FN', 'TP/TN']\n",
    "    scatter = plt.scatter(manual, automatic, c=col, cmap=ListedColormap(['black', 'green', 'blue']))\n",
    "    plt.axhline(thresh, color='r')\n",
    "    plt.axvline(thresh, color='r')\n",
    "    plt.xlabel('Manual')\n",
    "    plt.ylabel('Automatic')\n",
    "    plt.title(title)\n",
    "    plt.legend(handles=scatter.legend_elements()[0], labels = classes)\n",
    "    plt.show()"
   ]
  },
  {
   "cell_type": "code",
   "execution_count": 29,
   "metadata": {},
   "outputs": [],
   "source": [
    "def calculate_icc(automatic_values, manual_values):\n",
    "\n",
    "    raters1 = ['Automatic' for _ in range(len(automatic_values))]\n",
    "    raters2 = ['Manual' for _ in range(len(automatic_values))]\n",
    "    raters1.extend(raters2)\n",
    "\n",
    "    exam1 = list(np.arange(0, len(automatic_values)))\n",
    "    exam2 = list(np.arange(0, len(automatic_values)))\n",
    "    exam1.extend(exam2)\n",
    "\n",
    "    values_fct = pd.concat([automatic_values, manual_values])\n",
    "\n",
    "    icc_df = pd.DataFrame({'exam': exam1, 'raters': raters1, 'fct': values_fct})\n",
    "\n",
    "    icc = pg.intraclass_corr(icc_df, 'exam', 'raters', 'fct')\n",
    "\n",
    "    return icc"
   ]
  },
  {
   "attachments": {},
   "cell_type": "markdown",
   "metadata": {},
   "source": [
    "# Bland Altman manual vs automatic"
   ]
  },
  {
   "cell_type": "code",
   "execution_count": 41,
   "metadata": {},
   "outputs": [
    {
     "name": "stdout",
     "output_type": "stream",
     "text": [
      "Found 9 FP and 3 FN. Total values are 73\n",
      "95.63604226556758\n"
     ]
    },
    {
     "data": {
      "text/plain": [
       "(-400.0, 400.0)"
      ]
     },
     "execution_count": 41,
     "metadata": {},
     "output_type": "execute_result"
    },
    {
     "data": {
      "image/png": "[encoded data removed]",
      "text/plain": [
       "<Figure size 432x288 with 1 Axes>"
      ]
     },
     "metadata": {
      "needs_background": "light"
     },
     "output_type": "display_data"
    }
   ],
   "source": [
    "manual_fct, ai_fct_model3 = get_data_filtered(measurements, 'FCT automatic', 'FCT model 3 2D')\n",
    "mean = np.mean([manual_fct, ai_fct_model3], axis=0)\n",
    "diff = manual_fct - ai_fct_model3                   \n",
    "md = np.mean(diff)                   \n",
    "sd = np.std(diff, axis=0) \n",
    "print(sd)\n",
    "\n",
    "fig, axes = plt.subplots()\n",
    "\n",
    "sm.graphics.mean_diff_plot(ai_fct_model3, manual_fct, ax = axes)\n",
    "plt.xlabel('Mean FCT')\n",
    "plt.ylabel('FCT difference (ai - manual)')\n",
    "plt.title('FCT manual vs automatic')\n",
    "plt.xlim(-30, 650)\n",
    "plt.ylim(-400, 400)"
   ]
  },
  {
   "cell_type": "code",
   "execution_count": 42,
   "metadata": {},
   "outputs": [
    {
     "name": "stdout",
     "output_type": "stream",
     "text": [
      "Found 9 FP and 3 FN. Total values are 73\n",
      "22.046514228820477\n"
     ]
    },
    {
     "data": {
      "text/plain": [
       "(-75.0, 150.0)"
      ]
     },
     "execution_count": 42,
     "metadata": {},
     "output_type": "execute_result"
    },
    {
     "data": {
      "image/png": "[encoded data removed]",
      "text/plain": [
       "<Figure size 432x288 with 1 Axes>"
      ]
     },
     "metadata": {
      "needs_background": "light"
     },
     "output_type": "display_data"
    }
   ],
   "source": [
    "manual_arc, ai_arc_model3 = get_data_filtered(measurements, 'Lipid arc manual', 'Lipid arc model 3 2D')\n",
    "mean = np.mean([manual_arc, ai_arc_model3], axis=0)\n",
    "diff = manual_arc - ai_arc_model3                   \n",
    "md = np.mean(diff)                   \n",
    "sd = np.std(diff, axis=0) \n",
    "print(sd)\n",
    "\n",
    "fig, axes = plt.subplots()\n",
    "\n",
    "sm.graphics.mean_diff_plot(ai_arc_model3, manual_arc, ax = axes)\n",
    "plt.xlabel('Mean lipid arc')\n",
    "plt.ylabel('Lipid arc difference (ai - manual)')\n",
    "plt.title('Lipid arc manual vs automatic')\n",
    "plt.xlim(-20, 400)\n",
    "plt.ylim(-75, 150)\n"
   ]
  },
  {
   "attachments": {},
   "cell_type": "markdown",
   "metadata": {},
   "source": [
    "## Pearson and ICC"
   ]
  },
  {
   "cell_type": "code",
   "execution_count": 43,
   "metadata": {},
   "outputs": [
    {
     "name": "stdout",
     "output_type": "stream",
     "text": [
      "Corr FCT: [[1.         0.74217054]\n",
      " [0.74217054 1.        ]]\n"
     ]
    },
    {
     "data": {
      "image/png": "[encoded data removed]",
      "text/plain": [
       "<Figure size 432x288 with 1 Axes>"
      ]
     },
     "metadata": {
      "needs_background": "light"
     },
     "output_type": "display_data"
    }
   ],
   "source": [
    "corr_plot(manual_fct, ai_fct_model3, 65, 'FCT')"
   ]
  },
  {
   "cell_type": "code",
   "execution_count": 44,
   "metadata": {},
   "outputs": [
    {
     "name": "stdout",
     "output_type": "stream",
     "text": [
      "Corr Lipid arc: [[1.         0.94085203]\n",
      " [0.94085203 1.        ]]\n"
     ]
    },
    {
     "data": {
      "image/png": "[encoded data removed]",
      "text/plain": [
       "<Figure size 432x288 with 1 Axes>"
      ]
     },
     "metadata": {
      "needs_background": "light"
     },
     "output_type": "display_data"
    }
   ],
   "source": [
    "corr_plot(manual_arc, ai_arc_model3, 90, 'Lipid arc')"
   ]
  },
  {
   "cell_type": "code",
   "execution_count": 45,
   "metadata": {},
   "outputs": [
    {
     "data": {
      "text/html": [
       "<div>\n",
       "<style scoped>\n",
       "    .dataframe tbody tr th:only-of-type {\n",
       "        vertical-align: middle;\n",
       "    }\n",
       "\n",
       "    .dataframe tbody tr th {\n",
       "        vertical-align: top;\n",
       "    }\n",
       "\n",
       "    .dataframe thead th {\n",
       "        text-align: right;\n",
       "    }\n",
       "</style>\n",
       "<table border=\"1\" class=\"dataframe\">\n",
       "  <thead>\n",
       "    <tr style=\"text-align: right;\">\n",
       "      <th></th>\n",
       "      <th>Type</th>\n",
       "      <th>Description</th>\n",
       "      <th>ICC</th>\n",
       "      <th>F</th>\n",
       "      <th>df1</th>\n",
       "      <th>df2</th>\n",
       "      <th>pval</th>\n",
       "      <th>CI95%</th>\n",
       "    </tr>\n",
       "  </thead>\n",
       "  <tbody>\n",
       "    <tr>\n",
       "      <th>0</th>\n",
       "      <td>ICC1</td>\n",
       "      <td>Single raters absolute</td>\n",
       "      <td>0.709084</td>\n",
       "      <td>5.874825</td>\n",
       "      <td>72</td>\n",
       "      <td>73</td>\n",
       "      <td>5.918496e-13</td>\n",
       "      <td>[0.57, 0.81]</td>\n",
       "    </tr>\n",
       "    <tr>\n",
       "      <th>1</th>\n",
       "      <td>ICC2</td>\n",
       "      <td>Single random raters</td>\n",
       "      <td>0.714165</td>\n",
       "      <td>6.692739</td>\n",
       "      <td>72</td>\n",
       "      <td>72</td>\n",
       "      <td>2.482220e-14</td>\n",
       "      <td>[0.55, 0.82]</td>\n",
       "    </tr>\n",
       "    <tr>\n",
       "      <th>2</th>\n",
       "      <td>ICC3</td>\n",
       "      <td>Single fixed raters</td>\n",
       "      <td>0.740015</td>\n",
       "      <td>6.692739</td>\n",
       "      <td>72</td>\n",
       "      <td>72</td>\n",
       "      <td>2.482220e-14</td>\n",
       "      <td>[0.62, 0.83]</td>\n",
       "    </tr>\n",
       "    <tr>\n",
       "      <th>3</th>\n",
       "      <td>ICC1k</td>\n",
       "      <td>Average raters absolute</td>\n",
       "      <td>0.829782</td>\n",
       "      <td>5.874825</td>\n",
       "      <td>72</td>\n",
       "      <td>73</td>\n",
       "      <td>5.918496e-13</td>\n",
       "      <td>[0.73, 0.89]</td>\n",
       "    </tr>\n",
       "    <tr>\n",
       "      <th>4</th>\n",
       "      <td>ICC2k</td>\n",
       "      <td>Average random raters</td>\n",
       "      <td>0.833251</td>\n",
       "      <td>6.692739</td>\n",
       "      <td>72</td>\n",
       "      <td>72</td>\n",
       "      <td>2.482220e-14</td>\n",
       "      <td>[0.71, 0.9]</td>\n",
       "    </tr>\n",
       "    <tr>\n",
       "      <th>5</th>\n",
       "      <td>ICC3k</td>\n",
       "      <td>Average fixed raters</td>\n",
       "      <td>0.850584</td>\n",
       "      <td>6.692739</td>\n",
       "      <td>72</td>\n",
       "      <td>72</td>\n",
       "      <td>2.482220e-14</td>\n",
       "      <td>[0.76, 0.91]</td>\n",
       "    </tr>\n",
       "  </tbody>\n",
       "</table>\n",
       "</div>"
      ],
      "text/plain": [
       "    Type              Description       ICC         F  df1  df2          pval  \\\n",
       "0   ICC1   Single raters absolute  0.709084  5.874825   72   73  5.918496e-13   \n",
       "1   ICC2     Single random raters  0.714165  6.692739   72   72  2.482220e-14   \n",
       "2   ICC3      Single fixed raters  0.740015  6.692739   72   72  2.482220e-14   \n",
       "3  ICC1k  Average raters absolute  0.829782  5.874825   72   73  5.918496e-13   \n",
       "4  ICC2k    Average random raters  0.833251  6.692739   72   72  2.482220e-14   \n",
       "5  ICC3k     Average fixed raters  0.850584  6.692739   72   72  2.482220e-14   \n",
       "\n",
       "          CI95%  \n",
       "0  [0.57, 0.81]  \n",
       "1  [0.55, 0.82]  \n",
       "2  [0.62, 0.83]  \n",
       "3  [0.73, 0.89]  \n",
       "4   [0.71, 0.9]  \n",
       "5  [0.76, 0.91]  "
      ]
     },
     "execution_count": 45,
     "metadata": {},
     "output_type": "execute_result"
    }
   ],
   "source": [
    "calculate_icc(ai_fct_model3, manual_fct)"
   ]
  },
  {
   "cell_type": "code",
   "execution_count": 46,
   "metadata": {},
   "outputs": [
    {
     "data": {
      "text/html": [
       "<div>\n",
       "<style scoped>\n",
       "    .dataframe tbody tr th:only-of-type {\n",
       "        vertical-align: middle;\n",
       "    }\n",
       "\n",
       "    .dataframe tbody tr th {\n",
       "        vertical-align: top;\n",
       "    }\n",
       "\n",
       "    .dataframe thead th {\n",
       "        text-align: right;\n",
       "    }\n",
       "</style>\n",
       "<table border=\"1\" class=\"dataframe\">\n",
       "  <thead>\n",
       "    <tr style=\"text-align: right;\">\n",
       "      <th></th>\n",
       "      <th>Type</th>\n",
       "      <th>Description</th>\n",
       "      <th>ICC</th>\n",
       "      <th>F</th>\n",
       "      <th>df1</th>\n",
       "      <th>df2</th>\n",
       "      <th>pval</th>\n",
       "      <th>CI95%</th>\n",
       "    </tr>\n",
       "  </thead>\n",
       "  <tbody>\n",
       "    <tr>\n",
       "      <th>0</th>\n",
       "      <td>ICC1</td>\n",
       "      <td>Single raters absolute</td>\n",
       "      <td>0.931890</td>\n",
       "      <td>28.364393</td>\n",
       "      <td>72</td>\n",
       "      <td>73</td>\n",
       "      <td>4.043117e-34</td>\n",
       "      <td>[0.89, 0.96]</td>\n",
       "    </tr>\n",
       "    <tr>\n",
       "      <th>1</th>\n",
       "      <td>ICC2</td>\n",
       "      <td>Single random raters</td>\n",
       "      <td>0.931882</td>\n",
       "      <td>28.266339</td>\n",
       "      <td>72</td>\n",
       "      <td>72</td>\n",
       "      <td>1.101359e-33</td>\n",
       "      <td>[0.89, 0.96]</td>\n",
       "    </tr>\n",
       "    <tr>\n",
       "      <th>2</th>\n",
       "      <td>ICC3</td>\n",
       "      <td>Single fixed raters</td>\n",
       "      <td>0.931662</td>\n",
       "      <td>28.266339</td>\n",
       "      <td>72</td>\n",
       "      <td>72</td>\n",
       "      <td>1.101359e-33</td>\n",
       "      <td>[0.89, 0.96]</td>\n",
       "    </tr>\n",
       "    <tr>\n",
       "      <th>3</th>\n",
       "      <td>ICC1k</td>\n",
       "      <td>Average raters absolute</td>\n",
       "      <td>0.964745</td>\n",
       "      <td>28.364393</td>\n",
       "      <td>72</td>\n",
       "      <td>73</td>\n",
       "      <td>4.043117e-34</td>\n",
       "      <td>[0.94, 0.98]</td>\n",
       "    </tr>\n",
       "    <tr>\n",
       "      <th>4</th>\n",
       "      <td>ICC2k</td>\n",
       "      <td>Average random raters</td>\n",
       "      <td>0.964740</td>\n",
       "      <td>28.266339</td>\n",
       "      <td>72</td>\n",
       "      <td>72</td>\n",
       "      <td>1.101359e-33</td>\n",
       "      <td>[0.94, 0.98]</td>\n",
       "    </tr>\n",
       "    <tr>\n",
       "      <th>5</th>\n",
       "      <td>ICC3k</td>\n",
       "      <td>Average fixed raters</td>\n",
       "      <td>0.964622</td>\n",
       "      <td>28.266339</td>\n",
       "      <td>72</td>\n",
       "      <td>72</td>\n",
       "      <td>1.101359e-33</td>\n",
       "      <td>[0.94, 0.98]</td>\n",
       "    </tr>\n",
       "  </tbody>\n",
       "</table>\n",
       "</div>"
      ],
      "text/plain": [
       "    Type              Description       ICC          F  df1  df2  \\\n",
       "0   ICC1   Single raters absolute  0.931890  28.364393   72   73   \n",
       "1   ICC2     Single random raters  0.931882  28.266339   72   72   \n",
       "2   ICC3      Single fixed raters  0.931662  28.266339   72   72   \n",
       "3  ICC1k  Average raters absolute  0.964745  28.364393   72   73   \n",
       "4  ICC2k    Average random raters  0.964740  28.266339   72   72   \n",
       "5  ICC3k     Average fixed raters  0.964622  28.266339   72   72   \n",
       "\n",
       "           pval         CI95%  \n",
       "0  4.043117e-34  [0.89, 0.96]  \n",
       "1  1.101359e-33  [0.89, 0.96]  \n",
       "2  1.101359e-33  [0.89, 0.96]  \n",
       "3  4.043117e-34  [0.94, 0.98]  \n",
       "4  1.101359e-33  [0.94, 0.98]  \n",
       "5  1.101359e-33  [0.94, 0.98]  "
      ]
     },
     "execution_count": 46,
     "metadata": {},
     "output_type": "execute_result"
    }
   ],
   "source": [
    "calculate_icc(ai_arc_model3, manual_arc)"
   ]
  },
  {
   "attachments": {},
   "cell_type": "markdown",
   "metadata": {},
   "source": [
    "# Manual vs automatic measurements (on manual segs)"
   ]
  },
  {
   "attachments": {},
   "cell_type": "markdown",
   "metadata": {},
   "source": [
    "## Bland Altman using same manual segmentations"
   ]
  },
  {
   "cell_type": "code",
   "execution_count": 107,
   "metadata": {},
   "outputs": [
    {
     "name": "stdout",
     "output_type": "stream",
     "text": [
      "Found 0 FP and 0 FN. Total values are 76\n"
     ]
    },
    {
     "data": {
      "text/plain": [
       "(-400.0, 400.0)"
      ]
     },
     "execution_count": 107,
     "metadata": {},
     "output_type": "execute_result"
    },
    {
     "data": {
      "image/png": "[encoded data removed]",
      "text/plain": [
       "<Figure size 432x288 with 1 Axes>"
      ]
     },
     "metadata": {
      "needs_background": "light"
     },
     "output_type": "display_data"
    }
   ],
   "source": [
    "manual_fct, automatic_fct = get_data_filtered(measurements, 'FCT manual', 'FCT automatic')\n",
    "\n",
    "fig, axes = plt.subplots()\n",
    "\n",
    "sm.graphics.mean_diff_plot(automatic_fct, manual_fct, ax = axes)\n",
    "plt.xlabel('Mean FCT')\n",
    "plt.ylabel('FCT difference (ai - manual)')\n",
    "plt.title('FCT manual vs automatic')\n",
    "plt.xlim(-30, 650)\n",
    "plt.ylim(-400, 400)"
   ]
  },
  {
   "cell_type": "code",
   "execution_count": 108,
   "metadata": {},
   "outputs": [
    {
     "name": "stdout",
     "output_type": "stream",
     "text": [
      "Found 0 FP and 0 FN. Total values are 76\n"
     ]
    },
    {
     "data": {
      "text/plain": [
       "(-75.0, 150.0)"
      ]
     },
     "execution_count": 108,
     "metadata": {},
     "output_type": "execute_result"
    },
    {
     "data": {
      "image/png": "[encoded data removed]",
      "text/plain": [
       "<Figure size 432x288 with 1 Axes>"
      ]
     },
     "metadata": {
      "needs_background": "light"
     },
     "output_type": "display_data"
    }
   ],
   "source": [
    "manual_arc, automatic_arc = get_data_filtered(measurements, 'Lipid arc manual', 'Lipid arc automatic')\n",
    "\n",
    "\n",
    "fig, axes = plt.subplots()\n",
    "\n",
    "sm.graphics.mean_diff_plot(automatic_arc, manual_arc, ax = axes)\n",
    "plt.xlabel('Mean lipid arc')\n",
    "plt.ylabel('Lipid arc difference (ai - manual)')\n",
    "plt.title('Lipid arc manual vs automatic')\n",
    "plt.xlim(-20, 400)\n",
    "plt.ylim(-75, 150)\n"
   ]
  },
  {
   "attachments": {},
   "cell_type": "markdown",
   "metadata": {},
   "source": [
    "## Pearson and ICC "
   ]
  },
  {
   "cell_type": "code",
   "execution_count": 109,
   "metadata": {},
   "outputs": [
    {
     "name": "stdout",
     "output_type": "stream",
     "text": [
      "Corr FCT: [[1.         0.94489705]\n",
      " [0.94489705 1.        ]]\n"
     ]
    },
    {
     "data": {
      "image/png": "[encoded data removed]",
      "text/plain": [
       "<Figure size 432x288 with 1 Axes>"
      ]
     },
     "metadata": {
      "needs_background": "light"
     },
     "output_type": "display_data"
    }
   ],
   "source": [
    "corr_plot(manual_fct, automatic_fct, 65, 'FCT')"
   ]
  },
  {
   "cell_type": "code",
   "execution_count": 110,
   "metadata": {},
   "outputs": [
    {
     "name": "stdout",
     "output_type": "stream",
     "text": [
      "Corr Lipid arc: [[1.         0.96704953]\n",
      " [0.96704953 1.        ]]\n"
     ]
    },
    {
     "data": {
      "image/png": "[encoded data removed]",
      "text/plain": [
       "<Figure size 432x288 with 1 Axes>"
      ]
     },
     "metadata": {
      "needs_background": "light"
     },
     "output_type": "display_data"
    }
   ],
   "source": [
    "corr_plot(manual_arc, automatic_arc, 90, 'Lipid arc')"
   ]
  },
  {
   "cell_type": "code",
   "execution_count": 111,
   "metadata": {},
   "outputs": [
    {
     "data": {
      "text/html": [
       "<div>\n",
       "<style scoped>\n",
       "    .dataframe tbody tr th:only-of-type {\n",
       "        vertical-align: middle;\n",
       "    }\n",
       "\n",
       "    .dataframe tbody tr th {\n",
       "        vertical-align: top;\n",
       "    }\n",
       "\n",
       "    .dataframe thead th {\n",
       "        text-align: right;\n",
       "    }\n",
       "</style>\n",
       "<table border=\"1\" class=\"dataframe\">\n",
       "  <thead>\n",
       "    <tr style=\"text-align: right;\">\n",
       "      <th></th>\n",
       "      <th>Type</th>\n",
       "      <th>Description</th>\n",
       "      <th>ICC</th>\n",
       "      <th>F</th>\n",
       "      <th>df1</th>\n",
       "      <th>df2</th>\n",
       "      <th>pval</th>\n",
       "      <th>CI95%</th>\n",
       "    </tr>\n",
       "  </thead>\n",
       "  <tbody>\n",
       "    <tr>\n",
       "      <th>0</th>\n",
       "      <td>ICC1</td>\n",
       "      <td>Single raters absolute</td>\n",
       "      <td>0.942673</td>\n",
       "      <td>33.88754</td>\n",
       "      <td>75</td>\n",
       "      <td>76</td>\n",
       "      <td>3.316828e-38</td>\n",
       "      <td>[0.91, 0.96]</td>\n",
       "    </tr>\n",
       "    <tr>\n",
       "      <th>1</th>\n",
       "      <td>ICC2</td>\n",
       "      <td>Single random raters</td>\n",
       "      <td>0.942710</td>\n",
       "      <td>34.67031</td>\n",
       "      <td>75</td>\n",
       "      <td>75</td>\n",
       "      <td>3.881077e-38</td>\n",
       "      <td>[0.91, 0.96]</td>\n",
       "    </tr>\n",
       "    <tr>\n",
       "      <th>2</th>\n",
       "      <td>ICC3</td>\n",
       "      <td>Single fixed raters</td>\n",
       "      <td>0.943931</td>\n",
       "      <td>34.67031</td>\n",
       "      <td>75</td>\n",
       "      <td>75</td>\n",
       "      <td>3.881077e-38</td>\n",
       "      <td>[0.91, 0.96]</td>\n",
       "    </tr>\n",
       "    <tr>\n",
       "      <th>3</th>\n",
       "      <td>ICC1k</td>\n",
       "      <td>Average raters absolute</td>\n",
       "      <td>0.970491</td>\n",
       "      <td>33.88754</td>\n",
       "      <td>75</td>\n",
       "      <td>76</td>\n",
       "      <td>3.316828e-38</td>\n",
       "      <td>[0.95, 0.98]</td>\n",
       "    </tr>\n",
       "    <tr>\n",
       "      <th>4</th>\n",
       "      <td>ICC2k</td>\n",
       "      <td>Average random raters</td>\n",
       "      <td>0.970510</td>\n",
       "      <td>34.67031</td>\n",
       "      <td>75</td>\n",
       "      <td>75</td>\n",
       "      <td>3.881077e-38</td>\n",
       "      <td>[0.95, 0.98]</td>\n",
       "    </tr>\n",
       "    <tr>\n",
       "      <th>5</th>\n",
       "      <td>ICC3k</td>\n",
       "      <td>Average fixed raters</td>\n",
       "      <td>0.971157</td>\n",
       "      <td>34.67031</td>\n",
       "      <td>75</td>\n",
       "      <td>75</td>\n",
       "      <td>3.881077e-38</td>\n",
       "      <td>[0.95, 0.98]</td>\n",
       "    </tr>\n",
       "  </tbody>\n",
       "</table>\n",
       "</div>"
      ],
      "text/plain": [
       "    Type              Description       ICC         F  df1  df2          pval  \\\n",
       "0   ICC1   Single raters absolute  0.942673  33.88754   75   76  3.316828e-38   \n",
       "1   ICC2     Single random raters  0.942710  34.67031   75   75  3.881077e-38   \n",
       "2   ICC3      Single fixed raters  0.943931  34.67031   75   75  3.881077e-38   \n",
       "3  ICC1k  Average raters absolute  0.970491  33.88754   75   76  3.316828e-38   \n",
       "4  ICC2k    Average random raters  0.970510  34.67031   75   75  3.881077e-38   \n",
       "5  ICC3k     Average fixed raters  0.971157  34.67031   75   75  3.881077e-38   \n",
       "\n",
       "          CI95%  \n",
       "0  [0.91, 0.96]  \n",
       "1  [0.91, 0.96]  \n",
       "2  [0.91, 0.96]  \n",
       "3  [0.95, 0.98]  \n",
       "4  [0.95, 0.98]  \n",
       "5  [0.95, 0.98]  "
      ]
     },
     "execution_count": 111,
     "metadata": {},
     "output_type": "execute_result"
    }
   ],
   "source": [
    "calculate_icc(automatic_fct, manual_fct)"
   ]
  },
  {
   "cell_type": "code",
   "execution_count": 112,
   "metadata": {},
   "outputs": [
    {
     "data": {
      "text/html": [
       "<div>\n",
       "<style scoped>\n",
       "    .dataframe tbody tr th:only-of-type {\n",
       "        vertical-align: middle;\n",
       "    }\n",
       "\n",
       "    .dataframe tbody tr th {\n",
       "        vertical-align: top;\n",
       "    }\n",
       "\n",
       "    .dataframe thead th {\n",
       "        text-align: right;\n",
       "    }\n",
       "</style>\n",
       "<table border=\"1\" class=\"dataframe\">\n",
       "  <thead>\n",
       "    <tr style=\"text-align: right;\">\n",
       "      <th></th>\n",
       "      <th>Type</th>\n",
       "      <th>Description</th>\n",
       "      <th>ICC</th>\n",
       "      <th>F</th>\n",
       "      <th>df1</th>\n",
       "      <th>df2</th>\n",
       "      <th>pval</th>\n",
       "      <th>CI95%</th>\n",
       "    </tr>\n",
       "  </thead>\n",
       "  <tbody>\n",
       "    <tr>\n",
       "      <th>0</th>\n",
       "      <td>ICC1</td>\n",
       "      <td>Single raters absolute</td>\n",
       "      <td>0.967365</td>\n",
       "      <td>60.283456</td>\n",
       "      <td>75</td>\n",
       "      <td>76</td>\n",
       "      <td>2.650079e-47</td>\n",
       "      <td>[0.95, 0.98]</td>\n",
       "    </tr>\n",
       "    <tr>\n",
       "      <th>1</th>\n",
       "      <td>ICC2</td>\n",
       "      <td>Single random raters</td>\n",
       "      <td>0.967359</td>\n",
       "      <td>59.684297</td>\n",
       "      <td>75</td>\n",
       "      <td>75</td>\n",
       "      <td>1.310311e-46</td>\n",
       "      <td>[0.95, 0.98]</td>\n",
       "    </tr>\n",
       "    <tr>\n",
       "      <th>2</th>\n",
       "      <td>ICC3</td>\n",
       "      <td>Single fixed raters</td>\n",
       "      <td>0.967043</td>\n",
       "      <td>59.684297</td>\n",
       "      <td>75</td>\n",
       "      <td>75</td>\n",
       "      <td>1.310311e-46</td>\n",
       "      <td>[0.95, 0.98]</td>\n",
       "    </tr>\n",
       "    <tr>\n",
       "      <th>3</th>\n",
       "      <td>ICC1k</td>\n",
       "      <td>Average raters absolute</td>\n",
       "      <td>0.983412</td>\n",
       "      <td>60.283456</td>\n",
       "      <td>75</td>\n",
       "      <td>76</td>\n",
       "      <td>2.650079e-47</td>\n",
       "      <td>[0.97, 0.99]</td>\n",
       "    </tr>\n",
       "    <tr>\n",
       "      <th>4</th>\n",
       "      <td>ICC2k</td>\n",
       "      <td>Average random raters</td>\n",
       "      <td>0.983409</td>\n",
       "      <td>59.684297</td>\n",
       "      <td>75</td>\n",
       "      <td>75</td>\n",
       "      <td>1.310311e-46</td>\n",
       "      <td>[0.97, 0.99]</td>\n",
       "    </tr>\n",
       "    <tr>\n",
       "      <th>5</th>\n",
       "      <td>ICC3k</td>\n",
       "      <td>Average fixed raters</td>\n",
       "      <td>0.983245</td>\n",
       "      <td>59.684297</td>\n",
       "      <td>75</td>\n",
       "      <td>75</td>\n",
       "      <td>1.310311e-46</td>\n",
       "      <td>[0.97, 0.99]</td>\n",
       "    </tr>\n",
       "  </tbody>\n",
       "</table>\n",
       "</div>"
      ],
      "text/plain": [
       "    Type              Description       ICC          F  df1  df2  \\\n",
       "0   ICC1   Single raters absolute  0.967365  60.283456   75   76   \n",
       "1   ICC2     Single random raters  0.967359  59.684297   75   75   \n",
       "2   ICC3      Single fixed raters  0.967043  59.684297   75   75   \n",
       "3  ICC1k  Average raters absolute  0.983412  60.283456   75   76   \n",
       "4  ICC2k    Average random raters  0.983409  59.684297   75   75   \n",
       "5  ICC3k     Average fixed raters  0.983245  59.684297   75   75   \n",
       "\n",
       "           pval         CI95%  \n",
       "0  2.650079e-47  [0.95, 0.98]  \n",
       "1  1.310311e-46  [0.95, 0.98]  \n",
       "2  1.310311e-46  [0.95, 0.98]  \n",
       "3  2.650079e-47  [0.97, 0.99]  \n",
       "4  1.310311e-46  [0.97, 0.99]  \n",
       "5  1.310311e-46  [0.97, 0.99]  "
      ]
     },
     "execution_count": 112,
     "metadata": {},
     "output_type": "execute_result"
    }
   ],
   "source": [
    "calculate_icc(automatic_arc, manual_arc)"
   ]
  },
  {
   "cell_type": "code",
   "execution_count": null,
   "metadata": {},
   "outputs": [],
   "source": []
  }
 ],
 "metadata": {
  "kernelspec": {
   "display_name": "AIM_GIB_20_21",
   "language": "python",
   "name": "python3"
  },
  "language_info": {
   "codemirror_mode": {
    "name": "ipython",
    "version": 3
   },
   "file_extension": ".py",
   "mimetype": "text/x-python",
   "name": "python",
   "nbconvert_exporter": "python",
   "pygments_lexer": "ipython3",
   "version": "3.10.5"
  },
  "orig_nbformat": 4,
  "vscode": {
   "interpreter": {
    "hash": "462e317a3f4ac380d0132727a8f93c19f6cae5ddf77b9673682ed50a737c83c4"
   }
  }
 },
 "nbformat": 4,
 "nbformat_minor": 2
}
