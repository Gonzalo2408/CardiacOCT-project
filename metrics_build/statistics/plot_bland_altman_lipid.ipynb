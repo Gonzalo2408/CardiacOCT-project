{
 "cells": [
  {
   "cell_type": "code",
   "execution_count": 1,
   "metadata": {},
   "outputs": [],
   "source": [
    "import matplotlib.pyplot as plt\n",
    "import numpy as np\n",
    "import pandas as pd \n",
    "import math\n",
    "import statsmodels.api as sm\n",
    "import seaborn as sns\n",
    "import pingouin as pg\n",
    "from scipy import stats\n",
    "from matplotlib.colors import ListedColormap\n",
    "pd.options.mode.chained_assignment = None"
   ]
  },
  {
   "cell_type": "code",
   "execution_count": 2,
   "metadata": {},
   "outputs": [],
   "source": [
    "measurements = pd.read_excel(r'Z:\\grodriguez\\CardiacOCT\\code\\count-distributions\\manual_vs_automatic_measures.xlsx', sheet_name='Lipid new test set')"
   ]
  },
  {
   "attachments": {},
   "cell_type": "markdown",
   "metadata": {},
   "source": [
    "## Functions"
   ]
  },
  {
   "cell_type": "code",
   "execution_count": 3,
   "metadata": {},
   "outputs": [],
   "source": [
    "def get_data_filtered(test_sheet, type_manual, type_ai, missing = -99):\n",
    "\n",
    "    manual = test_sheet[type_manual]\n",
    "    ai = test_sheet[type_ai]\n",
    "\n",
    "    list_fp = []\n",
    "    list_fn = []\n",
    "    list_nulls = []\n",
    "    list_drops = []\n",
    "    fp_count = 0\n",
    "    fn_count = 0\n",
    "\n",
    "    for value in range(len(manual)):\n",
    "\n",
    "        if manual[value] == missing and ai[value] != missing:\n",
    "            list_fp.append(value)\n",
    "            fp_count += 1\n",
    "\n",
    "        if manual[value] != missing and ai[value] == missing:\n",
    "            list_fn.append(value)\n",
    "            fn_count += 1\n",
    "\n",
    "        if manual[value] == missing and ai[value] == missing:\n",
    "            list_nulls.append(value)\n",
    "\n",
    "        if math.isnan(ai[value]):\n",
    "            list_nulls.append(value)\n",
    "\n",
    "    list_drops.extend(list_fp)\n",
    "    list_drops.extend(list_fn)\n",
    "    list_drops.extend(list_nulls)\n",
    "\n",
    "    ai.drop(list_drops, inplace=True)\n",
    "    manual.drop(list_drops, inplace=True)\n",
    "\n",
    "    print('Found {} FP and {} FN. Total values are {}'.format(fp_count, fn_count, len(manual)))\n",
    "\n",
    "    return manual, ai"
   ]
  },
  {
   "cell_type": "code",
   "execution_count": 4,
   "metadata": {},
   "outputs": [],
   "source": [
    "def corr_plot(manual, automatic, thresh, title):\n",
    "\n",
    "    print('Corr {}: {}'.format(title, np.corrcoef(manual, automatic)))\n",
    "\n",
    "    col = []\n",
    "    for i, j in zip(manual, automatic):\n",
    "        if i <= thresh and j >= thresh:\n",
    "            col.append(0)\n",
    "\n",
    "        elif i >= thresh and j <= thresh:\n",
    "            col.append(1)\n",
    "\n",
    "        else:\n",
    "            col.append(2)\n",
    "\n",
    "    classes = ['FP', 'FN', 'TP/TN']\n",
    "    scatter = plt.scatter(manual, automatic, c=col, cmap=ListedColormap(['black', 'green', 'blue']))\n",
    "    plt.axhline(thresh, color='r')\n",
    "    plt.axvline(thresh, color='r')\n",
    "    plt.xlabel('Manual')\n",
    "    plt.ylabel('Automatic')\n",
    "    plt.title(title)\n",
    "    plt.legend(handles=scatter.legend_elements()[0], labels = classes)\n",
    "    plt.show()"
   ]
  },
  {
   "cell_type": "code",
   "execution_count": 5,
   "metadata": {},
   "outputs": [],
   "source": [
    "def calculate_icc(automatic_values, manual_values):\n",
    "\n",
    "    raters1 = ['Automatic' for _ in range(len(automatic_values))]\n",
    "    raters2 = ['Manual' for _ in range(len(automatic_values))]\n",
    "    raters1.extend(raters2)\n",
    "\n",
    "    exam1 = list(np.arange(0, len(automatic_values)))\n",
    "    exam2 = list(np.arange(0, len(automatic_values)))\n",
    "    exam1.extend(exam2)\n",
    "\n",
    "    values_fct = pd.concat([automatic_values, manual_values])\n",
    "\n",
    "    icc_df = pd.DataFrame({'exam': exam1, 'raters': raters1, 'fct': values_fct})\n",
    "\n",
    "    icc = pg.intraclass_corr(icc_df, 'exam', 'raters', 'fct')\n",
    "\n",
    "    return icc"
   ]
  },
  {
   "cell_type": "code",
   "execution_count": 6,
   "metadata": {},
   "outputs": [],
   "source": [
    "def find_outliers(automatic_values, manual_values, sheet, score):\n",
    "\n",
    "    differences = automatic_values - manual_values\n",
    "\n",
    "    if score == 'zscore':\n",
    "        # Method 1: Z-score\n",
    "        z_scores = stats.zscore(differences)\n",
    "        z_score_threshold = 3.0\n",
    "        outliers = np.where(np.abs(z_scores) > z_score_threshold)[0]\n",
    "\n",
    "    elif score == 'tukey':\n",
    "        # Method 2: Tukey's fences\n",
    "        q1 = np.percentile(differences, 25)\n",
    "        q3 = np.percentile(differences, 75)\n",
    "        iqr = q3 - q1\n",
    "        lower_fence = q1 - (1.5 * iqr)\n",
    "        upper_fence = q3 + (1.5 * iqr)\n",
    "        outliers = np.where((differences < lower_fence) | (differences > upper_fence))[0]\n",
    "\n",
    "    else:\n",
    "        raise ValueError('Wrong type')\n",
    "\n",
    "    outliers_data = []\n",
    "\n",
    "    for outlier in outliers:\n",
    "\n",
    "        value = automatic_values.index[outlier]    \n",
    "        outlier_pullback = sheet.iloc[value]['pullback']\n",
    "        outlier_frame = sheet.iloc[value]['frame']\n",
    "        outlier_ai = automatic_values.tolist()[outlier]\n",
    "        outlier_manual = manual_values.tolist()[outlier]\n",
    "\n",
    "        outliers_data.append({'pullback': outlier_pullback, 'frame': outlier_frame, 'ai': outlier_ai, 'manual': outlier_manual})\n",
    "\n",
    "    return outliers, outliers_data"
   ]
  },
  {
   "attachments": {},
   "cell_type": "markdown",
   "metadata": {},
   "source": [
    "# Bland Altman manual vs automatic"
   ]
  },
  {
   "cell_type": "code",
   "execution_count": 49,
   "metadata": {},
   "outputs": [
    {
     "name": "stdout",
     "output_type": "stream",
     "text": [
      "Found 13 FP and 3 FN. Total values are 90\n",
      "105.46615863528903\n"
     ]
    },
    {
     "data": {
      "text/plain": [
       "(-400.0, 400.0)"
      ]
     },
     "execution_count": 49,
     "metadata": {},
     "output_type": "execute_result"
    },
    {
     "data": {
      "image/png": "[encoded data removed]",
      "text/plain": [
       "<Figure size 432x288 with 1 Axes>"
      ]
     },
     "metadata": {
      "needs_background": "light"
     },
     "output_type": "display_data"
    }
   ],
   "source": [
    "manual_fct, ai_fct = get_data_filtered(measurements, 'FCT manual', 'FCT model 5')\n",
    "mean = np.mean([manual_fct, ai_fct], axis=0)\n",
    "diff = manual_fct - ai_fct                   \n",
    "md = np.mean(diff)                   \n",
    "sd = np.std(diff, axis=0) \n",
    "print(sd)\n",
    "\n",
    "fig, axes = plt.subplots()\n",
    "\n",
    "sm.graphics.mean_diff_plot(ai_fct, manual_fct, ax = axes)\n",
    "plt.xlabel('Mean FCT')\n",
    "plt.ylabel('FCT difference (ai - manual)')\n",
    "plt.title('FCT manual vs automatic')\n",
    "plt.xlim(-30, 650)\n",
    "plt.ylim(-400, 400)"
   ]
  },
  {
   "cell_type": "code",
   "execution_count": 51,
   "metadata": {},
   "outputs": [
    {
     "name": "stdout",
     "output_type": "stream",
     "text": [
      "[11 24 43 62 68 73 84]\n",
      "[{'pullback': 'NLD-AMPH-0011', 'frame': 280, 'ai': 379.0, 'manual': 720}, {'pullback': 'NLD-AMPH-0028', 'frame': 320, 'ai': 248.0, 'manual': 430}, {'pullback': 'NLD-ISALA-0057', 'frame': 200, 'ai': 276.0, 'manual': 370}, {'pullback': 'NLD-ISALA-0087', 'frame': 80, 'ai': 748.0, 'manual': 160}, {'pullback': 'NLD-ISALA-0087', 'frame': 520, 'ai': 348.0, 'manual': 180}, {'pullback': 'NLD-ISALA-0089', 'frame': 400, 'ai': 661.0, 'manual': 180}, {'pullback': 'NLD-ISALA-0093', 'frame': 440, 'ai': 472.0, 'manual': 110}]\n"
     ]
    }
   ],
   "source": [
    "outliers, outliers_data = find_outliers(ai_fct, manual_fct, measurements, 'tukey')\n",
    "print(outliers)\n",
    "print(outliers_data)\n"
   ]
  },
  {
   "cell_type": "code",
   "execution_count": 53,
   "metadata": {},
   "outputs": [
    {
     "name": "stdout",
     "output_type": "stream",
     "text": [
      "Found 13 FP and 3 FN. Total values are 90\n",
      "30.169856594183216\n"
     ]
    },
    {
     "data": {
      "text/plain": [
       "(-75.0, 150.0)"
      ]
     },
     "execution_count": 53,
     "metadata": {},
     "output_type": "execute_result"
    },
    {
     "data": {
      "image/png": "[encoded data removed]",
      "text/plain": [
       "<Figure size 432x288 with 1 Axes>"
      ]
     },
     "metadata": {
      "needs_background": "light"
     },
     "output_type": "display_data"
    }
   ],
   "source": [
    "manual_arc, ai_arc = get_data_filtered(measurements, 'Lipid arc manual', 'Lipid arc model 5')\n",
    "mean = np.mean([manual_arc, ai_arc], axis=0)\n",
    "diff = manual_arc - ai_arc                  \n",
    "md = np.mean(diff)                   \n",
    "sd = np.std(diff, axis=0) \n",
    "print(sd)\n",
    "\n",
    "fig, axes = plt.subplots()\n",
    "\n",
    "sm.graphics.mean_diff_plot(ai_arc, manual_arc, ax = axes)\n",
    "plt.xlabel('Mean lipid arc')\n",
    "plt.ylabel('Lipid arc difference (ai - manual)')\n",
    "plt.title('Lipid arc manual vs automatic')\n",
    "plt.xlim(-20, 400)\n",
    "plt.ylim(-75, 150)\n"
   ]
  },
  {
   "cell_type": "code",
   "execution_count": 54,
   "metadata": {},
   "outputs": [
    {
     "name": "stdout",
     "output_type": "stream",
     "text": [
      "[10 11 13 15 18 24 26 37 38 39 42 62 65 67 73 75 77 78 84]\n",
      "[{'pullback': 'NLD-AMPH-0011', 'frame': 200, 'ai': 164, 'manual': 120}, {'pullback': 'NLD-AMPH-0011', 'frame': 280, 'ai': 100, 'manual': 62}, {'pullback': 'NLD-AMPH-0028', 'frame': 165, 'ai': 146, 'manual': 83}, {'pullback': 'NLD-AMPH-0028', 'frame': 167, 'ai': 76, 'manual': 34}, {'pullback': 'NLD-AMPH-0028', 'frame': 200, 'ai': 142, 'manual': 183}, {'pullback': 'NLD-AMPH-0028', 'frame': 320, 'ai': 192, 'manual': 57}, {'pullback': 'NLD-AMPH-0028', 'frame': 350, 'ai': 198, 'manual': 117}, {'pullback': 'NLD-AMPH-0054', 'frame': 249, 'ai': 80, 'manual': 123}, {'pullback': 'NLD-AMPH-0054', 'frame': 280, 'ai': 114, 'manual': 161}, {'pullback': 'NLD-HMC-0008', 'frame': 160, 'ai': 128, 'manual': 92}, {'pullback': 'NLD-ISALA-0057', 'frame': 160, 'ai': 46, 'manual': 91}, {'pullback': 'NLD-ISALA-0087', 'frame': 80, 'ai': 12, 'manual': 103}, {'pullback': 'NLD-ISALA-0087', 'frame': 240, 'ai': 150, 'manual': 83}, {'pullback': 'NLD-ISALA-0087', 'frame': 339, 'ai': 278, 'manual': 230}, {'pullback': 'NLD-ISALA-0089', 'frame': 400, 'ai': 32, 'manual': 71}, {'pullback': 'NLD-ISALA-0093', 'frame': 0, 'ai': 278, 'manual': 221}, {'pullback': 'NLD-ISALA-0093', 'frame': 112, 'ai': 360, 'manual': 303}, {'pullback': 'NLD-ISALA-0093', 'frame': 120, 'ai': 286, 'manual': 234}, {'pullback': 'NLD-ISALA-0093', 'frame': 440, 'ai': 8, 'manual': 82}]\n"
     ]
    }
   ],
   "source": [
    "outliers, outliers_data = find_outliers(ai_arc, manual_arc, measurements, 'tukey')\n",
    "print(outliers)\n",
    "print(outliers_data)"
   ]
  },
  {
   "attachments": {},
   "cell_type": "markdown",
   "metadata": {},
   "source": [
    "## Pearson and ICC"
   ]
  },
  {
   "cell_type": "code",
   "execution_count": 55,
   "metadata": {},
   "outputs": [
    {
     "name": "stdout",
     "output_type": "stream",
     "text": [
      "Corr FCT: [[1.         0.64002335]\n",
      " [0.64002335 1.        ]]\n"
     ]
    },
    {
     "data": {
      "image/png": "[encoded data removed]",
      "text/plain": [
       "<Figure size 432x288 with 1 Axes>"
      ]
     },
     "metadata": {
      "needs_background": "light"
     },
     "output_type": "display_data"
    }
   ],
   "source": [
    "corr_plot(manual_fct, ai_fct, 65, 'FCT')"
   ]
  },
  {
   "cell_type": "code",
   "execution_count": 56,
   "metadata": {},
   "outputs": [
    {
     "name": "stdout",
     "output_type": "stream",
     "text": [
      "Corr Lipid arc: [[1.         0.87432128]\n",
      " [0.87432128 1.        ]]\n"
     ]
    },
    {
     "data": {
      "image/png": "[encoded data removed]",
      "text/plain": [
       "<Figure size 432x288 with 1 Axes>"
      ]
     },
     "metadata": {
      "needs_background": "light"
     },
     "output_type": "display_data"
    }
   ],
   "source": [
    "corr_plot(manual_arc, ai_arc, 90, 'Lipid arc')"
   ]
  },
  {
   "cell_type": "code",
   "execution_count": 57,
   "metadata": {},
   "outputs": [
    {
     "data": {
      "text/html": [
       "<div>\n",
       "<style scoped>\n",
       "    .dataframe tbody tr th:only-of-type {\n",
       "        vertical-align: middle;\n",
       "    }\n",
       "\n",
       "    .dataframe tbody tr th {\n",
       "        vertical-align: top;\n",
       "    }\n",
       "\n",
       "    .dataframe thead th {\n",
       "        text-align: right;\n",
       "    }\n",
       "</style>\n",
       "<table border=\"1\" class=\"dataframe\">\n",
       "  <thead>\n",
       "    <tr style=\"text-align: right;\">\n",
       "      <th></th>\n",
       "      <th>Type</th>\n",
       "      <th>Description</th>\n",
       "      <th>ICC</th>\n",
       "      <th>F</th>\n",
       "      <th>df1</th>\n",
       "      <th>df2</th>\n",
       "      <th>pval</th>\n",
       "      <th>CI95%</th>\n",
       "    </tr>\n",
       "  </thead>\n",
       "  <tbody>\n",
       "    <tr>\n",
       "      <th>0</th>\n",
       "      <td>ICC1</td>\n",
       "      <td>Single raters absolute</td>\n",
       "      <td>0.600648</td>\n",
       "      <td>4.008114</td>\n",
       "      <td>89</td>\n",
       "      <td>90</td>\n",
       "      <td>1.313680e-10</td>\n",
       "      <td>[0.45, 0.72]</td>\n",
       "    </tr>\n",
       "    <tr>\n",
       "      <th>1</th>\n",
       "      <td>ICC2</td>\n",
       "      <td>Single random raters</td>\n",
       "      <td>0.609021</td>\n",
       "      <td>4.489629</td>\n",
       "      <td>89</td>\n",
       "      <td>89</td>\n",
       "      <td>6.466788e-12</td>\n",
       "      <td>[0.44, 0.73]</td>\n",
       "    </tr>\n",
       "    <tr>\n",
       "      <th>2</th>\n",
       "      <td>ICC3</td>\n",
       "      <td>Single fixed raters</td>\n",
       "      <td>0.635677</td>\n",
       "      <td>4.489629</td>\n",
       "      <td>89</td>\n",
       "      <td>89</td>\n",
       "      <td>6.466788e-12</td>\n",
       "      <td>[0.49, 0.74]</td>\n",
       "    </tr>\n",
       "    <tr>\n",
       "      <th>3</th>\n",
       "      <td>ICC1k</td>\n",
       "      <td>Average raters absolute</td>\n",
       "      <td>0.750506</td>\n",
       "      <td>4.008114</td>\n",
       "      <td>89</td>\n",
       "      <td>90</td>\n",
       "      <td>1.313680e-10</td>\n",
       "      <td>[0.62, 0.84]</td>\n",
       "    </tr>\n",
       "    <tr>\n",
       "      <th>4</th>\n",
       "      <td>ICC2k</td>\n",
       "      <td>Average random raters</td>\n",
       "      <td>0.757008</td>\n",
       "      <td>4.489629</td>\n",
       "      <td>89</td>\n",
       "      <td>89</td>\n",
       "      <td>6.466788e-12</td>\n",
       "      <td>[0.61, 0.85]</td>\n",
       "    </tr>\n",
       "    <tr>\n",
       "      <th>5</th>\n",
       "      <td>ICC3k</td>\n",
       "      <td>Average fixed raters</td>\n",
       "      <td>0.777264</td>\n",
       "      <td>4.489629</td>\n",
       "      <td>89</td>\n",
       "      <td>89</td>\n",
       "      <td>6.466788e-12</td>\n",
       "      <td>[0.66, 0.85]</td>\n",
       "    </tr>\n",
       "  </tbody>\n",
       "</table>\n",
       "</div>"
      ],
      "text/plain": [
       "    Type              Description       ICC         F  df1  df2          pval  \\\n",
       "0   ICC1   Single raters absolute  0.600648  4.008114   89   90  1.313680e-10   \n",
       "1   ICC2     Single random raters  0.609021  4.489629   89   89  6.466788e-12   \n",
       "2   ICC3      Single fixed raters  0.635677  4.489629   89   89  6.466788e-12   \n",
       "3  ICC1k  Average raters absolute  0.750506  4.008114   89   90  1.313680e-10   \n",
       "4  ICC2k    Average random raters  0.757008  4.489629   89   89  6.466788e-12   \n",
       "5  ICC3k     Average fixed raters  0.777264  4.489629   89   89  6.466788e-12   \n",
       "\n",
       "          CI95%  \n",
       "0  [0.45, 0.72]  \n",
       "1  [0.44, 0.73]  \n",
       "2  [0.49, 0.74]  \n",
       "3  [0.62, 0.84]  \n",
       "4  [0.61, 0.85]  \n",
       "5  [0.66, 0.85]  "
      ]
     },
     "execution_count": 57,
     "metadata": {},
     "output_type": "execute_result"
    }
   ],
   "source": [
    "calculate_icc(ai_fct, manual_fct)"
   ]
  },
  {
   "cell_type": "code",
   "execution_count": 58,
   "metadata": {},
   "outputs": [
    {
     "data": {
      "text/html": [
       "<div>\n",
       "<style scoped>\n",
       "    .dataframe tbody tr th:only-of-type {\n",
       "        vertical-align: middle;\n",
       "    }\n",
       "\n",
       "    .dataframe tbody tr th {\n",
       "        vertical-align: top;\n",
       "    }\n",
       "\n",
       "    .dataframe thead th {\n",
       "        text-align: right;\n",
       "    }\n",
       "</style>\n",
       "<table border=\"1\" class=\"dataframe\">\n",
       "  <thead>\n",
       "    <tr style=\"text-align: right;\">\n",
       "      <th></th>\n",
       "      <th>Type</th>\n",
       "      <th>Description</th>\n",
       "      <th>ICC</th>\n",
       "      <th>F</th>\n",
       "      <th>df1</th>\n",
       "      <th>df2</th>\n",
       "      <th>pval</th>\n",
       "      <th>CI95%</th>\n",
       "    </tr>\n",
       "  </thead>\n",
       "  <tbody>\n",
       "    <tr>\n",
       "      <th>0</th>\n",
       "      <td>ICC1</td>\n",
       "      <td>Single raters absolute</td>\n",
       "      <td>0.867656</td>\n",
       "      <td>14.112079</td>\n",
       "      <td>89</td>\n",
       "      <td>90</td>\n",
       "      <td>2.631015e-29</td>\n",
       "      <td>[0.81, 0.91]</td>\n",
       "    </tr>\n",
       "    <tr>\n",
       "      <th>1</th>\n",
       "      <td>ICC2</td>\n",
       "      <td>Single random raters</td>\n",
       "      <td>0.867635</td>\n",
       "      <td>14.079325</td>\n",
       "      <td>89</td>\n",
       "      <td>89</td>\n",
       "      <td>5.161856e-29</td>\n",
       "      <td>[0.81, 0.91]</td>\n",
       "    </tr>\n",
       "    <tr>\n",
       "      <th>2</th>\n",
       "      <td>ICC3</td>\n",
       "      <td>Single fixed raters</td>\n",
       "      <td>0.867368</td>\n",
       "      <td>14.079325</td>\n",
       "      <td>89</td>\n",
       "      <td>89</td>\n",
       "      <td>5.161856e-29</td>\n",
       "      <td>[0.81, 0.91]</td>\n",
       "    </tr>\n",
       "    <tr>\n",
       "      <th>3</th>\n",
       "      <td>ICC1k</td>\n",
       "      <td>Average raters absolute</td>\n",
       "      <td>0.929139</td>\n",
       "      <td>14.112079</td>\n",
       "      <td>89</td>\n",
       "      <td>90</td>\n",
       "      <td>2.631015e-29</td>\n",
       "      <td>[0.89, 0.95]</td>\n",
       "    </tr>\n",
       "    <tr>\n",
       "      <th>4</th>\n",
       "      <td>ICC2k</td>\n",
       "      <td>Average random raters</td>\n",
       "      <td>0.929127</td>\n",
       "      <td>14.079325</td>\n",
       "      <td>89</td>\n",
       "      <td>89</td>\n",
       "      <td>5.161856e-29</td>\n",
       "      <td>[0.89, 0.95]</td>\n",
       "    </tr>\n",
       "    <tr>\n",
       "      <th>5</th>\n",
       "      <td>ICC3k</td>\n",
       "      <td>Average fixed raters</td>\n",
       "      <td>0.928974</td>\n",
       "      <td>14.079325</td>\n",
       "      <td>89</td>\n",
       "      <td>89</td>\n",
       "      <td>5.161856e-29</td>\n",
       "      <td>[0.89, 0.95]</td>\n",
       "    </tr>\n",
       "  </tbody>\n",
       "</table>\n",
       "</div>"
      ],
      "text/plain": [
       "    Type              Description       ICC          F  df1  df2  \\\n",
       "0   ICC1   Single raters absolute  0.867656  14.112079   89   90   \n",
       "1   ICC2     Single random raters  0.867635  14.079325   89   89   \n",
       "2   ICC3      Single fixed raters  0.867368  14.079325   89   89   \n",
       "3  ICC1k  Average raters absolute  0.929139  14.112079   89   90   \n",
       "4  ICC2k    Average random raters  0.929127  14.079325   89   89   \n",
       "5  ICC3k     Average fixed raters  0.928974  14.079325   89   89   \n",
       "\n",
       "           pval         CI95%  \n",
       "0  2.631015e-29  [0.81, 0.91]  \n",
       "1  5.161856e-29  [0.81, 0.91]  \n",
       "2  5.161856e-29  [0.81, 0.91]  \n",
       "3  2.631015e-29  [0.89, 0.95]  \n",
       "4  5.161856e-29  [0.89, 0.95]  \n",
       "5  5.161856e-29  [0.89, 0.95]  "
      ]
     },
     "execution_count": 58,
     "metadata": {},
     "output_type": "execute_result"
    }
   ],
   "source": [
    "calculate_icc(ai_arc, manual_arc)"
   ]
  },
  {
   "attachments": {},
   "cell_type": "markdown",
   "metadata": {},
   "source": [
    "# Manual vs automatic measurements (on manual segs)"
   ]
  },
  {
   "attachments": {},
   "cell_type": "markdown",
   "metadata": {},
   "source": [
    "## Bland Altman using same manual segmentations"
   ]
  },
  {
   "cell_type": "code",
   "execution_count": 13,
   "metadata": {},
   "outputs": [
    {
     "name": "stdout",
     "output_type": "stream",
     "text": [
      "Found 0 FP and 0 FN. Total values are 76\n"
     ]
    },
    {
     "data": {
      "text/plain": [
       "(-400.0, 400.0)"
      ]
     },
     "execution_count": 13,
     "metadata": {},
     "output_type": "execute_result"
    },
    {
     "data": {
      "image/png": "[encoded data removed]",
      "text/plain": [
       "<Figure size 432x288 with 1 Axes>"
      ]
     },
     "metadata": {
      "needs_background": "light"
     },
     "output_type": "display_data"
    }
   ],
   "source": [
    "manual_fct, automatic_fct = get_data_filtered(measurements, 'FCT manual', 'FCT automatic')\n",
    "\n",
    "fig, axes = plt.subplots()\n",
    "\n",
    "sm.graphics.mean_diff_plot(automatic_fct, manual_fct, ax = axes)\n",
    "plt.xlabel('Mean FCT')\n",
    "plt.ylabel('FCT difference (ai - manual)')\n",
    "plt.title('FCT manual vs automatic')\n",
    "plt.xlim(-30, 650)\n",
    "plt.ylim(-400, 400)"
   ]
  },
  {
   "cell_type": "code",
   "execution_count": 14,
   "metadata": {},
   "outputs": [
    {
     "name": "stdout",
     "output_type": "stream",
     "text": [
      "Found 0 FP and 0 FN. Total values are 76\n"
     ]
    },
    {
     "data": {
      "text/plain": [
       "(-75.0, 150.0)"
      ]
     },
     "execution_count": 14,
     "metadata": {},
     "output_type": "execute_result"
    },
    {
     "data": {
      "image/png": "[encoded data removed]",
      "text/plain": [
       "<Figure size 432x288 with 1 Axes>"
      ]
     },
     "metadata": {
      "needs_background": "light"
     },
     "output_type": "display_data"
    }
   ],
   "source": [
    "manual_arc, automatic_arc = get_data_filtered(measurements, 'Lipid arc manual', 'Lipid arc automatic')\n",
    "\n",
    "\n",
    "fig, axes = plt.subplots()\n",
    "\n",
    "sm.graphics.mean_diff_plot(automatic_arc, manual_arc, ax = axes)\n",
    "plt.xlabel('Mean lipid arc')\n",
    "plt.ylabel('Lipid arc difference (ai - manual)')\n",
    "plt.title('Lipid arc manual vs automatic')\n",
    "plt.xlim(-20, 400)\n",
    "plt.ylim(-75, 150)\n"
   ]
  },
  {
   "attachments": {},
   "cell_type": "markdown",
   "metadata": {},
   "source": [
    "## Pearson and ICC "
   ]
  },
  {
   "cell_type": "code",
   "execution_count": 15,
   "metadata": {},
   "outputs": [
    {
     "name": "stdout",
     "output_type": "stream",
     "text": [
      "Corr FCT: [[1.         0.94489705]\n",
      " [0.94489705 1.        ]]\n"
     ]
    },
    {
     "data": {
      "image/png": "[encoded data removed]",
      "text/plain": [
       "<Figure size 432x288 with 1 Axes>"
      ]
     },
     "metadata": {
      "needs_background": "light"
     },
     "output_type": "display_data"
    }
   ],
   "source": [
    "corr_plot(manual_fct, automatic_fct, 65, 'FCT')"
   ]
  },
  {
   "cell_type": "code",
   "execution_count": 16,
   "metadata": {},
   "outputs": [
    {
     "name": "stdout",
     "output_type": "stream",
     "text": [
      "Corr Lipid arc: [[1.         0.96704953]\n",
      " [0.96704953 1.        ]]\n"
     ]
    },
    {
     "data": {
      "image/png": "[encoded data removed]",
      "text/plain": [
       "<Figure size 432x288 with 1 Axes>"
      ]
     },
     "metadata": {
      "needs_background": "light"
     },
     "output_type": "display_data"
    }
   ],
   "source": [
    "corr_plot(manual_arc, automatic_arc, 90, 'Lipid arc')"
   ]
  },
  {
   "cell_type": "code",
   "execution_count": 17,
   "metadata": {},
   "outputs": [
    {
     "data": {
      "text/html": [
       "<div>\n",
       "<style scoped>\n",
       "    .dataframe tbody tr th:only-of-type {\n",
       "        vertical-align: middle;\n",
       "    }\n",
       "\n",
       "    .dataframe tbody tr th {\n",
       "        vertical-align: top;\n",
       "    }\n",
       "\n",
       "    .dataframe thead th {\n",
       "        text-align: right;\n",
       "    }\n",
       "</style>\n",
       "<table border=\"1\" class=\"dataframe\">\n",
       "  <thead>\n",
       "    <tr style=\"text-align: right;\">\n",
       "      <th></th>\n",
       "      <th>Type</th>\n",
       "      <th>Description</th>\n",
       "      <th>ICC</th>\n",
       "      <th>F</th>\n",
       "      <th>df1</th>\n",
       "      <th>df2</th>\n",
       "      <th>pval</th>\n",
       "      <th>CI95%</th>\n",
       "    </tr>\n",
       "  </thead>\n",
       "  <tbody>\n",
       "    <tr>\n",
       "      <th>0</th>\n",
       "      <td>ICC1</td>\n",
       "      <td>Single raters absolute</td>\n",
       "      <td>0.942673</td>\n",
       "      <td>33.88754</td>\n",
       "      <td>75</td>\n",
       "      <td>76</td>\n",
       "      <td>3.316828e-38</td>\n",
       "      <td>[0.91, 0.96]</td>\n",
       "    </tr>\n",
       "    <tr>\n",
       "      <th>1</th>\n",
       "      <td>ICC2</td>\n",
       "      <td>Single random raters</td>\n",
       "      <td>0.942710</td>\n",
       "      <td>34.67031</td>\n",
       "      <td>75</td>\n",
       "      <td>75</td>\n",
       "      <td>3.881077e-38</td>\n",
       "      <td>[0.91, 0.96]</td>\n",
       "    </tr>\n",
       "    <tr>\n",
       "      <th>2</th>\n",
       "      <td>ICC3</td>\n",
       "      <td>Single fixed raters</td>\n",
       "      <td>0.943931</td>\n",
       "      <td>34.67031</td>\n",
       "      <td>75</td>\n",
       "      <td>75</td>\n",
       "      <td>3.881077e-38</td>\n",
       "      <td>[0.91, 0.96]</td>\n",
       "    </tr>\n",
       "    <tr>\n",
       "      <th>3</th>\n",
       "      <td>ICC1k</td>\n",
       "      <td>Average raters absolute</td>\n",
       "      <td>0.970491</td>\n",
       "      <td>33.88754</td>\n",
       "      <td>75</td>\n",
       "      <td>76</td>\n",
       "      <td>3.316828e-38</td>\n",
       "      <td>[0.95, 0.98]</td>\n",
       "    </tr>\n",
       "    <tr>\n",
       "      <th>4</th>\n",
       "      <td>ICC2k</td>\n",
       "      <td>Average random raters</td>\n",
       "      <td>0.970510</td>\n",
       "      <td>34.67031</td>\n",
       "      <td>75</td>\n",
       "      <td>75</td>\n",
       "      <td>3.881077e-38</td>\n",
       "      <td>[0.95, 0.98]</td>\n",
       "    </tr>\n",
       "    <tr>\n",
       "      <th>5</th>\n",
       "      <td>ICC3k</td>\n",
       "      <td>Average fixed raters</td>\n",
       "      <td>0.971157</td>\n",
       "      <td>34.67031</td>\n",
       "      <td>75</td>\n",
       "      <td>75</td>\n",
       "      <td>3.881077e-38</td>\n",
       "      <td>[0.95, 0.98]</td>\n",
       "    </tr>\n",
       "  </tbody>\n",
       "</table>\n",
       "</div>"
      ],
      "text/plain": [
       "    Type              Description       ICC         F  df1  df2          pval  \\\n",
       "0   ICC1   Single raters absolute  0.942673  33.88754   75   76  3.316828e-38   \n",
       "1   ICC2     Single random raters  0.942710  34.67031   75   75  3.881077e-38   \n",
       "2   ICC3      Single fixed raters  0.943931  34.67031   75   75  3.881077e-38   \n",
       "3  ICC1k  Average raters absolute  0.970491  33.88754   75   76  3.316828e-38   \n",
       "4  ICC2k    Average random raters  0.970510  34.67031   75   75  3.881077e-38   \n",
       "5  ICC3k     Average fixed raters  0.971157  34.67031   75   75  3.881077e-38   \n",
       "\n",
       "          CI95%  \n",
       "0  [0.91, 0.96]  \n",
       "1  [0.91, 0.96]  \n",
       "2  [0.91, 0.96]  \n",
       "3  [0.95, 0.98]  \n",
       "4  [0.95, 0.98]  \n",
       "5  [0.95, 0.98]  "
      ]
     },
     "execution_count": 17,
     "metadata": {},
     "output_type": "execute_result"
    }
   ],
   "source": [
    "calculate_icc(automatic_fct, manual_fct)"
   ]
  },
  {
   "cell_type": "code",
   "execution_count": 18,
   "metadata": {},
   "outputs": [
    {
     "data": {
      "text/html": [
       "<div>\n",
       "<style scoped>\n",
       "    .dataframe tbody tr th:only-of-type {\n",
       "        vertical-align: middle;\n",
       "    }\n",
       "\n",
       "    .dataframe tbody tr th {\n",
       "        vertical-align: top;\n",
       "    }\n",
       "\n",
       "    .dataframe thead th {\n",
       "        text-align: right;\n",
       "    }\n",
       "</style>\n",
       "<table border=\"1\" class=\"dataframe\">\n",
       "  <thead>\n",
       "    <tr style=\"text-align: right;\">\n",
       "      <th></th>\n",
       "      <th>Type</th>\n",
       "      <th>Description</th>\n",
       "      <th>ICC</th>\n",
       "      <th>F</th>\n",
       "      <th>df1</th>\n",
       "      <th>df2</th>\n",
       "      <th>pval</th>\n",
       "      <th>CI95%</th>\n",
       "    </tr>\n",
       "  </thead>\n",
       "  <tbody>\n",
       "    <tr>\n",
       "      <th>0</th>\n",
       "      <td>ICC1</td>\n",
       "      <td>Single raters absolute</td>\n",
       "      <td>0.967365</td>\n",
       "      <td>60.283456</td>\n",
       "      <td>75</td>\n",
       "      <td>76</td>\n",
       "      <td>2.650079e-47</td>\n",
       "      <td>[0.95, 0.98]</td>\n",
       "    </tr>\n",
       "    <tr>\n",
       "      <th>1</th>\n",
       "      <td>ICC2</td>\n",
       "      <td>Single random raters</td>\n",
       "      <td>0.967359</td>\n",
       "      <td>59.684297</td>\n",
       "      <td>75</td>\n",
       "      <td>75</td>\n",
       "      <td>1.310311e-46</td>\n",
       "      <td>[0.95, 0.98]</td>\n",
       "    </tr>\n",
       "    <tr>\n",
       "      <th>2</th>\n",
       "      <td>ICC3</td>\n",
       "      <td>Single fixed raters</td>\n",
       "      <td>0.967043</td>\n",
       "      <td>59.684297</td>\n",
       "      <td>75</td>\n",
       "      <td>75</td>\n",
       "      <td>1.310311e-46</td>\n",
       "      <td>[0.95, 0.98]</td>\n",
       "    </tr>\n",
       "    <tr>\n",
       "      <th>3</th>\n",
       "      <td>ICC1k</td>\n",
       "      <td>Average raters absolute</td>\n",
       "      <td>0.983412</td>\n",
       "      <td>60.283456</td>\n",
       "      <td>75</td>\n",
       "      <td>76</td>\n",
       "      <td>2.650079e-47</td>\n",
       "      <td>[0.97, 0.99]</td>\n",
       "    </tr>\n",
       "    <tr>\n",
       "      <th>4</th>\n",
       "      <td>ICC2k</td>\n",
       "      <td>Average random raters</td>\n",
       "      <td>0.983409</td>\n",
       "      <td>59.684297</td>\n",
       "      <td>75</td>\n",
       "      <td>75</td>\n",
       "      <td>1.310311e-46</td>\n",
       "      <td>[0.97, 0.99]</td>\n",
       "    </tr>\n",
       "    <tr>\n",
       "      <th>5</th>\n",
       "      <td>ICC3k</td>\n",
       "      <td>Average fixed raters</td>\n",
       "      <td>0.983245</td>\n",
       "      <td>59.684297</td>\n",
       "      <td>75</td>\n",
       "      <td>75</td>\n",
       "      <td>1.310311e-46</td>\n",
       "      <td>[0.97, 0.99]</td>\n",
       "    </tr>\n",
       "  </tbody>\n",
       "</table>\n",
       "</div>"
      ],
      "text/plain": [
       "    Type              Description       ICC          F  df1  df2  \\\n",
       "0   ICC1   Single raters absolute  0.967365  60.283456   75   76   \n",
       "1   ICC2     Single random raters  0.967359  59.684297   75   75   \n",
       "2   ICC3      Single fixed raters  0.967043  59.684297   75   75   \n",
       "3  ICC1k  Average raters absolute  0.983412  60.283456   75   76   \n",
       "4  ICC2k    Average random raters  0.983409  59.684297   75   75   \n",
       "5  ICC3k     Average fixed raters  0.983245  59.684297   75   75   \n",
       "\n",
       "           pval         CI95%  \n",
       "0  2.650079e-47  [0.95, 0.98]  \n",
       "1  1.310311e-46  [0.95, 0.98]  \n",
       "2  1.310311e-46  [0.95, 0.98]  \n",
       "3  2.650079e-47  [0.97, 0.99]  \n",
       "4  1.310311e-46  [0.97, 0.99]  \n",
       "5  1.310311e-46  [0.97, 0.99]  "
      ]
     },
     "execution_count": 18,
     "metadata": {},
     "output_type": "execute_result"
    }
   ],
   "source": [
    "calculate_icc(automatic_arc, manual_arc)"
   ]
  },
  {
   "cell_type": "code",
   "execution_count": null,
   "metadata": {},
   "outputs": [],
   "source": []
  }
 ],
 "metadata": {
  "kernelspec": {
   "display_name": "AIM_GIB_20_21",
   "language": "python",
   "name": "python3"
  },
  "language_info": {
   "codemirror_mode": {
    "name": "ipython",
    "version": 3
   },
   "file_extension": ".py",
   "mimetype": "text/x-python",
   "name": "python",
   "nbconvert_exporter": "python",
   "pygments_lexer": "ipython3",
   "version": "3.10.5"
  },
  "orig_nbformat": 4,
  "vscode": {
   "interpreter": {
    "hash": "462e317a3f4ac380d0132727a8f93c19f6cae5ddf77b9673682ed50a737c83c4"
   }
  }
 },
 "nbformat": 4,
 "nbformat_minor": 2
}
