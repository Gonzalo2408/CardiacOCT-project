{
 "cells": [
  {
   "cell_type": "code",
   "execution_count": 1,
   "metadata": {},
   "outputs": [],
   "source": [
    "import matplotlib.pyplot as plt\n",
    "import numpy as np\n",
    "import pandas as pd \n",
    "import statsmodels.api as sm\n",
    "import seaborn as sns\n",
    "import pingouin as pg\n",
    "from matplotlib.colors import ListedColormap\n",
    "from scipy import stats\n",
    "pd.options.mode.chained_assignment = None"
   ]
  },
  {
   "cell_type": "code",
   "execution_count": 79,
   "metadata": {},
   "outputs": [],
   "source": [
    "measurements = pd.read_excel(r'Z:\\grodriguez\\CardiacOCT\\code\\count-distributions\\manual_vs_automatic_measures.xlsx', sheet_name='Calcium new test set')"
   ]
  },
  {
   "cell_type": "code",
   "execution_count": 96,
   "metadata": {},
   "outputs": [],
   "source": [
    "pullback_df = measurements[measurements['pullback'] == 'NLD-AMPH-0028'].reset_index(drop=True)"
   ]
  },
  {
   "attachments": {},
   "cell_type": "markdown",
   "metadata": {},
   "source": [
    "## Functions"
   ]
  },
  {
   "cell_type": "code",
   "execution_count": 98,
   "metadata": {},
   "outputs": [],
   "source": [
    "def get_data_filtered(test_sheet, type_manual, type_ai, missing = -99):\n",
    "\n",
    "    manual = test_sheet[type_manual]\n",
    "\n",
    "    ai = test_sheet[type_ai]\n",
    "\n",
    "    list_fp = []\n",
    "    list_fn = []\n",
    "    list_nulls = []\n",
    "    list_drops = []\n",
    "    fp_count = 0\n",
    "    fn_count = 0\n",
    "\n",
    "    for value in range(len(manual)):\n",
    "\n",
    "        if manual[value] == missing and ai[value] != missing:\n",
    "            list_fp.append(value)\n",
    "            fp_count += 1\n",
    "\n",
    "        if manual[value] != missing and ai[value] == missing:\n",
    "            list_fn.append(value)\n",
    "            fn_count += 1\n",
    "\n",
    "        if manual[value] == missing and ai[value] == missing:\n",
    "            list_nulls.append(value)\n",
    "\n",
    "        if ai[value] == np.nan:\n",
    "            list_nulls.append(value)\n",
    "\n",
    "    list_drops.extend(list_fp)\n",
    "    list_drops.extend(list_fn)\n",
    "    list_drops.extend(list_nulls)\n",
    "\n",
    "    ai.drop(list_drops, inplace=True)\n",
    "    manual.drop(list_drops, inplace=True)\n",
    "\n",
    "    print('Found {} FP and {} FN. Total values are {}'.format(fp_count, fn_count, len(manual)))\n",
    "\n",
    "\n",
    "    return manual, ai"
   ]
  },
  {
   "cell_type": "code",
   "execution_count": 99,
   "metadata": {},
   "outputs": [],
   "source": [
    "def corr_plot(manual, automatic, thresh, title):\n",
    "\n",
    "    print('Corr {}: {}'.format(title, np.corrcoef(manual, automatic)))\n",
    "\n",
    "    col = []\n",
    "    for i, j in zip(manual, automatic):\n",
    "        if i <= thresh and j >= thresh:\n",
    "            col.append(0)\n",
    "\n",
    "        elif i >= thresh and j <= thresh:\n",
    "            col.append(1)\n",
    "\n",
    "        else:\n",
    "            col.append(2)\n",
    "\n",
    "    classes = ['FP', 'FN', 'TP/TN']\n",
    "    if all(c == 2 for c in col):\n",
    "        scatter = plt.scatter(manual, automatic, c='blue')\n",
    "        plt.legend(handles=[scatter], labels=['TP/TN'])\n",
    "\n",
    "    else:\n",
    "        scatter = plt.scatter(manual, automatic, c=col, cmap=ListedColormap(['black', 'green', 'blue']))\n",
    "        plt.axhline(thresh, color='r')\n",
    "        plt.axvline(thresh, color='r')\n",
    "        plt.xlabel('Manual')\n",
    "        plt.ylabel('Automatic')\n",
    "        plt.title(title)\n",
    "        plt.legend(handles=scatter.legend_elements()[0], labels = classes)\n",
    "        plt.show()"
   ]
  },
  {
   "cell_type": "code",
   "execution_count": 100,
   "metadata": {},
   "outputs": [],
   "source": [
    "def calculate_icc(automatic_values, manual_values):\n",
    "\n",
    "    raters1 = ['Automatic' for _ in range(len(automatic_values))]\n",
    "    raters2 = ['Manual' for _ in range(len(automatic_values))]\n",
    "    raters1.extend(raters2)\n",
    "\n",
    "    exam1 = list(np.arange(0, len(automatic_values)))\n",
    "    exam2 = list(np.arange(0, len(automatic_values)))\n",
    "    exam1.extend(exam2)\n",
    "\n",
    "    values_fct = pd.concat([automatic_values, manual_values])\n",
    "\n",
    "    icc_df = pd.DataFrame({'exam': exam1, 'raters': raters1, 'fct': values_fct})\n",
    "\n",
    "    icc = pg.intraclass_corr(icc_df, 'exam', 'raters', 'fct')\n",
    "\n",
    "    return icc"
   ]
  },
  {
   "cell_type": "code",
   "execution_count": 101,
   "metadata": {},
   "outputs": [],
   "source": [
    "def find_outliers(automatic_values, manual_values, sheet, score):\n",
    "\n",
    "    differences = automatic_values - manual_values\n",
    "\n",
    "    if score == 'zscore':\n",
    "        # Method 1: Z-score\n",
    "        z_scores = stats.zscore(differences)\n",
    "        z_score_threshold = 3.0\n",
    "        outliers = np.where(np.abs(z_scores) > z_score_threshold)[0]\n",
    "\n",
    "    elif score == 'tukey':\n",
    "        # Method 2: Tukey's fences\n",
    "        q1 = np.percentile(differences, 25)\n",
    "        q3 = np.percentile(differences, 75)\n",
    "        iqr = q3 - q1\n",
    "        lower_fence = q1 - (1.5 * iqr)\n",
    "        upper_fence = q3 + (1.5 * iqr)\n",
    "        outliers = np.where((differences < lower_fence) | (differences > upper_fence))[0]\n",
    "\n",
    "    else:\n",
    "        raise ValueError('Wrong type')\n",
    "\n",
    "    outliers_data = []\n",
    "\n",
    "    for outlier in outliers:\n",
    "\n",
    "        value = automatic_values.index[outlier]    \n",
    "        outlier_pullback = sheet.iloc[value]['pullback']\n",
    "        outlier_frame = sheet.iloc[value]['frame']\n",
    "        outlier_ai = automatic_values.tolist()[outlier]\n",
    "        outlier_manual = manual_values.tolist()[outlier]\n",
    "\n",
    "        outliers_data.append({'pullback': outlier_pullback, 'frame': outlier_frame, 'ai': outlier_ai, 'manual': outlier_manual})\n",
    "\n",
    "    return outliers, outliers_data"
   ]
  },
  {
   "attachments": {},
   "cell_type": "markdown",
   "metadata": {},
   "source": [
    "# Bland Altman manual vs automatic"
   ]
  },
  {
   "cell_type": "code",
   "execution_count": 181,
   "metadata": {},
   "outputs": [
    {
     "name": "stdout",
     "output_type": "stream",
     "text": [
      "Found 0 FP and 0 FN. Total values are 4\n",
      "60.06038627914409\n"
     ]
    },
    {
     "data": {
      "text/plain": [
       "Text(0.5, 1.0, 'Depth manual vs automatic')"
      ]
     },
     "execution_count": 181,
     "metadata": {},
     "output_type": "execute_result"
    },
    {
     "data": {
      "image/png": "[encoded data removed]",
      "text/plain": [
       "<Figure size 432x288 with 1 Axes>"
      ]
     },
     "metadata": {
      "needs_background": "light"
     },
     "output_type": "display_data"
    }
   ],
   "source": [
    "manual_depth, ai_depth = get_data_filtered(pullback_df, 'Depth test set', 'Depth model 5')\n",
    "mean = np.mean([manual_depth, ai_depth], axis=0)\n",
    "diff = manual_depth - ai_depth                  \n",
    "md = np.mean(diff)                   \n",
    "sd = np.std(diff, axis=0) \n",
    "print(sd)\n",
    "\n",
    "fig, axes = plt.subplots()\n",
    "\n",
    "sm.graphics.mean_diff_plot(ai_depth, manual_depth, ax = axes)\n",
    "plt.xlabel('Mean depth')\n",
    "plt.ylabel('Depth difference (ai - manual)')\n",
    "plt.title('Depth manual vs automatic')"
   ]
  },
  {
   "cell_type": "code",
   "execution_count": 170,
   "metadata": {},
   "outputs": [
    {
     "name": "stdout",
     "output_type": "stream",
     "text": [
      "[]\n",
      "[]\n"
     ]
    }
   ],
   "source": [
    "outliers, outliers_data = find_outliers(ai_depth, manual_depth, pullback_df, 'tukey')\n",
    "print(outliers)\n",
    "print(outliers_data)"
   ]
  },
  {
   "cell_type": "code",
   "execution_count": 182,
   "metadata": {},
   "outputs": [
    {
     "name": "stdout",
     "output_type": "stream",
     "text": [
      "Found 0 FP and 0 FN. Total values are 4\n",
      "6.06217782649107\n"
     ]
    },
    {
     "data": {
      "text/plain": [
       "Text(0.5, 1.0, 'Calcium arc manual vs automatic')"
      ]
     },
     "execution_count": 182,
     "metadata": {},
     "output_type": "execute_result"
    },
    {
     "data": {
      "image/png": "[encoded data removed]",
      "text/plain": [
       "<Figure size 432x288 with 1 Axes>"
      ]
     },
     "metadata": {
      "needs_background": "light"
     },
     "output_type": "display_data"
    }
   ],
   "source": [
    "manual_arc, ai_arc = get_data_filtered(pullback_df, 'Arc test set', 'Arc model 5')\n",
    "mean = np.mean([manual_arc, ai_arc], axis=0)\n",
    "diff = manual_arc - ai_arc                   \n",
    "md = np.mean(diff)                   \n",
    "sd = np.std(diff, axis=0) \n",
    "print(sd)\n",
    "\n",
    "fig, axes = plt.subplots()\n",
    "\n",
    "sm.graphics.mean_diff_plot(ai_arc, manual_arc, ax = axes)\n",
    "plt.xlabel('Mean calcium arc')\n",
    "plt.ylabel('Calcium arc difference (ai - manual)')\n",
    "plt.title('Calcium arc manual vs automatic')\n"
   ]
  },
  {
   "cell_type": "code",
   "execution_count": 172,
   "metadata": {},
   "outputs": [
    {
     "name": "stdout",
     "output_type": "stream",
     "text": [
      "[]\n",
      "[]\n"
     ]
    }
   ],
   "source": [
    "outliers, outliers_data = find_outliers(ai_arc, manual_arc, pullback_df, 'tukey')\n",
    "print(outliers)\n",
    "print(outliers_data)"
   ]
  },
  {
   "cell_type": "code",
   "execution_count": 183,
   "metadata": {},
   "outputs": [
    {
     "name": "stdout",
     "output_type": "stream",
     "text": [
      "Found 0 FP and 0 FN. Total values are 4\n",
      "105.61575403319337\n"
     ]
    },
    {
     "data": {
      "text/plain": [
       "Text(0.5, 1.0, 'Calcium thickness manual vs automatic')"
      ]
     },
     "execution_count": 183,
     "metadata": {},
     "output_type": "execute_result"
    },
    {
     "data": {
      "image/png": "[encoded data removed]",
      "text/plain": [
       "<Figure size 432x288 with 1 Axes>"
      ]
     },
     "metadata": {
      "needs_background": "light"
     },
     "output_type": "display_data"
    }
   ],
   "source": [
    "manual_thickness, ai_thickness = get_data_filtered(pullback_df, 'Thickness test set', 'Thickness model 5')\n",
    "mean = np.mean([manual_thickness, ai_thickness], axis=0)\n",
    "diff = manual_thickness - ai_thickness                   \n",
    "md = np.mean(diff)                   \n",
    "sd = np.std(diff, axis=0) \n",
    "print(sd)\n",
    "\n",
    "\n",
    "fig, axes = plt.subplots()\n",
    "\n",
    "sm.graphics.mean_diff_plot(ai_thickness, manual_thickness, ax = axes)\n",
    "plt.xlabel('Mean calcium thickness')\n",
    "plt.ylabel('Calcium thickness difference (ai - manual)')\n",
    "plt.title('Calcium thickness manual vs automatic')"
   ]
  },
  {
   "cell_type": "code",
   "execution_count": 184,
   "metadata": {},
   "outputs": [
    {
     "name": "stdout",
     "output_type": "stream",
     "text": [
      "[]\n",
      "[]\n"
     ]
    }
   ],
   "source": [
    "outliers, outliers_data = find_outliers(ai_thickness, manual_thickness, pullback_df, 'tukey')\n",
    "print(outliers)\n",
    "print(outliers_data)"
   ]
  },
  {
   "attachments": {},
   "cell_type": "markdown",
   "metadata": {},
   "source": [
    "## Pearson and ICC"
   ]
  },
  {
   "cell_type": "code",
   "execution_count": 185,
   "metadata": {},
   "outputs": [
    {
     "name": "stdout",
     "output_type": "stream",
     "text": [
      "Corr Depth: [[1.         0.91856217]\n",
      " [0.91856217 1.        ]]\n"
     ]
    },
    {
     "data": {
      "image/png": "[encoded data removed]",
      "text/plain": [
       "<Figure size 432x288 with 1 Axes>"
      ]
     },
     "metadata": {
      "needs_background": "light"
     },
     "output_type": "display_data"
    }
   ],
   "source": [
    "corr_plot(manual_depth, ai_depth, 0, 'Depth')"
   ]
  },
  {
   "cell_type": "code",
   "execution_count": 186,
   "metadata": {},
   "outputs": [
    {
     "name": "stdout",
     "output_type": "stream",
     "text": [
      "Corr Calcium arc: [[1.         0.99262875]\n",
      " [0.99262875 1.        ]]\n"
     ]
    },
    {
     "data": {
      "image/png": "[encoded data removed]",
      "text/plain": [
       "<Figure size 432x288 with 1 Axes>"
      ]
     },
     "metadata": {
      "needs_background": "light"
     },
     "output_type": "display_data"
    }
   ],
   "source": [
    "corr_plot(manual_arc, ai_arc, 180, 'Calcium arc')"
   ]
  },
  {
   "cell_type": "code",
   "execution_count": 187,
   "metadata": {},
   "outputs": [
    {
     "name": "stdout",
     "output_type": "stream",
     "text": [
      "Corr Calcium thickness: [[1.         0.98485561]\n",
      " [0.98485561 1.        ]]\n"
     ]
    },
    {
     "data": {
      "image/png": "[encoded data removed]",
      "text/plain": [
       "<Figure size 432x288 with 1 Axes>"
      ]
     },
     "metadata": {
      "needs_background": "light"
     },
     "output_type": "display_data"
    }
   ],
   "source": [
    "corr_plot(manual_thickness, ai_thickness, 500, 'Calcium thickness')"
   ]
  },
  {
   "cell_type": "code",
   "execution_count": 188,
   "metadata": {},
   "outputs": [
    {
     "data": {
      "text/html": [
       "<div>\n",
       "<style scoped>\n",
       "    .dataframe tbody tr th:only-of-type {\n",
       "        vertical-align: middle;\n",
       "    }\n",
       "\n",
       "    .dataframe tbody tr th {\n",
       "        vertical-align: top;\n",
       "    }\n",
       "\n",
       "    .dataframe thead th {\n",
       "        text-align: right;\n",
       "    }\n",
       "</style>\n",
       "<table border=\"1\" class=\"dataframe\">\n",
       "  <thead>\n",
       "    <tr style=\"text-align: right;\">\n",
       "      <th></th>\n",
       "      <th>Type</th>\n",
       "      <th>Description</th>\n",
       "      <th>ICC</th>\n",
       "      <th>F</th>\n",
       "      <th>df1</th>\n",
       "      <th>df2</th>\n",
       "      <th>pval</th>\n",
       "      <th>CI95%</th>\n",
       "    </tr>\n",
       "  </thead>\n",
       "  <tbody>\n",
       "    <tr>\n",
       "      <th>0</th>\n",
       "      <td>ICC1</td>\n",
       "      <td>Single raters absolute</td>\n",
       "      <td>0.787500</td>\n",
       "      <td>8.411752</td>\n",
       "      <td>3</td>\n",
       "      <td>4</td>\n",
       "      <td>0.033456</td>\n",
       "      <td>[-0.09, 0.98]</td>\n",
       "    </tr>\n",
       "    <tr>\n",
       "      <th>1</th>\n",
       "      <td>ICC2</td>\n",
       "      <td>Single random raters</td>\n",
       "      <td>0.781242</td>\n",
       "      <td>6.627556</td>\n",
       "      <td>3</td>\n",
       "      <td>3</td>\n",
       "      <td>0.077340</td>\n",
       "      <td>[-0.48, 0.98]</td>\n",
       "    </tr>\n",
       "    <tr>\n",
       "      <th>2</th>\n",
       "      <td>ICC3</td>\n",
       "      <td>Single fixed raters</td>\n",
       "      <td>0.737793</td>\n",
       "      <td>6.627556</td>\n",
       "      <td>3</td>\n",
       "      <td>3</td>\n",
       "      <td>0.077340</td>\n",
       "      <td>[-0.4, 0.98]</td>\n",
       "    </tr>\n",
       "    <tr>\n",
       "      <th>3</th>\n",
       "      <td>ICC1k</td>\n",
       "      <td>Average raters absolute</td>\n",
       "      <td>0.881119</td>\n",
       "      <td>8.411752</td>\n",
       "      <td>3</td>\n",
       "      <td>4</td>\n",
       "      <td>0.033456</td>\n",
       "      <td>[-0.19, 0.99]</td>\n",
       "    </tr>\n",
       "    <tr>\n",
       "      <th>4</th>\n",
       "      <td>ICC2k</td>\n",
       "      <td>Average random raters</td>\n",
       "      <td>0.877188</td>\n",
       "      <td>6.627556</td>\n",
       "      <td>3</td>\n",
       "      <td>3</td>\n",
       "      <td>0.077340</td>\n",
       "      <td>[-1.83, 0.99]</td>\n",
       "    </tr>\n",
       "    <tr>\n",
       "      <th>5</th>\n",
       "      <td>ICC3k</td>\n",
       "      <td>Average fixed raters</td>\n",
       "      <td>0.849115</td>\n",
       "      <td>6.627556</td>\n",
       "      <td>3</td>\n",
       "      <td>3</td>\n",
       "      <td>0.077340</td>\n",
       "      <td>[-1.33, 0.99]</td>\n",
       "    </tr>\n",
       "  </tbody>\n",
       "</table>\n",
       "</div>"
      ],
      "text/plain": [
       "    Type              Description       ICC         F  df1  df2      pval  \\\n",
       "0   ICC1   Single raters absolute  0.787500  8.411752    3    4  0.033456   \n",
       "1   ICC2     Single random raters  0.781242  6.627556    3    3  0.077340   \n",
       "2   ICC3      Single fixed raters  0.737793  6.627556    3    3  0.077340   \n",
       "3  ICC1k  Average raters absolute  0.881119  8.411752    3    4  0.033456   \n",
       "4  ICC2k    Average random raters  0.877188  6.627556    3    3  0.077340   \n",
       "5  ICC3k     Average fixed raters  0.849115  6.627556    3    3  0.077340   \n",
       "\n",
       "           CI95%  \n",
       "0  [-0.09, 0.98]  \n",
       "1  [-0.48, 0.98]  \n",
       "2   [-0.4, 0.98]  \n",
       "3  [-0.19, 0.99]  \n",
       "4  [-1.83, 0.99]  \n",
       "5  [-1.33, 0.99]  "
      ]
     },
     "execution_count": 188,
     "metadata": {},
     "output_type": "execute_result"
    }
   ],
   "source": [
    "calculate_icc(ai_depth, manual_depth)"
   ]
  },
  {
   "cell_type": "code",
   "execution_count": 189,
   "metadata": {},
   "outputs": [
    {
     "data": {
      "text/html": [
       "<div>\n",
       "<style scoped>\n",
       "    .dataframe tbody tr th:only-of-type {\n",
       "        vertical-align: middle;\n",
       "    }\n",
       "\n",
       "    .dataframe tbody tr th {\n",
       "        vertical-align: top;\n",
       "    }\n",
       "\n",
       "    .dataframe thead th {\n",
       "        text-align: right;\n",
       "    }\n",
       "</style>\n",
       "<table border=\"1\" class=\"dataframe\">\n",
       "  <thead>\n",
       "    <tr style=\"text-align: right;\">\n",
       "      <th></th>\n",
       "      <th>Type</th>\n",
       "      <th>Description</th>\n",
       "      <th>ICC</th>\n",
       "      <th>F</th>\n",
       "      <th>df1</th>\n",
       "      <th>df2</th>\n",
       "      <th>pval</th>\n",
       "      <th>CI95%</th>\n",
       "    </tr>\n",
       "  </thead>\n",
       "  <tbody>\n",
       "    <tr>\n",
       "      <th>0</th>\n",
       "      <td>ICC1</td>\n",
       "      <td>Single raters absolute</td>\n",
       "      <td>0.765048</td>\n",
       "      <td>7.512373</td>\n",
       "      <td>3</td>\n",
       "      <td>4</td>\n",
       "      <td>0.040396</td>\n",
       "      <td>[-0.14, 0.98]</td>\n",
       "    </tr>\n",
       "    <tr>\n",
       "      <th>1</th>\n",
       "      <td>ICC2</td>\n",
       "      <td>Single random raters</td>\n",
       "      <td>0.788159</td>\n",
       "      <td>105.326531</td>\n",
       "      <td>3</td>\n",
       "      <td>3</td>\n",
       "      <td>0.001544</td>\n",
       "      <td>[-0.03, 0.98]</td>\n",
       "    </tr>\n",
       "    <tr>\n",
       "      <th>2</th>\n",
       "      <td>ICC3</td>\n",
       "      <td>Single fixed raters</td>\n",
       "      <td>0.981190</td>\n",
       "      <td>105.326531</td>\n",
       "      <td>3</td>\n",
       "      <td>3</td>\n",
       "      <td>0.001544</td>\n",
       "      <td>[0.74, 1.0]</td>\n",
       "    </tr>\n",
       "    <tr>\n",
       "      <th>3</th>\n",
       "      <td>ICC1k</td>\n",
       "      <td>Average raters absolute</td>\n",
       "      <td>0.866886</td>\n",
       "      <td>7.512373</td>\n",
       "      <td>3</td>\n",
       "      <td>4</td>\n",
       "      <td>0.040396</td>\n",
       "      <td>[-0.33, 0.99]</td>\n",
       "    </tr>\n",
       "    <tr>\n",
       "      <th>4</th>\n",
       "      <td>ICC2k</td>\n",
       "      <td>Average random raters</td>\n",
       "      <td>0.881531</td>\n",
       "      <td>105.326531</td>\n",
       "      <td>3</td>\n",
       "      <td>3</td>\n",
       "      <td>0.001544</td>\n",
       "      <td>[-0.06, 0.99]</td>\n",
       "    </tr>\n",
       "    <tr>\n",
       "      <th>5</th>\n",
       "      <td>ICC3k</td>\n",
       "      <td>Average fixed raters</td>\n",
       "      <td>0.990506</td>\n",
       "      <td>105.326531</td>\n",
       "      <td>3</td>\n",
       "      <td>3</td>\n",
       "      <td>0.001544</td>\n",
       "      <td>[0.85, 1.0]</td>\n",
       "    </tr>\n",
       "  </tbody>\n",
       "</table>\n",
       "</div>"
      ],
      "text/plain": [
       "    Type              Description       ICC           F  df1  df2      pval  \\\n",
       "0   ICC1   Single raters absolute  0.765048    7.512373    3    4  0.040396   \n",
       "1   ICC2     Single random raters  0.788159  105.326531    3    3  0.001544   \n",
       "2   ICC3      Single fixed raters  0.981190  105.326531    3    3  0.001544   \n",
       "3  ICC1k  Average raters absolute  0.866886    7.512373    3    4  0.040396   \n",
       "4  ICC2k    Average random raters  0.881531  105.326531    3    3  0.001544   \n",
       "5  ICC3k     Average fixed raters  0.990506  105.326531    3    3  0.001544   \n",
       "\n",
       "           CI95%  \n",
       "0  [-0.14, 0.98]  \n",
       "1  [-0.03, 0.98]  \n",
       "2    [0.74, 1.0]  \n",
       "3  [-0.33, 0.99]  \n",
       "4  [-0.06, 0.99]  \n",
       "5    [0.85, 1.0]  "
      ]
     },
     "execution_count": 189,
     "metadata": {},
     "output_type": "execute_result"
    }
   ],
   "source": [
    "calculate_icc(ai_arc, manual_arc)"
   ]
  },
  {
   "cell_type": "code",
   "execution_count": 190,
   "metadata": {},
   "outputs": [
    {
     "data": {
      "text/html": [
       "<div>\n",
       "<style scoped>\n",
       "    .dataframe tbody tr th:only-of-type {\n",
       "        vertical-align: middle;\n",
       "    }\n",
       "\n",
       "    .dataframe tbody tr th {\n",
       "        vertical-align: top;\n",
       "    }\n",
       "\n",
       "    .dataframe thead th {\n",
       "        text-align: right;\n",
       "    }\n",
       "</style>\n",
       "<table border=\"1\" class=\"dataframe\">\n",
       "  <thead>\n",
       "    <tr style=\"text-align: right;\">\n",
       "      <th></th>\n",
       "      <th>Type</th>\n",
       "      <th>Description</th>\n",
       "      <th>ICC</th>\n",
       "      <th>F</th>\n",
       "      <th>df1</th>\n",
       "      <th>df2</th>\n",
       "      <th>pval</th>\n",
       "      <th>CI95%</th>\n",
       "    </tr>\n",
       "  </thead>\n",
       "  <tbody>\n",
       "    <tr>\n",
       "      <th>0</th>\n",
       "      <td>ICC1</td>\n",
       "      <td>Single raters absolute</td>\n",
       "      <td>0.842720</td>\n",
       "      <td>11.716174</td>\n",
       "      <td>3</td>\n",
       "      <td>4</td>\n",
       "      <td>0.018894</td>\n",
       "      <td>[0.08, 0.99]</td>\n",
       "    </tr>\n",
       "    <tr>\n",
       "      <th>1</th>\n",
       "      <td>ICC2</td>\n",
       "      <td>Single random raters</td>\n",
       "      <td>0.846710</td>\n",
       "      <td>17.513506</td>\n",
       "      <td>3</td>\n",
       "      <td>3</td>\n",
       "      <td>0.020963</td>\n",
       "      <td>[0.08, 0.99]</td>\n",
       "    </tr>\n",
       "    <tr>\n",
       "      <th>2</th>\n",
       "      <td>ICC3</td>\n",
       "      <td>Single fixed raters</td>\n",
       "      <td>0.891971</td>\n",
       "      <td>17.513506</td>\n",
       "      <td>3</td>\n",
       "      <td>3</td>\n",
       "      <td>0.020963</td>\n",
       "      <td>[0.06, 0.99]</td>\n",
       "    </tr>\n",
       "    <tr>\n",
       "      <th>3</th>\n",
       "      <td>ICC1k</td>\n",
       "      <td>Average raters absolute</td>\n",
       "      <td>0.914648</td>\n",
       "      <td>11.716174</td>\n",
       "      <td>3</td>\n",
       "      <td>4</td>\n",
       "      <td>0.018894</td>\n",
       "      <td>[0.15, 0.99]</td>\n",
       "    </tr>\n",
       "    <tr>\n",
       "      <th>4</th>\n",
       "      <td>ICC2k</td>\n",
       "      <td>Average random raters</td>\n",
       "      <td>0.916993</td>\n",
       "      <td>17.513506</td>\n",
       "      <td>3</td>\n",
       "      <td>3</td>\n",
       "      <td>0.020963</td>\n",
       "      <td>[0.15, 0.99]</td>\n",
       "    </tr>\n",
       "    <tr>\n",
       "      <th>5</th>\n",
       "      <td>ICC3k</td>\n",
       "      <td>Average fixed raters</td>\n",
       "      <td>0.942901</td>\n",
       "      <td>17.513506</td>\n",
       "      <td>3</td>\n",
       "      <td>3</td>\n",
       "      <td>0.020963</td>\n",
       "      <td>[0.12, 1.0]</td>\n",
       "    </tr>\n",
       "  </tbody>\n",
       "</table>\n",
       "</div>"
      ],
      "text/plain": [
       "    Type              Description       ICC          F  df1  df2      pval  \\\n",
       "0   ICC1   Single raters absolute  0.842720  11.716174    3    4  0.018894   \n",
       "1   ICC2     Single random raters  0.846710  17.513506    3    3  0.020963   \n",
       "2   ICC3      Single fixed raters  0.891971  17.513506    3    3  0.020963   \n",
       "3  ICC1k  Average raters absolute  0.914648  11.716174    3    4  0.018894   \n",
       "4  ICC2k    Average random raters  0.916993  17.513506    3    3  0.020963   \n",
       "5  ICC3k     Average fixed raters  0.942901  17.513506    3    3  0.020963   \n",
       "\n",
       "          CI95%  \n",
       "0  [0.08, 0.99]  \n",
       "1  [0.08, 0.99]  \n",
       "2  [0.06, 0.99]  \n",
       "3  [0.15, 0.99]  \n",
       "4  [0.15, 0.99]  \n",
       "5   [0.12, 1.0]  "
      ]
     },
     "execution_count": 190,
     "metadata": {},
     "output_type": "execute_result"
    }
   ],
   "source": [
    "calculate_icc(ai_thickness, manual_thickness)"
   ]
  },
  {
   "cell_type": "code",
   "execution_count": null,
   "metadata": {},
   "outputs": [],
   "source": []
  }
 ],
 "metadata": {
  "kernelspec": {
   "display_name": "AIM_GIB_20_21",
   "language": "python",
   "name": "python3"
  },
  "language_info": {
   "codemirror_mode": {
    "name": "ipython",
    "version": 3
   },
   "file_extension": ".py",
   "mimetype": "text/x-python",
   "name": "python",
   "nbconvert_exporter": "python",
   "pygments_lexer": "ipython3",
   "version": "3.10.5"
  },
  "orig_nbformat": 4,
  "vscode": {
   "interpreter": {
    "hash": "462e317a3f4ac380d0132727a8f93c19f6cae5ddf77b9673682ed50a737c83c4"
   }
  }
 },
 "nbformat": 4,
 "nbformat_minor": 2
}
