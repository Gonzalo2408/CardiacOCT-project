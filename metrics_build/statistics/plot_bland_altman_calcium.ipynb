{
 "cells": [
  {
   "cell_type": "code",
   "execution_count": 1,
   "metadata": {},
   "outputs": [],
   "source": [
    "import matplotlib.pyplot as plt\n",
    "import numpy as np\n",
    "import pandas as pd \n",
    "import statsmodels.api as sm\n",
    "import seaborn as sns\n",
    "import pingouin as pg\n",
    "from matplotlib.colors import ListedColormap\n",
    "from scipy import stats\n",
    "pd.options.mode.chained_assignment = None"
   ]
  },
  {
   "cell_type": "code",
   "execution_count": 2,
   "metadata": {},
   "outputs": [],
   "source": [
    "measurements = pd.read_excel(r'Z:\\grodriguez\\CardiacOCT\\code\\count-distributions\\manual_vs_automatic_measures.xlsx', sheet_name='Calcium new test set')"
   ]
  },
  {
   "attachments": {},
   "cell_type": "markdown",
   "metadata": {},
   "source": [
    "## Functions"
   ]
  },
  {
   "cell_type": "code",
   "execution_count": 3,
   "metadata": {},
   "outputs": [],
   "source": [
    "def get_data_filtered(test_sheet, type_manual, type_ai, missing = -99):\n",
    "\n",
    "    manual = test_sheet[type_manual]\n",
    "\n",
    "    ai = test_sheet[type_ai]\n",
    "\n",
    "    list_fp = []\n",
    "    list_fn = []\n",
    "    list_nulls = []\n",
    "    list_drops = []\n",
    "    fp_count = 0\n",
    "    fn_count = 0\n",
    "\n",
    "    for value in range(len(manual)):\n",
    "\n",
    "        if manual[value] == missing and ai[value] != missing:\n",
    "            list_fp.append(value)\n",
    "            fp_count += 1\n",
    "\n",
    "        if manual[value] != missing and ai[value] == missing:\n",
    "            list_fn.append(value)\n",
    "            fn_count += 1\n",
    "\n",
    "        if manual[value] == missing and ai[value] == missing:\n",
    "            list_nulls.append(value)\n",
    "\n",
    "        if ai[value] == np.nan:\n",
    "            list_nulls.append(value)\n",
    "\n",
    "    list_drops.extend(list_fp)\n",
    "    list_drops.extend(list_fn)\n",
    "    list_drops.extend(list_nulls)\n",
    "\n",
    "    ai.drop(list_drops, inplace=True)\n",
    "    manual.drop(list_drops, inplace=True)\n",
    "\n",
    "    print('Found {} FP and {} FN. Total values are {}'.format(fp_count, fn_count, len(manual)))\n",
    "\n",
    "\n",
    "    return manual, ai"
   ]
  },
  {
   "cell_type": "code",
   "execution_count": 4,
   "metadata": {},
   "outputs": [],
   "source": [
    "def corr_plot(manual, automatic, thresh, title):\n",
    "\n",
    "    print('Corr {}: {}'.format(title, np.corrcoef(manual, automatic)))\n",
    "\n",
    "    col = []\n",
    "    for i, j in zip(manual, automatic):\n",
    "        if i <= thresh and j >= thresh:\n",
    "            col.append(0)\n",
    "\n",
    "        elif i >= thresh and j <= thresh:\n",
    "            col.append(1)\n",
    "\n",
    "        else:\n",
    "            col.append(2)\n",
    "\n",
    "    classes = ['FP', 'FN', 'TP/TN']\n",
    "    if all(c == 2 for c in col):\n",
    "        scatter = plt.scatter(manual, automatic, c='blue')\n",
    "        plt.legend(handles=[scatter], labels=['TP/TN'])\n",
    "\n",
    "    else:\n",
    "        scatter = plt.scatter(manual, automatic, c=col, cmap=ListedColormap(['black', 'green', 'blue']))\n",
    "        plt.axhline(thresh, color='r')\n",
    "        plt.axvline(thresh, color='r')\n",
    "        plt.xlabel('Manual')\n",
    "        plt.ylabel('Automatic')\n",
    "        plt.title(title)\n",
    "        plt.legend(handles=scatter.legend_elements()[0], labels = classes)\n",
    "        plt.show()"
   ]
  },
  {
   "cell_type": "code",
   "execution_count": 5,
   "metadata": {},
   "outputs": [],
   "source": [
    "def calculate_icc(automatic_values, manual_values):\n",
    "\n",
    "    raters1 = ['Automatic' for _ in range(len(automatic_values))]\n",
    "    raters2 = ['Manual' for _ in range(len(automatic_values))]\n",
    "    raters1.extend(raters2)\n",
    "\n",
    "    exam1 = list(np.arange(0, len(automatic_values)))\n",
    "    exam2 = list(np.arange(0, len(automatic_values)))\n",
    "    exam1.extend(exam2)\n",
    "\n",
    "    values_fct = pd.concat([automatic_values, manual_values])\n",
    "\n",
    "    icc_df = pd.DataFrame({'exam': exam1, 'raters': raters1, 'fct': values_fct})\n",
    "\n",
    "    icc = pg.intraclass_corr(icc_df, 'exam', 'raters', 'fct')\n",
    "\n",
    "    return icc"
   ]
  },
  {
   "cell_type": "code",
   "execution_count": 6,
   "metadata": {},
   "outputs": [],
   "source": [
    "def find_outliers(automatic_values, manual_values, sheet, score):\n",
    "\n",
    "    differences = automatic_values - manual_values\n",
    "\n",
    "    if score == 'zscore':\n",
    "        # Method 1: Z-score\n",
    "        z_scores = stats.zscore(differences)\n",
    "        z_score_threshold = 3.0\n",
    "        outliers = np.where(np.abs(z_scores) > z_score_threshold)[0]\n",
    "\n",
    "    elif score == 'tukey':\n",
    "        # Method 2: Tukey's fences\n",
    "        q1 = np.percentile(differences, 25)\n",
    "        q3 = np.percentile(differences, 75)\n",
    "        iqr = q3 - q1\n",
    "        lower_fence = q1 - (1.5 * iqr)\n",
    "        upper_fence = q3 + (1.5 * iqr)\n",
    "        outliers = np.where((differences < lower_fence) | (differences > upper_fence))[0]\n",
    "\n",
    "    else:\n",
    "        raise ValueError('Wrong type')\n",
    "\n",
    "    outliers_data = []\n",
    "\n",
    "    for outlier in outliers:\n",
    "\n",
    "        value = automatic_values.index[outlier]    \n",
    "        outlier_pullback = sheet.iloc[value]['pullback']\n",
    "        outlier_frame = sheet.iloc[value]['frame']\n",
    "        outlier_ai = automatic_values.tolist()[outlier]\n",
    "        outlier_manual = manual_values.tolist()[outlier]\n",
    "\n",
    "        outliers_data.append({'pullback': outlier_pullback, 'frame': outlier_frame, 'ai': outlier_ai, 'manual': outlier_manual})\n",
    "\n",
    "    return outliers, outliers_data"
   ]
  },
  {
   "attachments": {},
   "cell_type": "markdown",
   "metadata": {},
   "source": [
    "# Bland Altman manual vs automatic"
   ]
  },
  {
   "cell_type": "code",
   "execution_count": 58,
   "metadata": {},
   "outputs": [
    {
     "name": "stdout",
     "output_type": "stream",
     "text": [
      "Found 6 FP and 2 FN. Total values are 30\n",
      "57.526225903205805\n"
     ]
    },
    {
     "data": {
      "text/plain": [
       "Text(0.5, 1.0, 'Depth manual vs automatic')"
      ]
     },
     "execution_count": 58,
     "metadata": {},
     "output_type": "execute_result"
    },
    {
     "data": {
      "image/png": "[encoded data removed]",
      "text/plain": [
       "<Figure size 432x288 with 1 Axes>"
      ]
     },
     "metadata": {
      "needs_background": "light"
     },
     "output_type": "display_data"
    }
   ],
   "source": [
    "manual_depth, ai_depth = get_data_filtered(measurements, 'Depth test set', 'Depth model 5')\n",
    "mean = np.mean([manual_depth, ai_depth], axis=0)\n",
    "diff = manual_depth - ai_depth                  \n",
    "md = np.mean(diff)                   \n",
    "sd = np.std(diff, axis=0) \n",
    "print(sd)\n",
    "\n",
    "fig, axes = plt.subplots()\n",
    "\n",
    "sm.graphics.mean_diff_plot(ai_depth, manual_depth, ax = axes)\n",
    "plt.xlabel('Mean depth')\n",
    "plt.ylabel('Depth difference (ai - manual)')\n",
    "plt.title('Depth manual vs automatic')"
   ]
  },
  {
   "cell_type": "code",
   "execution_count": 59,
   "metadata": {},
   "outputs": [
    {
     "name": "stdout",
     "output_type": "stream",
     "text": [
      "[ 0  2  3 17 19 27 28 29]\n",
      "[{'pullback': 'NLD-AMPH-0005', 'frame': 280, 'ai': 300, 'manual': 80}, {'pullback': 'NLD-AMPH-0028', 'frame': 167, 'ai': 301, 'manual': 202}, {'pullback': 'NLD-AMPH-0028', 'frame': 175, 'ai': 22, 'manual': 92}, {'pullback': 'NLD-ISALA-0065-MO1', 'frame': 440, 'ai': 222, 'manual': 260}, {'pullback': 'NLD-ISALA-0073', 'frame': 200, 'ai': 600, 'manual': 447}, {'pullback': 'NLD-ISALA-0097', 'frame': 350, 'ai': 85, 'manual': 117}, {'pullback': 'NLD-ISALA-0097', 'frame': 360, 'ai': 114, 'manual': 153}, {'pullback': 'NLD-ISALA-0097', 'frame': 400, 'ai': 218, 'manual': 320}]\n"
     ]
    }
   ],
   "source": [
    "outliers, outliers_data = find_outliers(ai_depth, manual_depth, measurements, 'tukey')\n",
    "print(outliers)\n",
    "print(outliers_data)"
   ]
  },
  {
   "cell_type": "code",
   "execution_count": 61,
   "metadata": {},
   "outputs": [
    {
     "name": "stdout",
     "output_type": "stream",
     "text": [
      "Found 6 FP and 2 FN. Total values are 30\n",
      "17.47747757035386\n"
     ]
    },
    {
     "data": {
      "text/plain": [
       "Text(0.5, 1.0, 'Calcium arc manual vs automatic')"
      ]
     },
     "execution_count": 61,
     "metadata": {},
     "output_type": "execute_result"
    },
    {
     "data": {
      "image/png": "[encoded data removed]",
      "text/plain": [
       "<Figure size 432x288 with 1 Axes>"
      ]
     },
     "metadata": {
      "needs_background": "light"
     },
     "output_type": "display_data"
    }
   ],
   "source": [
    "manual_arc, ai_arc = get_data_filtered(measurements, 'Arc test set', 'Arc model 5')\n",
    "mean = np.mean([manual_arc, ai_arc], axis=0)\n",
    "diff = manual_arc - ai_arc                   \n",
    "md = np.mean(diff)                   \n",
    "sd = np.std(diff, axis=0) \n",
    "print(sd)\n",
    "\n",
    "fig, axes = plt.subplots()\n",
    "\n",
    "sm.graphics.mean_diff_plot(ai_arc, manual_arc, ax = axes)\n",
    "plt.xlabel('Mean calcium arc')\n",
    "plt.ylabel('Calcium arc difference (ai - manual)')\n",
    "plt.title('Calcium arc manual vs automatic')\n"
   ]
  },
  {
   "cell_type": "code",
   "execution_count": 62,
   "metadata": {},
   "outputs": [
    {
     "name": "stdout",
     "output_type": "stream",
     "text": [
      "[11 14 18]\n",
      "[{'pullback': 'NLD-AMPH-0054', 'frame': 280, 'ai': 104, 'manual': 150}, {'pullback': 'NLD-ISALA-0057', 'frame': 200, 'ai': 64, 'manual': 122}, {'pullback': 'NLD-ISALA-0065-MO1', 'frame': 480, 'ai': 6, 'manual': 58}]\n"
     ]
    }
   ],
   "source": [
    "outliers, outliers_data = find_outliers(ai_arc, manual_arc, measurements, 'tukey')\n",
    "print(outliers)\n",
    "print(outliers_data)"
   ]
  },
  {
   "cell_type": "code",
   "execution_count": 63,
   "metadata": {},
   "outputs": [
    {
     "name": "stdout",
     "output_type": "stream",
     "text": [
      "Found 6 FP and 2 FN. Total values are 30\n",
      "156.53957965958642\n"
     ]
    },
    {
     "data": {
      "text/plain": [
       "Text(0.5, 1.0, 'Calcium thickness manual vs automatic')"
      ]
     },
     "execution_count": 63,
     "metadata": {},
     "output_type": "execute_result"
    },
    {
     "data": {
      "image/png": "[encoded data removed]",
      "text/plain": [
       "<Figure size 432x288 with 1 Axes>"
      ]
     },
     "metadata": {
      "needs_background": "light"
     },
     "output_type": "display_data"
    }
   ],
   "source": [
    "manual_thickness, ai_thickness = get_data_filtered(measurements, 'Thickness test set', 'Thickness model 5')\n",
    "mean = np.mean([manual_thickness, ai_thickness], axis=0)\n",
    "diff = manual_thickness - ai_thickness                   \n",
    "md = np.mean(diff)                   \n",
    "sd = np.std(diff, axis=0) \n",
    "print(sd)\n",
    "\n",
    "\n",
    "fig, axes = plt.subplots()\n",
    "\n",
    "sm.graphics.mean_diff_plot(ai_thickness, manual_thickness, ax = axes)\n",
    "plt.xlabel('Mean calcium thickness')\n",
    "plt.ylabel('Calcium thickness difference (ai - manual)')\n",
    "plt.title('Calcium thickness manual vs automatic')"
   ]
  },
  {
   "cell_type": "code",
   "execution_count": 64,
   "metadata": {},
   "outputs": [
    {
     "name": "stdout",
     "output_type": "stream",
     "text": [
      "[15 21 27 29]\n",
      "[{'pullback': 'NLD-ISALA-0057', 'frame': 320, 'ai': 523, 'manual': 1028}, {'pullback': 'NLD-ISALA-0087', 'frame': 280, 'ai': 446, 'manual': 186}, {'pullback': 'NLD-ISALA-0097', 'frame': 350, 'ai': 534, 'manual': 848}, {'pullback': 'NLD-ISALA-0097', 'frame': 400, 'ai': 854, 'manual': 1347}]\n"
     ]
    }
   ],
   "source": [
    "outliers, outliers_data = find_outliers(ai_thickness, manual_thickness, measurements, 'tukey')\n",
    "print(outliers)\n",
    "print(outliers_data)"
   ]
  },
  {
   "attachments": {},
   "cell_type": "markdown",
   "metadata": {},
   "source": [
    "## Pearson and ICC"
   ]
  },
  {
   "cell_type": "code",
   "execution_count": 65,
   "metadata": {},
   "outputs": [
    {
     "name": "stdout",
     "output_type": "stream",
     "text": [
      "Corr Depth: [[1.         0.89620506]\n",
      " [0.89620506 1.        ]]\n"
     ]
    },
    {
     "data": {
      "image/png": "[encoded data removed]",
      "text/plain": [
       "<Figure size 432x288 with 1 Axes>"
      ]
     },
     "metadata": {
      "needs_background": "light"
     },
     "output_type": "display_data"
    }
   ],
   "source": [
    "corr_plot(manual_depth, ai_depth, 0, 'Depth')"
   ]
  },
  {
   "cell_type": "code",
   "execution_count": 66,
   "metadata": {},
   "outputs": [
    {
     "name": "stdout",
     "output_type": "stream",
     "text": [
      "Corr Calcium arc: [[1.         0.86329167]\n",
      " [0.86329167 1.        ]]\n"
     ]
    },
    {
     "data": {
      "image/png": "[encoded data removed]",
      "text/plain": [
       "<Figure size 432x288 with 1 Axes>"
      ]
     },
     "metadata": {
      "needs_background": "light"
     },
     "output_type": "display_data"
    }
   ],
   "source": [
    "corr_plot(manual_arc, ai_arc, 180, 'Calcium arc')"
   ]
  },
  {
   "cell_type": "code",
   "execution_count": 67,
   "metadata": {},
   "outputs": [
    {
     "name": "stdout",
     "output_type": "stream",
     "text": [
      "Corr Calcium thickness: [[1.         0.89067243]\n",
      " [0.89067243 1.        ]]\n"
     ]
    },
    {
     "data": {
      "image/png": "[encoded data removed]",
      "text/plain": [
       "<Figure size 432x288 with 1 Axes>"
      ]
     },
     "metadata": {
      "needs_background": "light"
     },
     "output_type": "display_data"
    }
   ],
   "source": [
    "corr_plot(manual_thickness, ai_thickness, 500, 'Calcium thickness')"
   ]
  },
  {
   "cell_type": "code",
   "execution_count": 68,
   "metadata": {},
   "outputs": [
    {
     "data": {
      "text/html": [
       "<div>\n",
       "<style scoped>\n",
       "    .dataframe tbody tr th:only-of-type {\n",
       "        vertical-align: middle;\n",
       "    }\n",
       "\n",
       "    .dataframe tbody tr th {\n",
       "        vertical-align: top;\n",
       "    }\n",
       "\n",
       "    .dataframe thead th {\n",
       "        text-align: right;\n",
       "    }\n",
       "</style>\n",
       "<table border=\"1\" class=\"dataframe\">\n",
       "  <thead>\n",
       "    <tr style=\"text-align: right;\">\n",
       "      <th></th>\n",
       "      <th>Type</th>\n",
       "      <th>Description</th>\n",
       "      <th>ICC</th>\n",
       "      <th>F</th>\n",
       "      <th>df1</th>\n",
       "      <th>df2</th>\n",
       "      <th>pval</th>\n",
       "      <th>CI95%</th>\n",
       "    </tr>\n",
       "  </thead>\n",
       "  <tbody>\n",
       "    <tr>\n",
       "      <th>0</th>\n",
       "      <td>ICC1</td>\n",
       "      <td>Single raters absolute</td>\n",
       "      <td>0.887220</td>\n",
       "      <td>16.733567</td>\n",
       "      <td>29</td>\n",
       "      <td>30</td>\n",
       "      <td>7.606091e-12</td>\n",
       "      <td>[0.78, 0.94]</td>\n",
       "    </tr>\n",
       "    <tr>\n",
       "      <th>1</th>\n",
       "      <td>ICC2</td>\n",
       "      <td>Single random raters</td>\n",
       "      <td>0.887368</td>\n",
       "      <td>17.133834</td>\n",
       "      <td>29</td>\n",
       "      <td>29</td>\n",
       "      <td>1.090593e-11</td>\n",
       "      <td>[0.78, 0.94]</td>\n",
       "    </tr>\n",
       "    <tr>\n",
       "      <th>2</th>\n",
       "      <td>ICC3</td>\n",
       "      <td>Single fixed raters</td>\n",
       "      <td>0.889709</td>\n",
       "      <td>17.133834</td>\n",
       "      <td>29</td>\n",
       "      <td>29</td>\n",
       "      <td>1.090593e-11</td>\n",
       "      <td>[0.78, 0.95]</td>\n",
       "    </tr>\n",
       "    <tr>\n",
       "      <th>3</th>\n",
       "      <td>ICC1k</td>\n",
       "      <td>Average raters absolute</td>\n",
       "      <td>0.940240</td>\n",
       "      <td>16.733567</td>\n",
       "      <td>29</td>\n",
       "      <td>30</td>\n",
       "      <td>7.606091e-12</td>\n",
       "      <td>[0.88, 0.97]</td>\n",
       "    </tr>\n",
       "    <tr>\n",
       "      <th>4</th>\n",
       "      <td>ICC2k</td>\n",
       "      <td>Average random raters</td>\n",
       "      <td>0.940323</td>\n",
       "      <td>17.133834</td>\n",
       "      <td>29</td>\n",
       "      <td>29</td>\n",
       "      <td>1.090593e-11</td>\n",
       "      <td>[0.88, 0.97]</td>\n",
       "    </tr>\n",
       "    <tr>\n",
       "      <th>5</th>\n",
       "      <td>ICC3k</td>\n",
       "      <td>Average fixed raters</td>\n",
       "      <td>0.941636</td>\n",
       "      <td>17.133834</td>\n",
       "      <td>29</td>\n",
       "      <td>29</td>\n",
       "      <td>1.090593e-11</td>\n",
       "      <td>[0.88, 0.97]</td>\n",
       "    </tr>\n",
       "  </tbody>\n",
       "</table>\n",
       "</div>"
      ],
      "text/plain": [
       "    Type              Description       ICC          F  df1  df2  \\\n",
       "0   ICC1   Single raters absolute  0.887220  16.733567   29   30   \n",
       "1   ICC2     Single random raters  0.887368  17.133834   29   29   \n",
       "2   ICC3      Single fixed raters  0.889709  17.133834   29   29   \n",
       "3  ICC1k  Average raters absolute  0.940240  16.733567   29   30   \n",
       "4  ICC2k    Average random raters  0.940323  17.133834   29   29   \n",
       "5  ICC3k     Average fixed raters  0.941636  17.133834   29   29   \n",
       "\n",
       "           pval         CI95%  \n",
       "0  7.606091e-12  [0.78, 0.94]  \n",
       "1  1.090593e-11  [0.78, 0.94]  \n",
       "2  1.090593e-11  [0.78, 0.95]  \n",
       "3  7.606091e-12  [0.88, 0.97]  \n",
       "4  1.090593e-11  [0.88, 0.97]  \n",
       "5  1.090593e-11  [0.88, 0.97]  "
      ]
     },
     "execution_count": 68,
     "metadata": {},
     "output_type": "execute_result"
    }
   ],
   "source": [
    "calculate_icc(ai_depth, manual_depth)"
   ]
  },
  {
   "cell_type": "code",
   "execution_count": 69,
   "metadata": {},
   "outputs": [
    {
     "data": {
      "text/html": [
       "<div>\n",
       "<style scoped>\n",
       "    .dataframe tbody tr th:only-of-type {\n",
       "        vertical-align: middle;\n",
       "    }\n",
       "\n",
       "    .dataframe tbody tr th {\n",
       "        vertical-align: top;\n",
       "    }\n",
       "\n",
       "    .dataframe thead th {\n",
       "        text-align: right;\n",
       "    }\n",
       "</style>\n",
       "<table border=\"1\" class=\"dataframe\">\n",
       "  <thead>\n",
       "    <tr style=\"text-align: right;\">\n",
       "      <th></th>\n",
       "      <th>Type</th>\n",
       "      <th>Description</th>\n",
       "      <th>ICC</th>\n",
       "      <th>F</th>\n",
       "      <th>df1</th>\n",
       "      <th>df2</th>\n",
       "      <th>pval</th>\n",
       "      <th>CI95%</th>\n",
       "    </tr>\n",
       "  </thead>\n",
       "  <tbody>\n",
       "    <tr>\n",
       "      <th>0</th>\n",
       "      <td>ICC1</td>\n",
       "      <td>Single raters absolute</td>\n",
       "      <td>0.803565</td>\n",
       "      <td>9.181462</td>\n",
       "      <td>29</td>\n",
       "      <td>30</td>\n",
       "      <td>1.706127e-08</td>\n",
       "      <td>[0.63, 0.9]</td>\n",
       "    </tr>\n",
       "    <tr>\n",
       "      <th>1</th>\n",
       "      <td>ICC2</td>\n",
       "      <td>Single random raters</td>\n",
       "      <td>0.808625</td>\n",
       "      <td>12.563678</td>\n",
       "      <td>29</td>\n",
       "      <td>29</td>\n",
       "      <td>5.731152e-10</td>\n",
       "      <td>[0.52, 0.92]</td>\n",
       "    </tr>\n",
       "    <tr>\n",
       "      <th>2</th>\n",
       "      <td>ICC3</td>\n",
       "      <td>Single fixed raters</td>\n",
       "      <td>0.852547</td>\n",
       "      <td>12.563678</td>\n",
       "      <td>29</td>\n",
       "      <td>29</td>\n",
       "      <td>5.731152e-10</td>\n",
       "      <td>[0.71, 0.93]</td>\n",
       "    </tr>\n",
       "    <tr>\n",
       "      <th>3</th>\n",
       "      <td>ICC1k</td>\n",
       "      <td>Average raters absolute</td>\n",
       "      <td>0.891085</td>\n",
       "      <td>9.181462</td>\n",
       "      <td>29</td>\n",
       "      <td>30</td>\n",
       "      <td>1.706127e-08</td>\n",
       "      <td>[0.77, 0.95]</td>\n",
       "    </tr>\n",
       "    <tr>\n",
       "      <th>4</th>\n",
       "      <td>ICC2k</td>\n",
       "      <td>Average random raters</td>\n",
       "      <td>0.894187</td>\n",
       "      <td>12.563678</td>\n",
       "      <td>29</td>\n",
       "      <td>29</td>\n",
       "      <td>5.731152e-10</td>\n",
       "      <td>[0.69, 0.96]</td>\n",
       "    </tr>\n",
       "    <tr>\n",
       "      <th>5</th>\n",
       "      <td>ICC3k</td>\n",
       "      <td>Average fixed raters</td>\n",
       "      <td>0.920405</td>\n",
       "      <td>12.563678</td>\n",
       "      <td>29</td>\n",
       "      <td>29</td>\n",
       "      <td>5.731152e-10</td>\n",
       "      <td>[0.83, 0.96]</td>\n",
       "    </tr>\n",
       "  </tbody>\n",
       "</table>\n",
       "</div>"
      ],
      "text/plain": [
       "    Type              Description       ICC          F  df1  df2  \\\n",
       "0   ICC1   Single raters absolute  0.803565   9.181462   29   30   \n",
       "1   ICC2     Single random raters  0.808625  12.563678   29   29   \n",
       "2   ICC3      Single fixed raters  0.852547  12.563678   29   29   \n",
       "3  ICC1k  Average raters absolute  0.891085   9.181462   29   30   \n",
       "4  ICC2k    Average random raters  0.894187  12.563678   29   29   \n",
       "5  ICC3k     Average fixed raters  0.920405  12.563678   29   29   \n",
       "\n",
       "           pval         CI95%  \n",
       "0  1.706127e-08   [0.63, 0.9]  \n",
       "1  5.731152e-10  [0.52, 0.92]  \n",
       "2  5.731152e-10  [0.71, 0.93]  \n",
       "3  1.706127e-08  [0.77, 0.95]  \n",
       "4  5.731152e-10  [0.69, 0.96]  \n",
       "5  5.731152e-10  [0.83, 0.96]  "
      ]
     },
     "execution_count": 69,
     "metadata": {},
     "output_type": "execute_result"
    }
   ],
   "source": [
    "calculate_icc(ai_arc, manual_arc)"
   ]
  },
  {
   "cell_type": "code",
   "execution_count": 70,
   "metadata": {},
   "outputs": [
    {
     "data": {
      "text/html": [
       "<div>\n",
       "<style scoped>\n",
       "    .dataframe tbody tr th:only-of-type {\n",
       "        vertical-align: middle;\n",
       "    }\n",
       "\n",
       "    .dataframe tbody tr th {\n",
       "        vertical-align: top;\n",
       "    }\n",
       "\n",
       "    .dataframe thead th {\n",
       "        text-align: right;\n",
       "    }\n",
       "</style>\n",
       "<table border=\"1\" class=\"dataframe\">\n",
       "  <thead>\n",
       "    <tr style=\"text-align: right;\">\n",
       "      <th></th>\n",
       "      <th>Type</th>\n",
       "      <th>Description</th>\n",
       "      <th>ICC</th>\n",
       "      <th>F</th>\n",
       "      <th>df1</th>\n",
       "      <th>df2</th>\n",
       "      <th>pval</th>\n",
       "      <th>CI95%</th>\n",
       "    </tr>\n",
       "  </thead>\n",
       "  <tbody>\n",
       "    <tr>\n",
       "      <th>0</th>\n",
       "      <td>ICC1</td>\n",
       "      <td>Single raters absolute</td>\n",
       "      <td>0.869924</td>\n",
       "      <td>14.375628</td>\n",
       "      <td>29</td>\n",
       "      <td>30</td>\n",
       "      <td>5.712465e-11</td>\n",
       "      <td>[0.75, 0.94]</td>\n",
       "    </tr>\n",
       "    <tr>\n",
       "      <th>1</th>\n",
       "      <td>ICC2</td>\n",
       "      <td>Single random raters</td>\n",
       "      <td>0.871163</td>\n",
       "      <td>16.869012</td>\n",
       "      <td>29</td>\n",
       "      <td>29</td>\n",
       "      <td>1.335339e-11</td>\n",
       "      <td>[0.72, 0.94]</td>\n",
       "    </tr>\n",
       "    <tr>\n",
       "      <th>2</th>\n",
       "      <td>ICC3</td>\n",
       "      <td>Single fixed raters</td>\n",
       "      <td>0.888074</td>\n",
       "      <td>16.869012</td>\n",
       "      <td>29</td>\n",
       "      <td>29</td>\n",
       "      <td>1.335339e-11</td>\n",
       "      <td>[0.78, 0.95]</td>\n",
       "    </tr>\n",
       "    <tr>\n",
       "      <th>3</th>\n",
       "      <td>ICC1k</td>\n",
       "      <td>Average raters absolute</td>\n",
       "      <td>0.930438</td>\n",
       "      <td>14.375628</td>\n",
       "      <td>29</td>\n",
       "      <td>30</td>\n",
       "      <td>5.712465e-11</td>\n",
       "      <td>[0.86, 0.97]</td>\n",
       "    </tr>\n",
       "    <tr>\n",
       "      <th>4</th>\n",
       "      <td>ICC2k</td>\n",
       "      <td>Average random raters</td>\n",
       "      <td>0.931146</td>\n",
       "      <td>16.869012</td>\n",
       "      <td>29</td>\n",
       "      <td>29</td>\n",
       "      <td>1.335339e-11</td>\n",
       "      <td>[0.84, 0.97]</td>\n",
       "    </tr>\n",
       "    <tr>\n",
       "      <th>5</th>\n",
       "      <td>ICC3k</td>\n",
       "      <td>Average fixed raters</td>\n",
       "      <td>0.940720</td>\n",
       "      <td>16.869012</td>\n",
       "      <td>29</td>\n",
       "      <td>29</td>\n",
       "      <td>1.335339e-11</td>\n",
       "      <td>[0.88, 0.97]</td>\n",
       "    </tr>\n",
       "  </tbody>\n",
       "</table>\n",
       "</div>"
      ],
      "text/plain": [
       "    Type              Description       ICC          F  df1  df2  \\\n",
       "0   ICC1   Single raters absolute  0.869924  14.375628   29   30   \n",
       "1   ICC2     Single random raters  0.871163  16.869012   29   29   \n",
       "2   ICC3      Single fixed raters  0.888074  16.869012   29   29   \n",
       "3  ICC1k  Average raters absolute  0.930438  14.375628   29   30   \n",
       "4  ICC2k    Average random raters  0.931146  16.869012   29   29   \n",
       "5  ICC3k     Average fixed raters  0.940720  16.869012   29   29   \n",
       "\n",
       "           pval         CI95%  \n",
       "0  5.712465e-11  [0.75, 0.94]  \n",
       "1  1.335339e-11  [0.72, 0.94]  \n",
       "2  1.335339e-11  [0.78, 0.95]  \n",
       "3  5.712465e-11  [0.86, 0.97]  \n",
       "4  1.335339e-11  [0.84, 0.97]  \n",
       "5  1.335339e-11  [0.88, 0.97]  "
      ]
     },
     "execution_count": 70,
     "metadata": {},
     "output_type": "execute_result"
    }
   ],
   "source": [
    "calculate_icc(ai_thickness, manual_thickness)"
   ]
  },
  {
   "cell_type": "code",
   "execution_count": null,
   "metadata": {},
   "outputs": [],
   "source": []
  }
 ],
 "metadata": {
  "kernelspec": {
   "display_name": "AIM_GIB_20_21",
   "language": "python",
   "name": "python3"
  },
  "language_info": {
   "codemirror_mode": {
    "name": "ipython",
    "version": 3
   },
   "file_extension": ".py",
   "mimetype": "text/x-python",
   "name": "python",
   "nbconvert_exporter": "python",
   "pygments_lexer": "ipython3",
   "version": "3.10.5"
  },
  "orig_nbformat": 4,
  "vscode": {
   "interpreter": {
    "hash": "462e317a3f4ac380d0132727a8f93c19f6cae5ddf77b9673682ed50a737c83c4"
   }
  }
 },
 "nbformat": 4,
 "nbformat_minor": 2
}
