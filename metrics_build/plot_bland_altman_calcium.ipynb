{
 "cells": [
  {
   "cell_type": "code",
   "execution_count": 53,
   "metadata": {},
   "outputs": [],
   "source": [
    "import matplotlib.pyplot as plt\n",
    "import numpy as np\n",
    "import pandas as pd \n",
    "import statsmodels.api as sm\n",
    "import seaborn as sns\n",
    "import pingouin as pg\n",
    "from matplotlib.colors import ListedColormap\n",
    "pd.options.mode.chained_assignment = None"
   ]
  },
  {
   "cell_type": "code",
   "execution_count": 107,
   "metadata": {},
   "outputs": [],
   "source": [
    "measurements = pd.read_excel(r'Z:\\grodriguez\\CardiacOCT\\code\\count-distributions\\manual_vs_automatic_fct_arc.xlsx', sheet_name='Calcium measurements test set')"
   ]
  },
  {
   "attachments": {},
   "cell_type": "markdown",
   "metadata": {},
   "source": [
    "## Functions"
   ]
  },
  {
   "cell_type": "code",
   "execution_count": 108,
   "metadata": {},
   "outputs": [],
   "source": [
    "def get_data_filtered(test_sheet, type_manual, type_ai):\n",
    "\n",
    "    manual = test_sheet[type_manual]\n",
    "\n",
    "    ai = test_sheet[type_ai]\n",
    "\n",
    "    list_fp = []\n",
    "    list_fn = []\n",
    "    list_nulls = []\n",
    "    list_drops = []\n",
    "\n",
    "    for value in range(len(manual)):\n",
    "\n",
    "        if manual[value] == 0.0 and ai[value] != 0.0:\n",
    "            list_fp.append(value)\n",
    "\n",
    "        if manual[value] != 0.0 and ai[value] == 0.0:\n",
    "            list_fn.append(value)\n",
    "\n",
    "        if manual[value] == 0.0 and ai[value] == 0.0:\n",
    "            list_nulls.append(value)\n",
    "\n",
    "        if ai[value] == np.nan:\n",
    "            list_nulls.append(value)\n",
    "\n",
    "    list_drops.extend(list_fp)\n",
    "    list_drops.extend(list_fn)\n",
    "    list_drops.extend(list_nulls)\n",
    "\n",
    "    ai.drop(list_drops, inplace=True)\n",
    "    manual.drop(list_drops, inplace=True)\n",
    "\n",
    "    return manual, ai"
   ]
  },
  {
   "cell_type": "code",
   "execution_count": 109,
   "metadata": {},
   "outputs": [],
   "source": [
    "def corr_plot(manual, automatic, thresh, title):\n",
    "\n",
    "    print('Corr {}: {}'.format(title, np.corrcoef(manual, automatic)))\n",
    "\n",
    "    col = []\n",
    "    for i, j in zip(manual, automatic):\n",
    "        if i <= thresh and j >= thresh:\n",
    "            col.append(0)\n",
    "\n",
    "        elif i >= thresh and j <= thresh:\n",
    "            col.append(1)\n",
    "\n",
    "        else:\n",
    "            col.append(2)\n",
    "\n",
    "    classes = ['FP', 'FN', 'TP/TN']\n",
    "    if all(c == 2 for c in col):\n",
    "        scatter = plt.scatter(manual, automatic, c='blue')\n",
    "        plt.legend(handles=[scatter], labels=['TP/TN'])\n",
    "\n",
    "    else:\n",
    "        scatter = plt.scatter(manual, automatic, c=col, cmap=ListedColormap(['black', 'green', 'blue']))\n",
    "        plt.axhline(thresh, color='r')\n",
    "        plt.axvline(thresh, color='r')\n",
    "        plt.xlabel('Manual')\n",
    "        plt.ylabel('Automatic')\n",
    "        plt.title(title)\n",
    "        plt.legend(handles=scatter.legend_elements()[0], labels = classes)\n",
    "        plt.show()"
   ]
  },
  {
   "cell_type": "code",
   "execution_count": 110,
   "metadata": {},
   "outputs": [],
   "source": [
    "def calculate_icc(automatic_values, manual_values):\n",
    "\n",
    "    raters1 = ['Automatic' for _ in range(len(automatic_values))]\n",
    "    raters2 = ['Manual' for _ in range(len(automatic_values))]\n",
    "    raters1.extend(raters2)\n",
    "\n",
    "    exam1 = list(np.arange(0, len(automatic_values)))\n",
    "    exam2 = list(np.arange(0, len(automatic_values)))\n",
    "    exam1.extend(exam2)\n",
    "\n",
    "    values_fct = pd.concat([automatic_values, manual_values])\n",
    "\n",
    "    icc_df = pd.DataFrame({'exam': exam1, 'raters': raters1, 'fct': values_fct})\n",
    "\n",
    "    icc = pg.intraclass_corr(icc_df, 'exam', 'raters', 'fct')\n",
    "\n",
    "    return icc"
   ]
  },
  {
   "attachments": {},
   "cell_type": "markdown",
   "metadata": {},
   "source": [
    "# Bland Altman manual vs automatic"
   ]
  },
  {
   "cell_type": "code",
   "execution_count": 111,
   "metadata": {},
   "outputs": [
    {
     "name": "stdout",
     "output_type": "stream",
     "text": [
      "73.39788825300084\n"
     ]
    },
    {
     "data": {
      "text/plain": [
       "Text(0.5, 1.0, 'Depth manual vs automatic')"
      ]
     },
     "execution_count": 111,
     "metadata": {},
     "output_type": "execute_result"
    },
    {
     "data": {
      "image/png": "[encoded data removed]",
      "text/plain": [
       "<Figure size 432x288 with 1 Axes>"
      ]
     },
     "metadata": {
      "needs_background": "light"
     },
     "output_type": "display_data"
    }
   ],
   "source": [
    "manual_depth, ai_depth_model3 = get_data_filtered(measurements, 'Depth test set', 'Depth model 1 2D')\n",
    "mean = np.mean([manual_depth, ai_depth_model3], axis=0)\n",
    "diff = manual_depth - ai_depth_model3                   \n",
    "md = np.mean(diff)                   \n",
    "sd = np.std(diff, axis=0) \n",
    "print(sd)\n",
    "\n",
    "fig, axes = plt.subplots()\n",
    "\n",
    "sm.graphics.mean_diff_plot(ai_depth_model3, manual_depth, ax = axes)\n",
    "plt.xlabel('Mean depth')\n",
    "plt.ylabel('Depth difference (ai - manual)')\n",
    "plt.title('Depth manual vs automatic')"
   ]
  },
  {
   "cell_type": "code",
   "execution_count": 113,
   "metadata": {},
   "outputs": [
    {
     "name": "stdout",
     "output_type": "stream",
     "text": [
      "19.479155525843517\n"
     ]
    },
    {
     "data": {
      "text/plain": [
       "Text(0.5, 1.0, 'Calcium arc manual vs automatic')"
      ]
     },
     "execution_count": 113,
     "metadata": {},
     "output_type": "execute_result"
    },
    {
     "data": {
      "image/png": "[encoded data removed]",
      "text/plain": [
       "<Figure size 432x288 with 1 Axes>"
      ]
     },
     "metadata": {
      "needs_background": "light"
     },
     "output_type": "display_data"
    }
   ],
   "source": [
    "manual_arc, ai_arc_model3 = get_data_filtered(measurements, 'Arc test set', 'Arc model 1 2D')\n",
    "mean = np.mean([manual_arc, ai_arc_model3], axis=0)\n",
    "diff = manual_arc - ai_arc_model3                   \n",
    "md = np.mean(diff)                   \n",
    "sd = np.std(diff, axis=0) \n",
    "print(sd)\n",
    "\n",
    "fig, axes = plt.subplots()\n",
    "\n",
    "sm.graphics.mean_diff_plot(ai_arc_model3, manual_arc, ax = axes)\n",
    "plt.xlabel('Mean calcium arc')\n",
    "plt.ylabel('Calcium arc difference (ai - manual)')\n",
    "plt.title('Calcium arc manual vs automatic')\n"
   ]
  },
  {
   "cell_type": "code",
   "execution_count": 114,
   "metadata": {},
   "outputs": [
    {
     "name": "stdout",
     "output_type": "stream",
     "text": [
      "219.26599460219293\n"
     ]
    },
    {
     "data": {
      "text/plain": [
       "Text(0.5, 1.0, 'Calcium thickness manual vs automatic')"
      ]
     },
     "execution_count": 114,
     "metadata": {},
     "output_type": "execute_result"
    },
    {
     "data": {
      "image/png": "[encoded data removed]",
      "text/plain": [
       "<Figure size 432x288 with 1 Axes>"
      ]
     },
     "metadata": {
      "needs_background": "light"
     },
     "output_type": "display_data"
    }
   ],
   "source": [
    "manual_thickness, ai_thickness_model3 = get_data_filtered(measurements, 'Thickness test set', 'Thickness model 1 2D')\n",
    "mean = np.mean([manual_thickness, ai_thickness_model3], axis=0)\n",
    "diff = manual_thickness - ai_thickness_model3                   \n",
    "md = np.mean(diff)                   \n",
    "sd = np.std(diff, axis=0) \n",
    "print(sd)\n",
    "\n",
    "\n",
    "fig, axes = plt.subplots()\n",
    "\n",
    "sm.graphics.mean_diff_plot(ai_thickness_model3, manual_thickness, ax = axes)\n",
    "plt.xlabel('Mean calcium thickness')\n",
    "plt.ylabel('Calcium thickness difference (ai - manual)')\n",
    "plt.title('Calcium thickness manual vs automatic')"
   ]
  },
  {
   "attachments": {},
   "cell_type": "markdown",
   "metadata": {},
   "source": [
    "## Pearson and ICC"
   ]
  },
  {
   "cell_type": "code",
   "execution_count": 115,
   "metadata": {},
   "outputs": [
    {
     "name": "stdout",
     "output_type": "stream",
     "text": [
      "Corr Depth: [[1.         0.72350913]\n",
      " [0.72350913 1.        ]]\n"
     ]
    },
    {
     "data": {
      "image/png": "[encoded data removed]",
      "text/plain": [
       "<Figure size 432x288 with 1 Axes>"
      ]
     },
     "metadata": {
      "needs_background": "light"
     },
     "output_type": "display_data"
    }
   ],
   "source": [
    "corr_plot(manual_depth, ai_depth_model3, 0, 'Depth')"
   ]
  },
  {
   "cell_type": "code",
   "execution_count": 116,
   "metadata": {},
   "outputs": [
    {
     "name": "stdout",
     "output_type": "stream",
     "text": [
      "Corr Calcium arc: [[1.        0.8333749]\n",
      " [0.8333749 1.       ]]\n"
     ]
    },
    {
     "data": {
      "image/png": "[encoded data removed]",
      "text/plain": [
       "<Figure size 432x288 with 1 Axes>"
      ]
     },
     "metadata": {
      "needs_background": "light"
     },
     "output_type": "display_data"
    }
   ],
   "source": [
    "corr_plot(manual_arc, ai_arc_model3, 180, 'Calcium arc')"
   ]
  },
  {
   "cell_type": "code",
   "execution_count": 117,
   "metadata": {},
   "outputs": [
    {
     "name": "stdout",
     "output_type": "stream",
     "text": [
      "Corr Calcium thickness: [[1.         0.80600321]\n",
      " [0.80600321 1.        ]]\n"
     ]
    },
    {
     "data": {
      "image/png": "[encoded data removed]",
      "text/plain": [
       "<Figure size 432x288 with 1 Axes>"
      ]
     },
     "metadata": {
      "needs_background": "light"
     },
     "output_type": "display_data"
    }
   ],
   "source": [
    "corr_plot(manual_thickness, ai_thickness_model3, 500, 'Calcium thickness')"
   ]
  },
  {
   "cell_type": "code",
   "execution_count": 118,
   "metadata": {},
   "outputs": [
    {
     "data": {
      "text/html": [
       "<div>\n",
       "<style scoped>\n",
       "    .dataframe tbody tr th:only-of-type {\n",
       "        vertical-align: middle;\n",
       "    }\n",
       "\n",
       "    .dataframe tbody tr th {\n",
       "        vertical-align: top;\n",
       "    }\n",
       "\n",
       "    .dataframe thead th {\n",
       "        text-align: right;\n",
       "    }\n",
       "</style>\n",
       "<table border=\"1\" class=\"dataframe\">\n",
       "  <thead>\n",
       "    <tr style=\"text-align: right;\">\n",
       "      <th></th>\n",
       "      <th>Type</th>\n",
       "      <th>Description</th>\n",
       "      <th>ICC</th>\n",
       "      <th>F</th>\n",
       "      <th>df1</th>\n",
       "      <th>df2</th>\n",
       "      <th>pval</th>\n",
       "      <th>CI95%</th>\n",
       "    </tr>\n",
       "  </thead>\n",
       "  <tbody>\n",
       "    <tr>\n",
       "      <th>0</th>\n",
       "      <td>ICC1</td>\n",
       "      <td>Single raters absolute</td>\n",
       "      <td>0.712113</td>\n",
       "      <td>5.947182</td>\n",
       "      <td>23</td>\n",
       "      <td>24</td>\n",
       "      <td>0.000024</td>\n",
       "      <td>[0.45, 0.86]</td>\n",
       "    </tr>\n",
       "    <tr>\n",
       "      <th>1</th>\n",
       "      <td>ICC2</td>\n",
       "      <td>Single random raters</td>\n",
       "      <td>0.711829</td>\n",
       "      <td>5.906738</td>\n",
       "      <td>23</td>\n",
       "      <td>23</td>\n",
       "      <td>0.000035</td>\n",
       "      <td>[0.44, 0.86]</td>\n",
       "    </tr>\n",
       "    <tr>\n",
       "      <th>2</th>\n",
       "      <td>ICC3</td>\n",
       "      <td>Single fixed raters</td>\n",
       "      <td>0.710428</td>\n",
       "      <td>5.906738</td>\n",
       "      <td>23</td>\n",
       "      <td>23</td>\n",
       "      <td>0.000035</td>\n",
       "      <td>[0.44, 0.86]</td>\n",
       "    </tr>\n",
       "    <tr>\n",
       "      <th>3</th>\n",
       "      <td>ICC1k</td>\n",
       "      <td>Average raters absolute</td>\n",
       "      <td>0.831853</td>\n",
       "      <td>5.947182</td>\n",
       "      <td>23</td>\n",
       "      <td>24</td>\n",
       "      <td>0.000024</td>\n",
       "      <td>[0.62, 0.93]</td>\n",
       "    </tr>\n",
       "    <tr>\n",
       "      <th>4</th>\n",
       "      <td>ICC2k</td>\n",
       "      <td>Average random raters</td>\n",
       "      <td>0.831659</td>\n",
       "      <td>5.906738</td>\n",
       "      <td>23</td>\n",
       "      <td>23</td>\n",
       "      <td>0.000035</td>\n",
       "      <td>[0.61, 0.93]</td>\n",
       "    </tr>\n",
       "    <tr>\n",
       "      <th>5</th>\n",
       "      <td>ICC3k</td>\n",
       "      <td>Average fixed raters</td>\n",
       "      <td>0.830702</td>\n",
       "      <td>5.906738</td>\n",
       "      <td>23</td>\n",
       "      <td>23</td>\n",
       "      <td>0.000035</td>\n",
       "      <td>[0.61, 0.93]</td>\n",
       "    </tr>\n",
       "  </tbody>\n",
       "</table>\n",
       "</div>"
      ],
      "text/plain": [
       "    Type              Description       ICC         F  df1  df2      pval  \\\n",
       "0   ICC1   Single raters absolute  0.712113  5.947182   23   24  0.000024   \n",
       "1   ICC2     Single random raters  0.711829  5.906738   23   23  0.000035   \n",
       "2   ICC3      Single fixed raters  0.710428  5.906738   23   23  0.000035   \n",
       "3  ICC1k  Average raters absolute  0.831853  5.947182   23   24  0.000024   \n",
       "4  ICC2k    Average random raters  0.831659  5.906738   23   23  0.000035   \n",
       "5  ICC3k     Average fixed raters  0.830702  5.906738   23   23  0.000035   \n",
       "\n",
       "          CI95%  \n",
       "0  [0.45, 0.86]  \n",
       "1  [0.44, 0.86]  \n",
       "2  [0.44, 0.86]  \n",
       "3  [0.62, 0.93]  \n",
       "4  [0.61, 0.93]  \n",
       "5  [0.61, 0.93]  "
      ]
     },
     "execution_count": 118,
     "metadata": {},
     "output_type": "execute_result"
    }
   ],
   "source": [
    "calculate_icc(ai_depth_model3, manual_depth)"
   ]
  },
  {
   "cell_type": "code",
   "execution_count": 119,
   "metadata": {},
   "outputs": [
    {
     "data": {
      "text/html": [
       "<div>\n",
       "<style scoped>\n",
       "    .dataframe tbody tr th:only-of-type {\n",
       "        vertical-align: middle;\n",
       "    }\n",
       "\n",
       "    .dataframe tbody tr th {\n",
       "        vertical-align: top;\n",
       "    }\n",
       "\n",
       "    .dataframe thead th {\n",
       "        text-align: right;\n",
       "    }\n",
       "</style>\n",
       "<table border=\"1\" class=\"dataframe\">\n",
       "  <thead>\n",
       "    <tr style=\"text-align: right;\">\n",
       "      <th></th>\n",
       "      <th>Type</th>\n",
       "      <th>Description</th>\n",
       "      <th>ICC</th>\n",
       "      <th>F</th>\n",
       "      <th>df1</th>\n",
       "      <th>df2</th>\n",
       "      <th>pval</th>\n",
       "      <th>CI95%</th>\n",
       "    </tr>\n",
       "  </thead>\n",
       "  <tbody>\n",
       "    <tr>\n",
       "      <th>0</th>\n",
       "      <td>ICC1</td>\n",
       "      <td>Single raters absolute</td>\n",
       "      <td>0.813344</td>\n",
       "      <td>9.714903</td>\n",
       "      <td>23</td>\n",
       "      <td>24</td>\n",
       "      <td>2.442408e-07</td>\n",
       "      <td>[0.62, 0.91]</td>\n",
       "    </tr>\n",
       "    <tr>\n",
       "      <th>1</th>\n",
       "      <td>ICC2</td>\n",
       "      <td>Single random raters</td>\n",
       "      <td>0.813413</td>\n",
       "      <td>9.753308</td>\n",
       "      <td>23</td>\n",
       "      <td>23</td>\n",
       "      <td>3.712785e-07</td>\n",
       "      <td>[0.62, 0.91]</td>\n",
       "    </tr>\n",
       "    <tr>\n",
       "      <th>2</th>\n",
       "      <td>ICC3</td>\n",
       "      <td>Single fixed raters</td>\n",
       "      <td>0.814011</td>\n",
       "      <td>9.753308</td>\n",
       "      <td>23</td>\n",
       "      <td>23</td>\n",
       "      <td>3.712785e-07</td>\n",
       "      <td>[0.62, 0.92]</td>\n",
       "    </tr>\n",
       "    <tr>\n",
       "      <th>3</th>\n",
       "      <td>ICC1k</td>\n",
       "      <td>Average raters absolute</td>\n",
       "      <td>0.897065</td>\n",
       "      <td>9.714903</td>\n",
       "      <td>23</td>\n",
       "      <td>24</td>\n",
       "      <td>2.442408e-07</td>\n",
       "      <td>[0.77, 0.96]</td>\n",
       "    </tr>\n",
       "    <tr>\n",
       "      <th>4</th>\n",
       "      <td>ICC2k</td>\n",
       "      <td>Average random raters</td>\n",
       "      <td>0.897107</td>\n",
       "      <td>9.753308</td>\n",
       "      <td>23</td>\n",
       "      <td>23</td>\n",
       "      <td>3.712785e-07</td>\n",
       "      <td>[0.77, 0.96]</td>\n",
       "    </tr>\n",
       "    <tr>\n",
       "      <th>5</th>\n",
       "      <td>ICC3k</td>\n",
       "      <td>Average fixed raters</td>\n",
       "      <td>0.897471</td>\n",
       "      <td>9.753308</td>\n",
       "      <td>23</td>\n",
       "      <td>23</td>\n",
       "      <td>3.712785e-07</td>\n",
       "      <td>[0.76, 0.96]</td>\n",
       "    </tr>\n",
       "  </tbody>\n",
       "</table>\n",
       "</div>"
      ],
      "text/plain": [
       "    Type              Description       ICC         F  df1  df2          pval  \\\n",
       "0   ICC1   Single raters absolute  0.813344  9.714903   23   24  2.442408e-07   \n",
       "1   ICC2     Single random raters  0.813413  9.753308   23   23  3.712785e-07   \n",
       "2   ICC3      Single fixed raters  0.814011  9.753308   23   23  3.712785e-07   \n",
       "3  ICC1k  Average raters absolute  0.897065  9.714903   23   24  2.442408e-07   \n",
       "4  ICC2k    Average random raters  0.897107  9.753308   23   23  3.712785e-07   \n",
       "5  ICC3k     Average fixed raters  0.897471  9.753308   23   23  3.712785e-07   \n",
       "\n",
       "          CI95%  \n",
       "0  [0.62, 0.91]  \n",
       "1  [0.62, 0.91]  \n",
       "2  [0.62, 0.92]  \n",
       "3  [0.77, 0.96]  \n",
       "4  [0.77, 0.96]  \n",
       "5  [0.76, 0.96]  "
      ]
     },
     "execution_count": 119,
     "metadata": {},
     "output_type": "execute_result"
    }
   ],
   "source": [
    "calculate_icc(ai_arc_model3, manual_arc)"
   ]
  },
  {
   "cell_type": "code",
   "execution_count": 120,
   "metadata": {},
   "outputs": [
    {
     "data": {
      "text/html": [
       "<div>\n",
       "<style scoped>\n",
       "    .dataframe tbody tr th:only-of-type {\n",
       "        vertical-align: middle;\n",
       "    }\n",
       "\n",
       "    .dataframe tbody tr th {\n",
       "        vertical-align: top;\n",
       "    }\n",
       "\n",
       "    .dataframe thead th {\n",
       "        text-align: right;\n",
       "    }\n",
       "</style>\n",
       "<table border=\"1\" class=\"dataframe\">\n",
       "  <thead>\n",
       "    <tr style=\"text-align: right;\">\n",
       "      <th></th>\n",
       "      <th>Type</th>\n",
       "      <th>Description</th>\n",
       "      <th>ICC</th>\n",
       "      <th>F</th>\n",
       "      <th>df1</th>\n",
       "      <th>df2</th>\n",
       "      <th>pval</th>\n",
       "      <th>CI95%</th>\n",
       "    </tr>\n",
       "  </thead>\n",
       "  <tbody>\n",
       "    <tr>\n",
       "      <th>0</th>\n",
       "      <td>ICC1</td>\n",
       "      <td>Single raters absolute</td>\n",
       "      <td>0.766941</td>\n",
       "      <td>7.581508</td>\n",
       "      <td>23</td>\n",
       "      <td>24</td>\n",
       "      <td>2.680591e-06</td>\n",
       "      <td>[0.54, 0.89]</td>\n",
       "    </tr>\n",
       "    <tr>\n",
       "      <th>1</th>\n",
       "      <td>ICC2</td>\n",
       "      <td>Single random raters</td>\n",
       "      <td>0.770969</td>\n",
       "      <td>8.929096</td>\n",
       "      <td>23</td>\n",
       "      <td>23</td>\n",
       "      <td>8.563762e-07</td>\n",
       "      <td>[0.51, 0.9]</td>\n",
       "    </tr>\n",
       "    <tr>\n",
       "      <th>2</th>\n",
       "      <td>ICC3</td>\n",
       "      <td>Single fixed raters</td>\n",
       "      <td>0.798572</td>\n",
       "      <td>8.929096</td>\n",
       "      <td>23</td>\n",
       "      <td>23</td>\n",
       "      <td>8.563762e-07</td>\n",
       "      <td>[0.59, 0.91]</td>\n",
       "    </tr>\n",
       "    <tr>\n",
       "      <th>3</th>\n",
       "      <td>ICC1k</td>\n",
       "      <td>Average raters absolute</td>\n",
       "      <td>0.868100</td>\n",
       "      <td>7.581508</td>\n",
       "      <td>23</td>\n",
       "      <td>24</td>\n",
       "      <td>2.680591e-06</td>\n",
       "      <td>[0.7, 0.94]</td>\n",
       "    </tr>\n",
       "    <tr>\n",
       "      <th>4</th>\n",
       "      <td>ICC2k</td>\n",
       "      <td>Average random raters</td>\n",
       "      <td>0.870675</td>\n",
       "      <td>8.929096</td>\n",
       "      <td>23</td>\n",
       "      <td>23</td>\n",
       "      <td>8.563762e-07</td>\n",
       "      <td>[0.68, 0.95]</td>\n",
       "    </tr>\n",
       "    <tr>\n",
       "      <th>5</th>\n",
       "      <td>ICC3k</td>\n",
       "      <td>Average fixed raters</td>\n",
       "      <td>0.888007</td>\n",
       "      <td>8.929096</td>\n",
       "      <td>23</td>\n",
       "      <td>23</td>\n",
       "      <td>8.563762e-07</td>\n",
       "      <td>[0.74, 0.95]</td>\n",
       "    </tr>\n",
       "  </tbody>\n",
       "</table>\n",
       "</div>"
      ],
      "text/plain": [
       "    Type              Description       ICC         F  df1  df2          pval  \\\n",
       "0   ICC1   Single raters absolute  0.766941  7.581508   23   24  2.680591e-06   \n",
       "1   ICC2     Single random raters  0.770969  8.929096   23   23  8.563762e-07   \n",
       "2   ICC3      Single fixed raters  0.798572  8.929096   23   23  8.563762e-07   \n",
       "3  ICC1k  Average raters absolute  0.868100  7.581508   23   24  2.680591e-06   \n",
       "4  ICC2k    Average random raters  0.870675  8.929096   23   23  8.563762e-07   \n",
       "5  ICC3k     Average fixed raters  0.888007  8.929096   23   23  8.563762e-07   \n",
       "\n",
       "          CI95%  \n",
       "0  [0.54, 0.89]  \n",
       "1   [0.51, 0.9]  \n",
       "2  [0.59, 0.91]  \n",
       "3   [0.7, 0.94]  \n",
       "4  [0.68, 0.95]  \n",
       "5  [0.74, 0.95]  "
      ]
     },
     "execution_count": 120,
     "metadata": {},
     "output_type": "execute_result"
    }
   ],
   "source": [
    "calculate_icc(ai_thickness_model3, manual_thickness)"
   ]
  },
  {
   "cell_type": "code",
   "execution_count": null,
   "metadata": {},
   "outputs": [],
   "source": []
  }
 ],
 "metadata": {
  "kernelspec": {
   "display_name": "AIM_GIB_20_21",
   "language": "python",
   "name": "python3"
  },
  "language_info": {
   "codemirror_mode": {
    "name": "ipython",
    "version": 3
   },
   "file_extension": ".py",
   "mimetype": "text/x-python",
   "name": "python",
   "nbconvert_exporter": "python",
   "pygments_lexer": "ipython3",
   "version": "3.10.5"
  },
  "orig_nbformat": 4,
  "vscode": {
   "interpreter": {
    "hash": "462e317a3f4ac380d0132727a8f93c19f6cae5ddf77b9673682ed50a737c83c4"
   }
  }
 },
 "nbformat": 4,
 "nbformat_minor": 2
}
